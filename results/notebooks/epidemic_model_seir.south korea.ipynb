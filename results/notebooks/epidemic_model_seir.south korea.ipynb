{
 "cells": [
  {
   "cell_type": "markdown",
   "metadata": {
    "papermill": {
     "duration": 0.094865,
     "end_time": "2020-04-07T23:17:08.037973",
     "exception": false,
     "start_time": "2020-04-07T23:17:07.943108",
     "status": "completed"
    },
    "tags": []
   },
   "source": [
    "![Funcional Health Tech](logo.png \"Logo\")\n",
    "\n",
    "**COVID19 - Análise do Surto Brasileiro**"
   ]
  },
  {
   "cell_type": "markdown",
   "metadata": {
    "papermill": {
     "duration": 0.108269,
     "end_time": "2020-04-07T23:17:08.240350",
     "exception": false,
     "start_time": "2020-04-07T23:17:08.132081",
     "status": "completed"
    },
    "tags": []
   },
   "source": [
    "# Modelo Epidemiológico Clássico: SEIR\n",
    "\n",
    "Neste documento investigamos a dinâmica epidemiológica da COVID19 empregando um modelo cĺássico conhecido como SEIR e algumas variações imediatas. Uma vez definido o modelo, empregamos dados históricos para estimar seus parâmetros para o caso brasileiro. Essas estimativas são usadas então para gerar dois conjuntos de dados simulados: sem e com medidas de miticação. Esses dois resultados são salvos em arquivos CSV para uso posterior em outras análises.\n",
    "\n",
    "Esta implementação serve como base para investigações mais profundas, e pode ser customizada e usado de diversos modos por eventuais interessados. É possível, por exemplo, experimentar com medidas de mitigação diferentes.\n",
    "\n"
   ]
  },
  {
   "cell_type": "markdown",
   "metadata": {
    "papermill": {
     "duration": 0.09051,
     "end_time": "2020-04-07T23:17:08.423826",
     "exception": false,
     "start_time": "2020-04-07T23:17:08.333316",
     "status": "completed"
    },
    "tags": []
   },
   "source": [
    "**ADVERTÊNCIA:** os modelos e números aqui apresentados não são afirmações formais sobre o progresso da doença, mas apenas exercícios que demonstram técnicas de modelagem e cenários de aplicação."
   ]
  },
  {
   "cell_type": "markdown",
   "metadata": {
    "papermill": {
     "duration": 0.083132,
     "end_time": "2020-04-07T23:17:08.595972",
     "exception": false,
     "start_time": "2020-04-07T23:17:08.512840",
     "status": "completed"
    },
    "tags": []
   },
   "source": [
    "## Preliminares\n",
    "Bibliotecas, configurações e parâmetros."
   ]
  },
  {
   "cell_type": "code",
   "execution_count": 1,
   "metadata": {
    "execution": {
     "iopub.execute_input": "2020-04-07T23:17:08.807686Z",
     "iopub.status.busy": "2020-04-07T23:17:08.806800Z",
     "iopub.status.idle": "2020-04-07T23:17:09.866247Z",
     "shell.execute_reply": "2020-04-07T23:17:09.865616Z"
    },
    "papermill": {
     "duration": 1.155772,
     "end_time": "2020-04-07T23:17:09.866349",
     "exception": false,
     "start_time": "2020-04-07T23:17:08.710577",
     "status": "completed"
    },
    "tags": []
   },
   "outputs": [],
   "source": [
    "import os\n",
    "import math\n",
    "import hyperopt\n",
    "import pandas as pd\n",
    "import numpy as np\n",
    "import matplotlib.pyplot as plt\n",
    "plt.rcParams['figure.figsize'] = [16, 8]\n",
    "import seaborn as sns\n",
    "sns.set()\n",
    "\n",
    "from pandas.plotting import register_matplotlib_converters\n",
    "register_matplotlib_converters()"
   ]
  },
  {
   "cell_type": "code",
   "execution_count": 2,
   "metadata": {
    "execution": {
     "iopub.execute_input": "2020-04-07T23:17:10.042808Z",
     "iopub.status.busy": "2020-04-07T23:17:10.041368Z",
     "iopub.status.idle": "2020-04-07T23:17:10.043383Z",
     "shell.execute_reply": "2020-04-07T23:17:10.043900Z"
    },
    "papermill": {
     "duration": 0.091344,
     "end_time": "2020-04-07T23:17:10.044042",
     "exception": false,
     "start_time": "2020-04-07T23:17:09.952698",
     "status": "completed"
    },
    "tags": []
   },
   "outputs": [],
   "source": [
    "plt.style.use('fivethirtyeight')"
   ]
  },
  {
   "cell_type": "markdown",
   "metadata": {
    "papermill": {
     "duration": 0.091116,
     "end_time": "2020-04-07T23:17:10.215744",
     "exception": false,
     "start_time": "2020-04-07T23:17:10.124628",
     "status": "completed"
    },
    "tags": []
   },
   "source": [
    "## Parâmetros das Simulações\n",
    "\n",
    "Empregaremos simulações para efetivamente executar os modelos que serão desenvolvidos abaixo. Para tanto, é necessário definir-se alguns parâmetros gerais."
   ]
  },
  {
   "cell_type": "markdown",
   "metadata": {
    "papermill": {
     "duration": 0.158734,
     "end_time": "2020-04-07T23:17:10.473459",
     "exception": false,
     "start_time": "2020-04-07T23:17:10.314725",
     "status": "completed"
    },
    "tags": []
   },
   "source": [
    "Data de início da epidemia."
   ]
  },
  {
   "cell_type": "code",
   "execution_count": 3,
   "metadata": {
    "execution": {
     "iopub.execute_input": "2020-04-07T23:17:10.664398Z",
     "iopub.status.busy": "2020-04-07T23:17:10.663535Z",
     "iopub.status.idle": "2020-04-07T23:17:10.666098Z",
     "shell.execute_reply": "2020-04-07T23:17:10.665507Z"
    },
    "papermill": {
     "duration": 0.090969,
     "end_time": "2020-04-07T23:17:10.666189",
     "exception": false,
     "start_time": "2020-04-07T23:17:10.575220",
     "status": "completed"
    },
    "tags": []
   },
   "outputs": [],
   "source": [
    "epidemic_start_date = pd.Timestamp(2020, 3, 12)"
   ]
  },
  {
   "cell_type": "markdown",
   "metadata": {
    "papermill": {
     "duration": 0.101251,
     "end_time": "2020-04-07T23:17:10.878460",
     "exception": false,
     "start_time": "2020-04-07T23:17:10.777209",
     "status": "completed"
    },
    "tags": []
   },
   "source": [
    "Quantida de dias."
   ]
  },
  {
   "cell_type": "code",
   "execution_count": 4,
   "metadata": {
    "execution": {
     "iopub.execute_input": "2020-04-07T23:17:11.065931Z",
     "iopub.status.busy": "2020-04-07T23:17:11.065159Z",
     "iopub.status.idle": "2020-04-07T23:17:11.067136Z",
     "shell.execute_reply": "2020-04-07T23:17:11.067543Z"
    },
    "papermill": {
     "duration": 0.107363,
     "end_time": "2020-04-07T23:17:11.067671",
     "exception": false,
     "start_time": "2020-04-07T23:17:10.960308",
     "status": "completed"
    },
    "tags": []
   },
   "outputs": [],
   "source": [
    "epidemic_duration_in_days = 365"
   ]
  },
  {
   "cell_type": "markdown",
   "metadata": {
    "papermill": {
     "duration": 0.08646,
     "end_time": "2020-04-07T23:17:11.239963",
     "exception": false,
     "start_time": "2020-04-07T23:17:11.153503",
     "status": "completed"
    },
    "tags": []
   },
   "source": [
    "Tamanho da população."
   ]
  },
  {
   "cell_type": "code",
   "execution_count": 5,
   "metadata": {
    "execution": {
     "iopub.execute_input": "2020-04-07T23:17:11.413896Z",
     "iopub.status.busy": "2020-04-07T23:17:11.413095Z",
     "iopub.status.idle": "2020-04-07T23:17:11.415642Z",
     "shell.execute_reply": "2020-04-07T23:17:11.415075Z"
    },
    "papermill": {
     "duration": 0.08956,
     "end_time": "2020-04-07T23:17:11.415777",
     "exception": false,
     "start_time": "2020-04-07T23:17:11.326217",
     "status": "completed"
    },
    "tags": []
   },
   "outputs": [],
   "source": [
    "population_size = 200 * 1e6 #18000000"
   ]
  },
  {
   "cell_type": "markdown",
   "metadata": {
    "papermill": {
     "duration": 0.115933,
     "end_time": "2020-04-07T23:17:11.662224",
     "exception": false,
     "start_time": "2020-04-07T23:17:11.546291",
     "status": "completed"
    },
    "tags": []
   },
   "source": [
    "Infectados inicialmente."
   ]
  },
  {
   "cell_type": "code",
   "execution_count": 6,
   "metadata": {
    "execution": {
     "iopub.execute_input": "2020-04-07T23:17:11.871720Z",
     "iopub.status.busy": "2020-04-07T23:17:11.870929Z",
     "iopub.status.idle": "2020-04-07T23:17:11.873141Z",
     "shell.execute_reply": "2020-04-07T23:17:11.873541Z"
    },
    "papermill": {
     "duration": 0.098119,
     "end_time": "2020-04-07T23:17:11.873665",
     "exception": false,
     "start_time": "2020-04-07T23:17:11.775546",
     "status": "completed"
    },
    "tags": []
   },
   "outputs": [],
   "source": [
    "initially_infected = 52"
   ]
  },
  {
   "cell_type": "markdown",
   "metadata": {
    "papermill": {
     "duration": 0.09335,
     "end_time": "2020-04-07T23:17:12.050913",
     "exception": false,
     "start_time": "2020-04-07T23:17:11.957563",
     "status": "completed"
    },
    "tags": []
   },
   "source": [
    "Onde está a pasta base que contém os dados?"
   ]
  },
  {
   "cell_type": "code",
   "execution_count": 7,
   "metadata": {
    "execution": {
     "iopub.execute_input": "2020-04-07T23:17:12.703661Z",
     "iopub.status.busy": "2020-04-07T23:17:12.702823Z",
     "iopub.status.idle": "2020-04-07T23:17:12.704572Z",
     "shell.execute_reply": "2020-04-07T23:17:12.705106Z"
    },
    "papermill": {
     "duration": 0.557491,
     "end_time": "2020-04-07T23:17:12.705233",
     "exception": false,
     "start_time": "2020-04-07T23:17:12.147742",
     "status": "completed"
    },
    "tags": []
   },
   "outputs": [],
   "source": [
    "data_folder = '../data/'"
   ]
  },
  {
   "cell_type": "markdown",
   "metadata": {
    "papermill": {
     "duration": 0.084997,
     "end_time": "2020-04-07T23:17:12.881732",
     "exception": false,
     "start_time": "2020-04-07T23:17:12.796735",
     "status": "completed"
    },
    "tags": []
   },
   "source": [
    "Qual coluna dos dados históricos reais devemos usar para ajustar os parâmetros dos modelos?"
   ]
  },
  {
   "cell_type": "code",
   "execution_count": 8,
   "metadata": {
    "execution": {
     "iopub.execute_input": "2020-04-07T23:17:13.113461Z",
     "iopub.status.busy": "2020-04-07T23:17:13.112700Z",
     "iopub.status.idle": "2020-04-07T23:17:13.114475Z",
     "shell.execute_reply": "2020-04-07T23:17:13.114973Z"
    },
    "papermill": {
     "duration": 0.15251,
     "end_time": "2020-04-07T23:17:13.115090",
     "exception": false,
     "start_time": "2020-04-07T23:17:12.962580",
     "status": "completed"
    },
    "tags": []
   },
   "outputs": [],
   "source": [
    "data_column_to_fit = 'total_cases_ESTIMATED'"
   ]
  },
  {
   "cell_type": "markdown",
   "metadata": {
    "papermill": {
     "duration": 0.089358,
     "end_time": "2020-04-07T23:17:13.339253",
     "exception": false,
     "start_time": "2020-04-07T23:17:13.249895",
     "status": "completed"
    },
    "tags": []
   },
   "source": [
    "Quando empregarmos dados reais para calibrar os parâmetros do modelo, qual país devemos usar?"
   ]
  },
  {
   "cell_type": "code",
   "execution_count": 9,
   "metadata": {
    "execution": {
     "iopub.execute_input": "2020-04-07T23:17:13.531916Z",
     "iopub.status.busy": "2020-04-07T23:17:13.531145Z",
     "iopub.status.idle": "2020-04-07T23:17:13.533141Z",
     "shell.execute_reply": "2020-04-07T23:17:13.533561Z"
    },
    "papermill": {
     "duration": 0.090037,
     "end_time": "2020-04-07T23:17:13.533683",
     "exception": false,
     "start_time": "2020-04-07T23:17:13.443646",
     "status": "completed"
    },
    "tags": []
   },
   "outputs": [],
   "source": [
    "target_location = 'Brazil'"
   ]
  },
  {
   "cell_type": "markdown",
   "metadata": {
    "papermill": {
     "duration": 0.112151,
     "end_time": "2020-04-07T23:17:13.745374",
     "exception": false,
     "start_time": "2020-04-07T23:17:13.633223",
     "status": "completed"
    },
    "tags": []
   },
   "source": [
    "Devemos usar os dados disponíveis para modificar algum dos parâmetros acima? Em caso positivo, dados demográficos e epidêmicos serão substituídos."
   ]
  },
  {
   "cell_type": "code",
   "execution_count": 10,
   "metadata": {
    "execution": {
     "iopub.execute_input": "2020-04-07T23:17:13.927383Z",
     "iopub.status.busy": "2020-04-07T23:17:13.926662Z",
     "iopub.status.idle": "2020-04-07T23:17:13.929127Z",
     "shell.execute_reply": "2020-04-07T23:17:13.928611Z"
    },
    "papermill": {
     "duration": 0.096557,
     "end_time": "2020-04-07T23:17:13.929266",
     "exception": false,
     "start_time": "2020-04-07T23:17:13.832709",
     "status": "completed"
    },
    "tags": []
   },
   "outputs": [],
   "source": [
    "infer_parameters_from_data = True"
   ]
  },
  {
   "cell_type": "markdown",
   "metadata": {
    "papermill": {
     "duration": 0.090809,
     "end_time": "2020-04-07T23:17:14.107272",
     "exception": false,
     "start_time": "2020-04-07T23:17:14.016463",
     "status": "completed"
    },
    "tags": []
   },
   "source": [
    "Onde queremos armazenar resultados do modelo para posterior."
   ]
  },
  {
   "cell_type": "code",
   "execution_count": 11,
   "metadata": {
    "execution": {
     "iopub.execute_input": "2020-04-07T23:17:14.290011Z",
     "iopub.status.busy": "2020-04-07T23:17:14.289202Z",
     "iopub.status.idle": "2020-04-07T23:17:14.291664Z",
     "shell.execute_reply": "2020-04-07T23:17:14.291124Z"
    },
    "papermill": {
     "duration": 0.098025,
     "end_time": "2020-04-07T23:17:14.291748",
     "exception": false,
     "start_time": "2020-04-07T23:17:14.193723",
     "status": "completed"
    },
    "tags": []
   },
   "outputs": [],
   "source": [
    "results_folder = '../results/'"
   ]
  },
  {
   "cell_type": "markdown",
   "metadata": {
    "papermill": {
     "duration": 0.084838,
     "end_time": "2020-04-07T23:17:14.477743",
     "exception": false,
     "start_time": "2020-04-07T23:17:14.392905",
     "status": "completed"
    },
    "tags": []
   },
   "source": [
    "Algum suffixo adicional para marcar o nome dos resultados salvos?"
   ]
  },
  {
   "cell_type": "code",
   "execution_count": 12,
   "metadata": {
    "execution": {
     "iopub.execute_input": "2020-04-07T23:17:14.684650Z",
     "iopub.status.busy": "2020-04-07T23:17:14.683783Z",
     "iopub.status.idle": "2020-04-07T23:17:14.685435Z",
     "shell.execute_reply": "2020-04-07T23:17:14.685964Z"
    },
    "papermill": {
     "duration": 0.123659,
     "end_time": "2020-04-07T23:17:14.686095",
     "exception": false,
     "start_time": "2020-04-07T23:17:14.562436",
     "status": "completed"
    },
    "tags": []
   },
   "outputs": [],
   "source": [
    "results_suffix = ''"
   ]
  },
  {
   "cell_type": "markdown",
   "metadata": {
    "papermill": {
     "duration": 0.087789,
     "end_time": "2020-04-07T23:17:14.867340",
     "exception": false,
     "start_time": "2020-04-07T23:17:14.779551",
     "status": "completed"
    },
    "tags": []
   },
   "source": [
    "### Parâmetros Injetados Externamente"
   ]
  },
  {
   "cell_type": "markdown",
   "metadata": {
    "papermill": {
     "duration": 0.090801,
     "end_time": "2020-04-07T23:17:15.044631",
     "exception": false,
     "start_time": "2020-04-07T23:17:14.953830",
     "status": "completed"
    },
    "tags": []
   },
   "source": [
    "Este *notebook* pode também ser executado com a biblioteca [papermill](https://papermill.readthedocs.io/en/latest/index.html), de modo a customizar parâmetros sem a necessidade de editá-los diretamente aqui. Tais parâmetros customizados serão colocados na célula abaixo quando existirem, e assim tomarão o lugar dos valores dados acima."
   ]
  },
  {
   "cell_type": "code",
   "execution_count": 13,
   "metadata": {
    "execution": {
     "iopub.execute_input": "2020-04-07T23:17:15.290019Z",
     "iopub.status.busy": "2020-04-07T23:17:15.289260Z",
     "iopub.status.idle": "2020-04-07T23:17:15.291683Z",
     "shell.execute_reply": "2020-04-07T23:17:15.291080Z"
    },
    "papermill": {
     "duration": 0.120715,
     "end_time": "2020-04-07T23:17:15.291777",
     "exception": false,
     "start_time": "2020-04-07T23:17:15.171062",
     "status": "completed"
    },
    "tags": [
     "parameters"
    ]
   },
   "outputs": [],
   "source": [
    "# custom papermill parameters"
   ]
  },
  {
   "cell_type": "code",
   "execution_count": 14,
   "metadata": {
    "execution": {
     "iopub.execute_input": "2020-04-07T23:17:15.500674Z",
     "iopub.status.busy": "2020-04-07T23:17:15.499671Z",
     "iopub.status.idle": "2020-04-07T23:17:15.501391Z",
     "shell.execute_reply": "2020-04-07T23:17:15.502121Z"
    },
    "papermill": {
     "duration": 0.103899,
     "end_time": "2020-04-07T23:17:15.502305",
     "exception": false,
     "start_time": "2020-04-07T23:17:15.398406",
     "status": "completed"
    },
    "tags": [
     "injected-parameters"
    ]
   },
   "outputs": [],
   "source": [
    "# Parameters\n",
    "target_location = \"South Korea\"\n",
    "infer_parameters_from_data = True\n",
    "results_suffix = \".south korea\"\n"
   ]
  },
  {
   "cell_type": "markdown",
   "metadata": {
    "papermill": {
     "duration": 0.098602,
     "end_time": "2020-04-07T23:17:15.701027",
     "exception": false,
     "start_time": "2020-04-07T23:17:15.602425",
     "status": "completed"
    },
    "tags": []
   },
   "source": [
    "## Funções Auxiliares\n",
    "\n",
    "E uma função para auxiliar no desenho de gráficos. Opcionalmente, se um nome de arquivo for especificado, a função irá salvar a imagem resultante."
   ]
  },
  {
   "cell_type": "code",
   "execution_count": 15,
   "metadata": {
    "execution": {
     "iopub.execute_input": "2020-04-07T23:17:15.892463Z",
     "iopub.status.busy": "2020-04-07T23:17:15.891582Z",
     "iopub.status.idle": "2020-04-07T23:17:15.893372Z",
     "shell.execute_reply": "2020-04-07T23:17:15.893883Z"
    },
    "papermill": {
     "duration": 0.10702,
     "end_time": "2020-04-07T23:17:15.894013",
     "exception": false,
     "start_time": "2020-04-07T23:17:15.786993",
     "status": "completed"
    },
    "tags": []
   },
   "outputs": [],
   "source": [
    "def plot_simulation_output(df_simulated_data, zoom_on=None, zoom_length=60, file_path_base=results_folder, file_name=None):\n",
    "    df_simulated_data = df_simulated_data[['S', 'E', 'I', 'R', 'E+I', 'E+I+R']]\n",
    "    \n",
    "    def aux_file_path(x):\n",
    "        return file_path_base + 'seir_' + file_name + f'_{target_location.lower()}_{x}' + results_suffix + '.png'\n",
    "        \n",
    "    ax = sns.lineplot(data=df_simulated_data)\n",
    "    ax.set_title('Visão Geral da Epidemia')\n",
    "    if file_name is not None:\n",
    "        ax.figure.savefig(aux_file_path('overview'), format='png')\n",
    "    plt.figure()\n",
    "    \n",
    "    ax = sns.lineplot(data=df_simulated_data[['E', 'I', 'E+I', 'E+I+R']])\n",
    "    ax.set_title('Apenas Expostos e Infectados')\n",
    "    if file_name is not None:\n",
    "        ax.figure.savefig(aux_file_path('EI'), format='png')\n",
    "    plt.figure()\n",
    "    \n",
    "    if zoom_on is not None:\n",
    "        zoom_end = (pd.Timestamp(zoom_on) + pd.DateOffset(days=zoom_length)).date()\n",
    "        ax = sns.lineplot(data=df_simulated_data[['E', 'I', 'E+I', 'E+I+R']][zoom_on:zoom_end], markers=True)\n",
    "        if file_name is not None:\n",
    "            ax.figure.savefig(aux_file_path('EI-zoom'), format='png')\n",
    "        ax.set_title(f'Zoom (de {zoom_on} a {zoom_end})')\n",
    "        plt.figure()"
   ]
  },
  {
   "cell_type": "markdown",
   "metadata": {
    "papermill": {
     "duration": 0.090285,
     "end_time": "2020-04-07T23:17:16.167140",
     "exception": false,
     "start_time": "2020-04-07T23:17:16.076855",
     "status": "completed"
    },
    "tags": []
   },
   "source": [
    "## Leitura e Preparação de Dados para Calibragem de Modelos\n",
    "\n",
    "Mais adiante no *notebook*, empregaremos dados históricos observados para calibrar os parâmetros da simulação.  Vamos empregar dados do [Our World in Data](https://ourworldindata.org/coronavirus-source-data ). Convém assim tornar esses dados disponíveis. Isso inclui não apenas dados sobre a epidemia em si, mas também algumas informações demográficas adicionais. "
   ]
  },
  {
   "cell_type": "code",
   "execution_count": 16,
   "metadata": {
    "execution": {
     "iopub.execute_input": "2020-04-07T23:17:16.349493Z",
     "iopub.status.busy": "2020-04-07T23:17:16.348678Z",
     "iopub.status.idle": "2020-04-07T23:17:16.387031Z",
     "shell.execute_reply": "2020-04-07T23:17:16.387629Z"
    },
    "papermill": {
     "duration": 0.133438,
     "end_time": "2020-04-07T23:17:16.387755",
     "exception": false,
     "start_time": "2020-04-07T23:17:16.254317",
     "status": "completed"
    },
    "tags": []
   },
   "outputs": [
    {
     "data": {
      "text/html": [
       "<div>\n",
       "<style scoped>\n",
       "    .dataframe tbody tr th:only-of-type {\n",
       "        vertical-align: middle;\n",
       "    }\n",
       "\n",
       "    .dataframe tbody tr th {\n",
       "        vertical-align: top;\n",
       "    }\n",
       "\n",
       "    .dataframe thead th {\n",
       "        text-align: right;\n",
       "    }\n",
       "</style>\n",
       "<table border=\"1\" class=\"dataframe\">\n",
       "  <thead>\n",
       "    <tr style=\"text-align: right;\">\n",
       "      <th></th>\n",
       "      <th>date</th>\n",
       "      <th>location</th>\n",
       "      <th>new_cases</th>\n",
       "      <th>new_deaths</th>\n",
       "      <th>total_cases</th>\n",
       "      <th>total_deaths</th>\n",
       "      <th>countriesAndTerritories</th>\n",
       "      <th>continent</th>\n",
       "      <th>population_year</th>\n",
       "      <th>population</th>\n",
       "    </tr>\n",
       "  </thead>\n",
       "  <tbody>\n",
       "    <tr>\n",
       "      <th>0</th>\n",
       "      <td>2019-12-31</td>\n",
       "      <td>Afghanistan</td>\n",
       "      <td>0</td>\n",
       "      <td>0</td>\n",
       "      <td>0</td>\n",
       "      <td>0</td>\n",
       "      <td>Afghanistan</td>\n",
       "      <td>Asia</td>\n",
       "      <td>2020.0</td>\n",
       "      <td>38928341.0</td>\n",
       "    </tr>\n",
       "    <tr>\n",
       "      <th>1</th>\n",
       "      <td>2020-01-01</td>\n",
       "      <td>Afghanistan</td>\n",
       "      <td>0</td>\n",
       "      <td>0</td>\n",
       "      <td>0</td>\n",
       "      <td>0</td>\n",
       "      <td>Afghanistan</td>\n",
       "      <td>Asia</td>\n",
       "      <td>2020.0</td>\n",
       "      <td>38928341.0</td>\n",
       "    </tr>\n",
       "  </tbody>\n",
       "</table>\n",
       "</div>"
      ],
      "text/plain": [
       "        date     location  new_cases  new_deaths  total_cases  total_deaths  \\\n",
       "0 2019-12-31  Afghanistan          0           0            0             0   \n",
       "1 2020-01-01  Afghanistan          0           0            0             0   \n",
       "\n",
       "  countriesAndTerritories continent  population_year  population  \n",
       "0             Afghanistan      Asia           2020.0  38928341.0  \n",
       "1             Afghanistan      Asia           2020.0  38928341.0  "
      ]
     },
     "execution_count": 16,
     "metadata": {},
     "output_type": "execute_result"
    }
   ],
   "source": [
    "df_epidemy_data = pd.read_csv(f'{data_folder}ourworldindata.org/coronavirus-source-data/full_data.csv', parse_dates=['date'])\n",
    "df_locations_data = pd.read_csv(f'{data_folder}ourworldindata.org/coronavirus-source-data/locations.csv')\n",
    "\n",
    "# enrich epidemy data with additional demographic information\n",
    "df_epidemy_data = df_epidemy_data.merge(df_locations_data, on='location')\n",
    "df_epidemy_data.head(2)"
   ]
  },
  {
   "cell_type": "markdown",
   "metadata": {
    "papermill": {
     "duration": 0.092648,
     "end_time": "2020-04-07T23:17:16.575662",
     "exception": false,
     "start_time": "2020-04-07T23:17:16.483014",
     "status": "completed"
    },
    "tags": []
   },
   "source": [
    "Selecionemos apenas dados sobre o país de interesse."
   ]
  },
  {
   "cell_type": "code",
   "execution_count": 17,
   "metadata": {
    "execution": {
     "iopub.execute_input": "2020-04-07T23:17:16.765531Z",
     "iopub.status.busy": "2020-04-07T23:17:16.764707Z",
     "iopub.status.idle": "2020-04-07T23:17:16.770616Z",
     "shell.execute_reply": "2020-04-07T23:17:16.770014Z"
    },
    "papermill": {
     "duration": 0.102448,
     "end_time": "2020-04-07T23:17:16.770720",
     "exception": false,
     "start_time": "2020-04-07T23:17:16.668272",
     "status": "completed"
    },
    "tags": []
   },
   "outputs": [],
   "source": [
    "df_data_target = df_epidemy_data[df_epidemy_data['location']==target_location].copy().set_index(['date']).drop('location', axis=1)"
   ]
  },
  {
   "cell_type": "markdown",
   "metadata": {
    "papermill": {
     "duration": 0.093173,
     "end_time": "2020-04-07T23:17:16.960722",
     "exception": false,
     "start_time": "2020-04-07T23:17:16.867549",
     "status": "completed"
    },
    "tags": []
   },
   "source": [
    "Antes de prosseguir, vamos enriquer esses dados com algumas suposições."
   ]
  },
  {
   "cell_type": "code",
   "execution_count": 18,
   "metadata": {
    "execution": {
     "iopub.execute_input": "2020-04-07T23:17:17.206343Z",
     "iopub.status.busy": "2020-04-07T23:17:17.205380Z",
     "iopub.status.idle": "2020-04-07T23:17:17.715909Z",
     "shell.execute_reply": "2020-04-07T23:17:17.715101Z"
    },
    "papermill": {
     "duration": 0.659472,
     "end_time": "2020-04-07T23:17:17.716058",
     "exception": false,
     "start_time": "2020-04-07T23:17:17.056586",
     "status": "completed"
    },
    "tags": []
   },
   "outputs": [
    {
     "data": {
      "text/html": [
       "<div>\n",
       "<style scoped>\n",
       "    .dataframe tbody tr th:only-of-type {\n",
       "        vertical-align: middle;\n",
       "    }\n",
       "\n",
       "    .dataframe tbody tr th {\n",
       "        vertical-align: top;\n",
       "    }\n",
       "\n",
       "    .dataframe thead th {\n",
       "        text-align: right;\n",
       "    }\n",
       "</style>\n",
       "<table border=\"1\" class=\"dataframe\">\n",
       "  <thead>\n",
       "    <tr style=\"text-align: right;\">\n",
       "      <th></th>\n",
       "      <th>new_cases</th>\n",
       "      <th>new_deaths</th>\n",
       "      <th>total_cases</th>\n",
       "      <th>total_deaths</th>\n",
       "      <th>countriesAndTerritories</th>\n",
       "      <th>continent</th>\n",
       "      <th>population_year</th>\n",
       "      <th>population</th>\n",
       "      <th>total_cases_ESTIMATED</th>\n",
       "      <th>total_cases_ESTIMATED_2</th>\n",
       "    </tr>\n",
       "    <tr>\n",
       "      <th>date</th>\n",
       "      <th></th>\n",
       "      <th></th>\n",
       "      <th></th>\n",
       "      <th></th>\n",
       "      <th></th>\n",
       "      <th></th>\n",
       "      <th></th>\n",
       "      <th></th>\n",
       "      <th></th>\n",
       "      <th></th>\n",
       "    </tr>\n",
       "  </thead>\n",
       "  <tbody>\n",
       "    <tr>\n",
       "      <th>2020-04-03</th>\n",
       "      <td>86</td>\n",
       "      <td>5</td>\n",
       "      <td>10062</td>\n",
       "      <td>174</td>\n",
       "      <td>South_Korea</td>\n",
       "      <td>Asia</td>\n",
       "      <td>2020.0</td>\n",
       "      <td>51269183.0</td>\n",
       "      <td>NaN</td>\n",
       "      <td>100620</td>\n",
       "    </tr>\n",
       "    <tr>\n",
       "      <th>2020-04-04</th>\n",
       "      <td>94</td>\n",
       "      <td>3</td>\n",
       "      <td>10156</td>\n",
       "      <td>177</td>\n",
       "      <td>South_Korea</td>\n",
       "      <td>Asia</td>\n",
       "      <td>2020.0</td>\n",
       "      <td>51269183.0</td>\n",
       "      <td>NaN</td>\n",
       "      <td>101560</td>\n",
       "    </tr>\n",
       "    <tr>\n",
       "      <th>2020-04-05</th>\n",
       "      <td>81</td>\n",
       "      <td>6</td>\n",
       "      <td>10237</td>\n",
       "      <td>183</td>\n",
       "      <td>South_Korea</td>\n",
       "      <td>Asia</td>\n",
       "      <td>2020.0</td>\n",
       "      <td>51269183.0</td>\n",
       "      <td>NaN</td>\n",
       "      <td>102370</td>\n",
       "    </tr>\n",
       "    <tr>\n",
       "      <th>2020-04-06</th>\n",
       "      <td>47</td>\n",
       "      <td>3</td>\n",
       "      <td>10284</td>\n",
       "      <td>186</td>\n",
       "      <td>South_Korea</td>\n",
       "      <td>Asia</td>\n",
       "      <td>2020.0</td>\n",
       "      <td>51269183.0</td>\n",
       "      <td>NaN</td>\n",
       "      <td>102840</td>\n",
       "    </tr>\n",
       "    <tr>\n",
       "      <th>2020-04-07</th>\n",
       "      <td>47</td>\n",
       "      <td>6</td>\n",
       "      <td>10331</td>\n",
       "      <td>192</td>\n",
       "      <td>South_Korea</td>\n",
       "      <td>Asia</td>\n",
       "      <td>2020.0</td>\n",
       "      <td>51269183.0</td>\n",
       "      <td>NaN</td>\n",
       "      <td>103310</td>\n",
       "    </tr>\n",
       "  </tbody>\n",
       "</table>\n",
       "</div>"
      ],
      "text/plain": [
       "            new_cases  new_deaths  total_cases  total_deaths  \\\n",
       "date                                                           \n",
       "2020-04-03         86           5        10062           174   \n",
       "2020-04-04         94           3        10156           177   \n",
       "2020-04-05         81           6        10237           183   \n",
       "2020-04-06         47           3        10284           186   \n",
       "2020-04-07         47           6        10331           192   \n",
       "\n",
       "           countriesAndTerritories continent  population_year  population  \\\n",
       "date                                                                        \n",
       "2020-04-03             South_Korea      Asia           2020.0  51269183.0   \n",
       "2020-04-04             South_Korea      Asia           2020.0  51269183.0   \n",
       "2020-04-05             South_Korea      Asia           2020.0  51269183.0   \n",
       "2020-04-06             South_Korea      Asia           2020.0  51269183.0   \n",
       "2020-04-07             South_Korea      Asia           2020.0  51269183.0   \n",
       "\n",
       "            total_cases_ESTIMATED  total_cases_ESTIMATED_2  \n",
       "date                                                        \n",
       "2020-04-03                    NaN                   100620  \n",
       "2020-04-04                    NaN                   101560  \n",
       "2020-04-05                    NaN                   102370  \n",
       "2020-04-06                    NaN                   102840  \n",
       "2020-04-07                    NaN                   103310  "
      ]
     },
     "execution_count": 18,
     "metadata": {},
     "output_type": "execute_result"
    },
    {
     "data": {
      "image/png": "[encoded data removed]",
      "text/plain": [
       "<Figure size 1152x576 with 1 Axes>"
      ]
     },
     "metadata": {},
     "output_type": "display_data"
    }
   ],
   "source": [
    "df_data_target['total_cases_ESTIMATED'] = (df_data_target['total_deaths'] / 0.05).shift(-7)\n",
    "df_data_target['total_cases_ESTIMATED_2'] = 10 * df_data_target['total_cases']\n",
    "\n",
    "sns.lineplot(data=df_data_target[['total_cases', 'total_deaths']])\n",
    "df_data_target.tail()"
   ]
  },
  {
   "cell_type": "markdown",
   "metadata": {
    "papermill": {
     "duration": 0.08871,
     "end_time": "2020-04-07T23:17:17.902236",
     "exception": false,
     "start_time": "2020-04-07T23:17:17.813526",
     "status": "completed"
    },
    "tags": []
   },
   "source": [
    "### Substituição de Parâmetros\n",
    "\n",
    "Se requisitado, vamos substituir alguns dos parâmetros por valores presentes nos dados."
   ]
  },
  {
   "cell_type": "code",
   "execution_count": 19,
   "metadata": {
    "execution": {
     "iopub.execute_input": "2020-04-07T23:17:18.181494Z",
     "iopub.status.busy": "2020-04-07T23:17:18.180867Z",
     "iopub.status.idle": "2020-04-07T23:17:18.183353Z",
     "shell.execute_reply": "2020-04-07T23:17:18.183882Z"
    },
    "papermill": {
     "duration": 0.134633,
     "end_time": "2020-04-07T23:17:18.184002",
     "exception": false,
     "start_time": "2020-04-07T23:17:18.049369",
     "status": "completed"
    },
    "tags": []
   },
   "outputs": [
    {
     "data": {
      "text/plain": [
       "Timestamp('2020-02-20 00:00:00')"
      ]
     },
     "execution_count": 19,
     "metadata": {},
     "output_type": "execute_result"
    }
   ],
   "source": [
    "df_data_target[df_data_target['total_cases'] >= 50]['total_cases'].index[0]"
   ]
  },
  {
   "cell_type": "code",
   "execution_count": 20,
   "metadata": {
    "execution": {
     "iopub.execute_input": "2020-04-07T23:17:18.379533Z",
     "iopub.status.busy": "2020-04-07T23:17:18.378744Z",
     "iopub.status.idle": "2020-04-07T23:17:18.381152Z",
     "shell.execute_reply": "2020-04-07T23:17:18.381763Z"
    },
    "papermill": {
     "duration": 0.108151,
     "end_time": "2020-04-07T23:17:18.381900",
     "exception": false,
     "start_time": "2020-04-07T23:17:18.273749",
     "status": "completed"
    },
    "tags": []
   },
   "outputs": [
    {
     "name": "stdout",
     "output_type": "stream",
     "text": [
      "NEW VALUES: epidemic_start_date=2020-02-20 00:00:00, population_size=51269183.0, initially_infected=80\n"
     ]
    }
   ],
   "source": [
    "if infer_parameters_from_data:\n",
    "    epidemic_start_date = df_data_target[df_data_target['total_cases'] >= 50]['total_cases'].index[0]\n",
    "    \n",
    "    first_date_row = df_data_target.loc[epidemic_start_date]\n",
    "    population_size = first_date_row['population']\n",
    "    initially_infected = first_date_row['total_cases']\n",
    "    \n",
    "    print(f'NEW VALUES: epidemic_start_date={epidemic_start_date}, population_size={population_size}, initially_infected={initially_infected}')\n",
    "    "
   ]
  },
  {
   "cell_type": "markdown",
   "metadata": {
    "papermill": {
     "duration": 0.125048,
     "end_time": "2020-04-07T23:17:18.604705",
     "exception": false,
     "start_time": "2020-04-07T23:17:18.479657",
     "status": "completed"
    },
    "tags": []
   },
   "source": [
    "Filtremos os dados a partir da data de interesse."
   ]
  },
  {
   "cell_type": "code",
   "execution_count": 21,
   "metadata": {
    "execution": {
     "iopub.execute_input": "2020-04-07T23:17:18.800172Z",
     "iopub.status.busy": "2020-04-07T23:17:18.799301Z",
     "iopub.status.idle": "2020-04-07T23:17:18.801669Z",
     "shell.execute_reply": "2020-04-07T23:17:18.801244Z"
    },
    "papermill": {
     "duration": 0.09601,
     "end_time": "2020-04-07T23:17:18.801755",
     "exception": false,
     "start_time": "2020-04-07T23:17:18.705745",
     "status": "completed"
    },
    "tags": []
   },
   "outputs": [],
   "source": [
    "df_data_target = df_data_target[epidemic_start_date:]"
   ]
  },
  {
   "cell_type": "markdown",
   "metadata": {
    "papermill": {
     "duration": 0.097925,
     "end_time": "2020-04-07T23:17:18.995065",
     "exception": false,
     "start_time": "2020-04-07T23:17:18.897140",
     "status": "completed"
    },
    "tags": []
   },
   "source": [
    "## Modelo SEIR"
   ]
  },
  {
   "cell_type": "markdown",
   "metadata": {
    "papermill": {
     "duration": 0.090904,
     "end_time": "2020-04-07T23:17:19.178235",
     "exception": false,
     "start_time": "2020-04-07T23:17:19.087331",
     "status": "completed"
    },
    "tags": []
   },
   "source": [
    "O [modelo SEIR](https://en.wikipedia.org/wiki/Compartmental_models_in_epidemiology) é um dos modos clássicos de se representar a dinâmica de epidemias. Trata-se de um chamado \"modelo de compartimento\", no qual temos alguns compartimentos principais:\n",
    "\n",
    "  - S(t): número de indivíduos suscetíveis em função do tempo.\n",
    "  - E(t): número de expostos, mas ainda não transmissores, em função do tempo.\n",
    "  - I(t): número de indivíduos infecciosos em função do tempo.\n",
    "  - R(t): número de indivíduos que se recuperam em função do tempo.\n",
    "  \n",
    "São também necessários dois outros parâmetros, que definem taxas de transição entre compartimentos:\n",
    "  \n",
    "  - beta: valor entre 0.0 e 1.0 que define a taxa de S para E (i.e., taxa de exposição)\n",
    "  - alpha: valor entre 0.0 e 1.0 que define a taxa de E para I (i.e., taxa de contaminação)\n",
    "  - gamma: valor entre 0.0 e 1.0 que define a taxa de I para R (i.e., taxa de recuperação)\n",
    "\n",
    "Tradicionalmente, esse modelo é tratado via equações diferenciais. Aqui, adotaremos uma implementação via simulações estocásticas, o que nos permitirá posteriormente realizar modificações variadas que talvez não sejam tratáveis analiticamente."
   ]
  },
  {
   "cell_type": "markdown",
   "metadata": {
    "papermill": {
     "duration": 0.092092,
     "end_time": "2020-04-07T23:17:19.360362",
     "exception": false,
     "start_time": "2020-04-07T23:17:19.268270",
     "status": "completed"
    },
    "tags": []
   },
   "source": [
    "### Funções Auxiliares\n",
    "\n",
    "Antes de prosseguir, vamos definir algumas funções auxliares que garantirão que os valores acrescidos ou subtraídos nos diversos compartimentos não ultrapassem valores limites."
   ]
  },
  {
   "cell_type": "code",
   "execution_count": 22,
   "metadata": {
    "execution": {
     "iopub.execute_input": "2020-04-07T23:17:19.595977Z",
     "iopub.status.busy": "2020-04-07T23:17:19.595159Z",
     "iopub.status.idle": "2020-04-07T23:17:19.596705Z",
     "shell.execute_reply": "2020-04-07T23:17:19.597249Z"
    },
    "papermill": {
     "duration": 0.098392,
     "end_time": "2020-04-07T23:17:19.597410",
     "exception": false,
     "start_time": "2020-04-07T23:17:19.499018",
     "status": "completed"
    },
    "tags": []
   },
   "outputs": [],
   "source": [
    "def aux_enforce_max_addition(Q, delta):\n",
    "    if Q - delta <= 0:\n",
    "        return Q\n",
    "    \n",
    "    else:\n",
    "        return delta\n",
    "    \n",
    "def aux_enforce_max_removal(Q, delta):\n",
    "    if Q + delta <= 0:\n",
    "        return -Q\n",
    "    else:\n",
    "        return delta"
   ]
  },
  {
   "cell_type": "markdown",
   "metadata": {
    "papermill": {
     "duration": 0.089791,
     "end_time": "2020-04-07T23:17:19.782971",
     "exception": false,
     "start_time": "2020-04-07T23:17:19.693180",
     "status": "completed"
    },
    "tags": []
   },
   "source": [
    "Ao longo de uma epidemia, é razoável supor que autoridades sanitárias e, de fato, a polulação como um todo, adotarão medidas que possam reduzir o contágio e melhorar as chances de recuperação. Isso pode ser modelado com parâmetros dinâmicos, supondo-se intervenções em momentos precisos do tempo. Assim, os parâmetros do modelo aqui proposto podem ser tanto escalares quanto dicionários que mapeiam instantes a valores naqueles instantes. Para que a simulação possa usar transparentemente qualquer caso, definimos a seguir uma função que extrai o valor do parâmetro conforme o caso."
   ]
  },
  {
   "cell_type": "code",
   "execution_count": 23,
   "metadata": {
    "execution": {
     "iopub.execute_input": "2020-04-07T23:17:19.972077Z",
     "iopub.status.busy": "2020-04-07T23:17:19.971229Z",
     "iopub.status.idle": "2020-04-07T23:17:19.972851Z",
     "shell.execute_reply": "2020-04-07T23:17:19.973424Z"
    },
    "papermill": {
     "duration": 0.098303,
     "end_time": "2020-04-07T23:17:19.973550",
     "exception": false,
     "start_time": "2020-04-07T23:17:19.875247",
     "status": "completed"
    },
    "tags": []
   },
   "outputs": [],
   "source": [
    "def param_at(param_var, t):\n",
    "    if isinstance(param_var, dict):\n",
    "        return param_var[t]\n",
    "    \n",
    "    else:\n",
    "        return param_var"
   ]
  },
  {
   "cell_type": "markdown",
   "metadata": {
    "papermill": {
     "duration": 0.091207,
     "end_time": "2020-04-07T23:17:20.191516",
     "exception": false,
     "start_time": "2020-04-07T23:17:20.100309",
     "status": "completed"
    },
    "tags": []
   },
   "source": [
    "Convém também ter uma função para montar as sequências de parâmetros (veremos um exemplo mais adiante para entender seu uso)."
   ]
  },
  {
   "cell_type": "code",
   "execution_count": 24,
   "metadata": {
    "execution": {
     "iopub.execute_input": "2020-04-07T23:17:20.381951Z",
     "iopub.status.busy": "2020-04-07T23:17:20.381212Z",
     "iopub.status.idle": "2020-04-07T23:17:20.384959Z",
     "shell.execute_reply": "2020-04-07T23:17:20.384348Z"
    },
    "papermill": {
     "duration": 0.101861,
     "end_time": "2020-04-07T23:17:20.385053",
     "exception": false,
     "start_time": "2020-04-07T23:17:20.283192",
     "status": "completed"
    },
    "tags": []
   },
   "outputs": [],
   "source": [
    "def dynamic_parameter(regimens, min_length):\n",
    "    i = 0\n",
    "    params = {}\n",
    "    last_value = None\n",
    "    min_length = int(min_length)\n",
    "    for value, length in regimens:\n",
    "        length = int(length)\n",
    "        param = {t: value for t in range(i, i + length)}\n",
    "        params.update(param)\n",
    "        i += length\n",
    "        last_value = value\n",
    "    \n",
    "    # if we do not have enough data, fill in the remaining entries with the last specified value\n",
    "    if i < min_length:\n",
    "        param = {t: last_value for t in range(i, i + min_length)}\n",
    "        params.update(param)\n",
    "\n",
    "    return params"
   ]
  },
  {
   "cell_type": "markdown",
   "metadata": {
    "papermill": {
     "duration": 0.123721,
     "end_time": "2020-04-07T23:17:20.600888",
     "exception": false,
     "start_time": "2020-04-07T23:17:20.477167",
     "status": "completed"
    },
    "tags": []
   },
   "source": [
    "### Funções dos Compartimentos\n",
    "\n",
    "Podemos agora definir a dinâmica dos diversos compartimentos contemplados no modelo."
   ]
  },
  {
   "cell_type": "code",
   "execution_count": 25,
   "metadata": {
    "execution": {
     "iopub.execute_input": "2020-04-07T23:17:20.792096Z",
     "iopub.status.busy": "2020-04-07T23:17:20.791231Z",
     "iopub.status.idle": "2020-04-07T23:17:20.793281Z",
     "shell.execute_reply": "2020-04-07T23:17:20.793681Z"
    },
    "papermill": {
     "duration": 0.09839,
     "end_time": "2020-04-07T23:17:20.793802",
     "exception": false,
     "start_time": "2020-04-07T23:17:20.695412",
     "status": "completed"
    },
    "tags": []
   },
   "outputs": [],
   "source": [
    "def s(t, S, E, I, R, alpha, beta, gamma):\n",
    "    delta = aux_enforce_max_removal(S, \n",
    "                                    -((param_at(beta, t) * I * S) / population_size))\n",
    "    \n",
    "    return delta"
   ]
  },
  {
   "cell_type": "code",
   "execution_count": 26,
   "metadata": {
    "execution": {
     "iopub.execute_input": "2020-04-07T23:17:21.019379Z",
     "iopub.status.busy": "2020-04-07T23:17:21.018457Z",
     "iopub.status.idle": "2020-04-07T23:17:21.021762Z",
     "shell.execute_reply": "2020-04-07T23:17:21.022197Z"
    },
    "papermill": {
     "duration": 0.134268,
     "end_time": "2020-04-07T23:17:21.022325",
     "exception": false,
     "start_time": "2020-04-07T23:17:20.888057",
     "status": "completed"
    },
    "tags": []
   },
   "outputs": [],
   "source": [
    "def e(t, S, E, I, R, alpha, beta, gamma):\n",
    "    delta_s = aux_enforce_max_addition(S, \n",
    "                                       ((param_at(beta, t) * I * S) / population_size))\n",
    "    \n",
    "    delta = aux_enforce_max_removal(E,  \n",
    "                                    param_at(delta_s, t) - param_at(alpha, t)*E)    \n",
    "    \n",
    "        \n",
    "    return delta"
   ]
  },
  {
   "cell_type": "code",
   "execution_count": 27,
   "metadata": {
    "execution": {
     "iopub.execute_input": "2020-04-07T23:17:21.270926Z",
     "iopub.status.busy": "2020-04-07T23:17:21.269823Z",
     "iopub.status.idle": "2020-04-07T23:17:21.271485Z",
     "shell.execute_reply": "2020-04-07T23:17:21.271997Z"
    },
    "papermill": {
     "duration": 0.160096,
     "end_time": "2020-04-07T23:17:21.272157",
     "exception": false,
     "start_time": "2020-04-07T23:17:21.112061",
     "status": "completed"
    },
    "tags": []
   },
   "outputs": [],
   "source": [
    "def i(t, S, E, I, R, alpha, beta, gamma):\n",
    "    delta_e = aux_enforce_max_addition(E, \n",
    "                                       param_at(alpha, t)*E)\n",
    "        \n",
    "    delta = aux_enforce_max_removal(I, \n",
    "                                    param_at(delta_e, t) - param_at(gamma, t)*I)\n",
    "        \n",
    "    return delta"
   ]
  },
  {
   "cell_type": "code",
   "execution_count": 28,
   "metadata": {
    "execution": {
     "iopub.execute_input": "2020-04-07T23:17:21.516063Z",
     "iopub.status.busy": "2020-04-07T23:17:21.515328Z",
     "iopub.status.idle": "2020-04-07T23:17:21.518372Z",
     "shell.execute_reply": "2020-04-07T23:17:21.517918Z"
    },
    "papermill": {
     "duration": 0.139515,
     "end_time": "2020-04-07T23:17:21.518463",
     "exception": false,
     "start_time": "2020-04-07T23:17:21.378948",
     "status": "completed"
    },
    "tags": []
   },
   "outputs": [],
   "source": [
    "def r(t, S, E, I, R, alpha, beta, gamma):\n",
    "    delta = aux_enforce_max_addition(I,\n",
    "                                     param_at(gamma, t)*I)\n",
    "    \n",
    "    return delta"
   ]
  },
  {
   "cell_type": "markdown",
   "metadata": {
    "papermill": {
     "duration": 0.092407,
     "end_time": "2020-04-07T23:17:21.704341",
     "exception": false,
     "start_time": "2020-04-07T23:17:21.611934",
     "status": "completed"
    },
    "tags": []
   },
   "source": [
    "Também convém poder calcular a variação dos compartimentos E e I para posterior análise."
   ]
  },
  {
   "cell_type": "code",
   "execution_count": 29,
   "metadata": {
    "execution": {
     "iopub.execute_input": "2020-04-07T23:17:22.031501Z",
     "iopub.status.busy": "2020-04-07T23:17:22.030750Z",
     "iopub.status.idle": "2020-04-07T23:17:22.035301Z",
     "shell.execute_reply": "2020-04-07T23:17:22.035707Z"
    },
    "papermill": {
     "duration": 0.164988,
     "end_time": "2020-04-07T23:17:22.035859",
     "exception": false,
     "start_time": "2020-04-07T23:17:21.870871",
     "status": "completed"
    },
    "tags": []
   },
   "outputs": [],
   "source": [
    "# how many new patients will be added to E\n",
    "def e_delta(t, S, E, I, R, alpha, beta, gamma):\n",
    "    delta_s = aux_enforce_max_addition(S, \n",
    "                                       ((param_at(beta, t) * I * S) / population_size))\n",
    "    \n",
    "    return delta_s"
   ]
  },
  {
   "cell_type": "code",
   "execution_count": 30,
   "metadata": {
    "execution": {
     "iopub.execute_input": "2020-04-07T23:17:22.234489Z",
     "iopub.status.busy": "2020-04-07T23:17:22.233706Z",
     "iopub.status.idle": "2020-04-07T23:17:22.235993Z",
     "shell.execute_reply": "2020-04-07T23:17:22.235544Z"
    },
    "papermill": {
     "duration": 0.11179,
     "end_time": "2020-04-07T23:17:22.236127",
     "exception": false,
     "start_time": "2020-04-07T23:17:22.124337",
     "status": "completed"
    },
    "tags": []
   },
   "outputs": [],
   "source": [
    "# how many new patients will be added to I\n",
    "def i_delta(t, S, E, I, R, alpha, beta, gamma):\n",
    "    delta_e = aux_enforce_max_addition(E, \n",
    "                                       param_at(alpha, t)*E)\n",
    "    \n",
    "    return delta_e"
   ]
  },
  {
   "cell_type": "code",
   "execution_count": 31,
   "metadata": {
    "execution": {
     "iopub.execute_input": "2020-04-07T23:17:22.468687Z",
     "iopub.status.busy": "2020-04-07T23:17:22.467828Z",
     "iopub.status.idle": "2020-04-07T23:17:22.469475Z",
     "shell.execute_reply": "2020-04-07T23:17:22.470045Z"
    },
    "papermill": {
     "duration": 0.119336,
     "end_time": "2020-04-07T23:17:22.470171",
     "exception": false,
     "start_time": "2020-04-07T23:17:22.350835",
     "status": "completed"
    },
    "tags": []
   },
   "outputs": [],
   "source": [
    "# how many new patients will be added to R\n",
    "def r_delta(t, S, E, I, R, alpha, beta, gamma):\n",
    "    delta_r = aux_enforce_max_addition(I,\n",
    "                                     param_at(gamma, t)*I)\n",
    "    \n",
    "    return delta_r"
   ]
  },
  {
   "cell_type": "markdown",
   "metadata": {
    "papermill": {
     "duration": 0.109473,
     "end_time": "2020-04-07T23:17:22.675251",
     "exception": false,
     "start_time": "2020-04-07T23:17:22.565778",
     "status": "completed"
    },
    "tags": []
   },
   "source": [
    "### Simulação\n",
    "\n",
    "A simulação então pode ser definida do seguinte modo."
   ]
  },
  {
   "cell_type": "code",
   "execution_count": 32,
   "metadata": {
    "execution": {
     "iopub.execute_input": "2020-04-07T23:17:22.880702Z",
     "iopub.status.busy": "2020-04-07T23:17:22.879830Z",
     "iopub.status.idle": "2020-04-07T23:17:22.886066Z",
     "shell.execute_reply": "2020-04-07T23:17:22.886602Z"
    },
    "papermill": {
     "duration": 0.109234,
     "end_time": "2020-04-07T23:17:22.886720",
     "exception": false,
     "start_time": "2020-04-07T23:17:22.777486",
     "status": "completed"
    },
    "tags": []
   },
   "outputs": [],
   "source": [
    "def simulate(S, E, I, R, alpha, beta, gamma, epidemic_start_date, epidemic_duration_in_days, \n",
    "             s_func, e_func, i_func, r_func, e_delta_func, i_delta_func, r_delta_func):\n",
    "    \n",
    "    generated_data = [] # initial data\n",
    "    \n",
    "    # changes start at 0\n",
    "    E_delta = 0\n",
    "    I_delta = 0 \n",
    "    R_delta = 0\n",
    "    \n",
    "    for t in range(0, epidemic_duration_in_days):\n",
    "        generated_data.append((S, E, E_delta, I, I_delta, R, R_delta))\n",
    "        \n",
    "        # main model components\n",
    "        S_next = S + s_func(t, S, E, I, R, alpha, beta, gamma)\n",
    "        E_next = E + e_func(t, S, E, I, R, alpha, beta, gamma)\n",
    "        I_next = I + i_func(t, S, E, I, R, alpha, beta, gamma)\n",
    "        R_next = R + r_func(t, S, E, I, R, alpha, beta, gamma)\n",
    "        \n",
    "        # added information for later analyses\n",
    "        I_delta = i_delta_func(t, S, E, I, R, alpha, beta, gamma)\n",
    "        E_delta = e_delta_func(t, S, E, I, R, alpha, beta, gamma)\n",
    "        R_delta = r_delta_func(t, S, E, I, R, alpha, beta, gamma)\n",
    "\n",
    "        # lockstep updates\n",
    "        S = S_next\n",
    "        E = E_next\n",
    "        I = I_next\n",
    "        R = R_next\n",
    "\n",
    "        assert math.isclose(S + E + I + R, population_size, rel_tol=1e-9, abs_tol=0.0), \"Population size must not change.\"\n",
    "    \n",
    "    df = pd.DataFrame(generated_data,\n",
    "                      columns=['S', 'E', 'E_delta', 'I', 'I_delta', 'R', 'R_delta'],\n",
    "                      index=pd.date_range(start=epidemic_start_date, periods=epidemic_duration_in_days, freq='D'))\n",
    "    \n",
    "    df['E+I'] = df['E'] + df['I']\n",
    "    df['E+I+R'] = df['E'] + df['I'] + df['R']\n",
    "    \n",
    "    return df"
   ]
  },
  {
   "cell_type": "markdown",
   "metadata": {
    "papermill": {
     "duration": 0.091366,
     "end_time": "2020-04-07T23:17:23.070990",
     "exception": false,
     "start_time": "2020-04-07T23:17:22.979624",
     "status": "completed"
    },
    "tags": []
   },
   "source": [
    "Podemos agora simular situações de interesse definindo os parâmetros do modelo."
   ]
  },
  {
   "cell_type": "code",
   "execution_count": 33,
   "metadata": {
    "execution": {
     "iopub.execute_input": "2020-04-07T23:17:23.282482Z",
     "iopub.status.busy": "2020-04-07T23:17:23.281656Z",
     "iopub.status.idle": "2020-04-07T23:17:23.283339Z",
     "shell.execute_reply": "2020-04-07T23:17:23.283848Z"
    },
    "papermill": {
     "duration": 0.099727,
     "end_time": "2020-04-07T23:17:23.283970",
     "exception": false,
     "start_time": "2020-04-07T23:17:23.184243",
     "status": "completed"
    },
    "tags": []
   },
   "outputs": [],
   "source": [
    "alpha = 0.9   # E to I rate\n",
    "beta = 0.8   # S to E rate\n",
    "gamma = 0.3  # I to R rate"
   ]
  },
  {
   "cell_type": "code",
   "execution_count": 34,
   "metadata": {
    "execution": {
     "iopub.execute_input": "2020-04-07T23:17:23.482539Z",
     "iopub.status.busy": "2020-04-07T23:17:23.481744Z",
     "iopub.status.idle": "2020-04-07T23:17:25.772227Z",
     "shell.execute_reply": "2020-04-07T23:17:25.772808Z"
    },
    "papermill": {
     "duration": 2.391827,
     "end_time": "2020-04-07T23:17:25.772936",
     "exception": false,
     "start_time": "2020-04-07T23:17:23.381109",
     "status": "completed"
    },
    "tags": []
   },
   "outputs": [
    {
     "data": {
      "text/html": [
       "<div>\n",
       "<style scoped>\n",
       "    .dataframe tbody tr th:only-of-type {\n",
       "        vertical-align: middle;\n",
       "    }\n",
       "\n",
       "    .dataframe tbody tr th {\n",
       "        vertical-align: top;\n",
       "    }\n",
       "\n",
       "    .dataframe thead th {\n",
       "        text-align: right;\n",
       "    }\n",
       "</style>\n",
       "<table border=\"1\" class=\"dataframe\">\n",
       "  <thead>\n",
       "    <tr style=\"text-align: right;\">\n",
       "      <th></th>\n",
       "      <th>S</th>\n",
       "      <th>E</th>\n",
       "      <th>E_delta</th>\n",
       "      <th>I</th>\n",
       "      <th>I_delta</th>\n",
       "      <th>R</th>\n",
       "      <th>R_delta</th>\n",
       "      <th>E+I</th>\n",
       "      <th>E+I+R</th>\n",
       "    </tr>\n",
       "  </thead>\n",
       "  <tbody>\n",
       "    <tr>\n",
       "      <th>2020-02-20</th>\n",
       "      <td>5.126910e+07</td>\n",
       "      <td>80.000000</td>\n",
       "      <td>0.000000</td>\n",
       "      <td>0.000000</td>\n",
       "      <td>0.000000</td>\n",
       "      <td>0.000000</td>\n",
       "      <td>0.000000</td>\n",
       "      <td>80.000000</td>\n",
       "      <td>80.000000</td>\n",
       "    </tr>\n",
       "    <tr>\n",
       "      <th>2020-02-21</th>\n",
       "      <td>5.126910e+07</td>\n",
       "      <td>8.000000</td>\n",
       "      <td>0.000000</td>\n",
       "      <td>72.000000</td>\n",
       "      <td>72.000000</td>\n",
       "      <td>0.000000</td>\n",
       "      <td>0.000000</td>\n",
       "      <td>80.000000</td>\n",
       "      <td>80.000000</td>\n",
       "    </tr>\n",
       "    <tr>\n",
       "      <th>2020-02-22</th>\n",
       "      <td>5.126905e+07</td>\n",
       "      <td>58.399910</td>\n",
       "      <td>57.599910</td>\n",
       "      <td>57.600000</td>\n",
       "      <td>7.200000</td>\n",
       "      <td>21.600000</td>\n",
       "      <td>21.600000</td>\n",
       "      <td>115.999910</td>\n",
       "      <td>137.599910</td>\n",
       "    </tr>\n",
       "    <tr>\n",
       "      <th>2020-02-23</th>\n",
       "      <td>5.126900e+07</td>\n",
       "      <td>51.919867</td>\n",
       "      <td>46.079876</td>\n",
       "      <td>92.879919</td>\n",
       "      <td>52.559919</td>\n",
       "      <td>38.880000</td>\n",
       "      <td>17.280000</td>\n",
       "      <td>144.799786</td>\n",
       "      <td>183.679786</td>\n",
       "    </tr>\n",
       "    <tr>\n",
       "      <th>2020-02-24</th>\n",
       "      <td>5.126893e+07</td>\n",
       "      <td>79.495656</td>\n",
       "      <td>74.303669</td>\n",
       "      <td>111.743824</td>\n",
       "      <td>46.727881</td>\n",
       "      <td>66.743976</td>\n",
       "      <td>27.863976</td>\n",
       "      <td>191.239480</td>\n",
       "      <td>257.983456</td>\n",
       "    </tr>\n",
       "  </tbody>\n",
       "</table>\n",
       "</div>"
      ],
      "text/plain": [
       "                       S          E    E_delta           I    I_delta  \\\n",
       "2020-02-20  5.126910e+07  80.000000   0.000000    0.000000   0.000000   \n",
       "2020-02-21  5.126910e+07   8.000000   0.000000   72.000000  72.000000   \n",
       "2020-02-22  5.126905e+07  58.399910  57.599910   57.600000   7.200000   \n",
       "2020-02-23  5.126900e+07  51.919867  46.079876   92.879919  52.559919   \n",
       "2020-02-24  5.126893e+07  79.495656  74.303669  111.743824  46.727881   \n",
       "\n",
       "                    R    R_delta         E+I       E+I+R  \n",
       "2020-02-20   0.000000   0.000000   80.000000   80.000000  \n",
       "2020-02-21   0.000000   0.000000   80.000000   80.000000  \n",
       "2020-02-22  21.600000  21.600000  115.999910  137.599910  \n",
       "2020-02-23  38.880000  17.280000  144.799786  183.679786  \n",
       "2020-02-24  66.743976  27.863976  191.239480  257.983456  "
      ]
     },
     "execution_count": 34,
     "metadata": {},
     "output_type": "execute_result"
    },
    {
     "data": {
      "image/png": "[encoded data removed]",
      "text/plain": [
       "<Figure size 1152x576 with 1 Axes>"
      ]
     },
     "metadata": {},
     "output_type": "display_data"
    },
    {
     "data": {
      "image/png": "[encoded data removed]",
      "text/plain": [
       "<Figure size 1152x576 with 1 Axes>"
      ]
     },
     "metadata": {},
     "output_type": "display_data"
    },
    {
     "data": {
      "image/png": "[encoded data removed]",
      "text/plain": [
       "<Figure size 1152x576 with 1 Axes>"
      ]
     },
     "metadata": {},
     "output_type": "display_data"
    },
    {
     "data": {
      "text/plain": [
       "<Figure size 1152x576 with 0 Axes>"
      ]
     },
     "metadata": {},
     "output_type": "display_data"
    }
   ],
   "source": [
    "df_simulation_data = simulate(S=population_size - initially_infected, \n",
    "                              E =initially_infected, \n",
    "                              I=0, \n",
    "                              R=0, \n",
    "                              alpha=alpha, beta=beta, gamma=gamma, \n",
    "                              epidemic_start_date=epidemic_start_date,\n",
    "                              epidemic_duration_in_days=epidemic_duration_in_days, \n",
    "                              s_func=s, \n",
    "                              e_func=e, \n",
    "                              i_func=i, \n",
    "                              r_func=r,\n",
    "                              e_delta_func=e_delta,\n",
    "                              i_delta_func=i_delta,\n",
    "                              r_delta_func=r_delta)\n",
    "\n",
    "plot_simulation_output(df_simulation_data, zoom_on='2020-04')\n",
    "df_simulation_data.head()"
   ]
  },
  {
   "cell_type": "markdown",
   "metadata": {
    "papermill": {
     "duration": 0.125518,
     "end_time": "2020-04-07T23:17:26.021291",
     "exception": false,
     "start_time": "2020-04-07T23:17:25.895773",
     "status": "completed"
    },
    "tags": []
   },
   "source": [
    "Como isso se compara visualmente com os dados reais observados?"
   ]
  },
  {
   "cell_type": "code",
   "execution_count": 35,
   "metadata": {
    "execution": {
     "iopub.execute_input": "2020-04-07T23:17:26.244546Z",
     "iopub.status.busy": "2020-04-07T23:17:26.243723Z",
     "iopub.status.idle": "2020-04-07T23:17:26.895477Z",
     "shell.execute_reply": "2020-04-07T23:17:26.895979Z"
    },
    "papermill": {
     "duration": 0.766231,
     "end_time": "2020-04-07T23:17:26.896169",
     "exception": false,
     "start_time": "2020-04-07T23:17:26.129938",
     "status": "completed"
    },
    "tags": []
   },
   "outputs": [
    {
     "data": {
      "text/plain": [
       "<matplotlib.axes._subplots.AxesSubplot at 0x7f3424300ed0>"
      ]
     },
     "execution_count": 35,
     "metadata": {},
     "output_type": "execute_result"
    },
    {
     "data": {
      "image/png": "[encoded data removed]",
      "text/plain": [
       "<Figure size 1152x576 with 1 Axes>"
      ]
     },
     "metadata": {},
     "output_type": "display_data"
    }
   ],
   "source": [
    "comparison_date = pd.Timestamp.today() - pd.DateOffset(days=1)\n",
    "df_simulation_vs_real = pd.concat([df_simulation_data, df_data_target], axis=1)\n",
    "sns.lineplot(data=df_simulation_vs_real[['E+I+R', 'E+I', 'total_cases', 'total_cases_ESTIMATED']]\\\n",
    "                                       [comparison_date - pd.DateOffset(days=20):comparison_date], \n",
    "             markers=True)"
   ]
  },
  {
   "cell_type": "markdown",
   "metadata": {
    "papermill": {
     "duration": 0.18851,
     "end_time": "2020-04-07T23:17:27.200993",
     "exception": false,
     "start_time": "2020-04-07T23:17:27.012483",
     "status": "completed"
    },
    "tags": []
   },
   "source": [
    "Vejamos um exemplo agora de parâmetro dinâmico. Vamos definir o parâmetro *beta* como 0.3 nos primeiros 30 dias, 0.25 nos 60 dias seguintes e 0.2 daí em diante."
   ]
  },
  {
   "cell_type": "code",
   "execution_count": 36,
   "metadata": {
    "execution": {
     "iopub.execute_input": "2020-04-07T23:17:27.432784Z",
     "iopub.status.busy": "2020-04-07T23:17:27.431986Z",
     "iopub.status.idle": "2020-04-07T23:17:27.433866Z",
     "shell.execute_reply": "2020-04-07T23:17:27.434401Z"
    },
    "papermill": {
     "duration": 0.119012,
     "end_time": "2020-04-07T23:17:27.434526",
     "exception": false,
     "start_time": "2020-04-07T23:17:27.315514",
     "status": "completed"
    },
    "tags": []
   },
   "outputs": [],
   "source": [
    "beta = dynamic_parameter([(0.3, 30), \n",
    "                          (0.1, 60), \n",
    "                          (0.05, epidemic_duration_in_days)], min_length=epidemic_duration_in_days)\n"
   ]
  },
  {
   "cell_type": "code",
   "execution_count": 37,
   "metadata": {
    "execution": {
     "iopub.execute_input": "2020-04-07T23:17:27.730429Z",
     "iopub.status.busy": "2020-04-07T23:17:27.718291Z",
     "iopub.status.idle": "2020-04-07T23:17:29.404699Z",
     "shell.execute_reply": "2020-04-07T23:17:29.405168Z"
    },
    "papermill": {
     "duration": 1.861972,
     "end_time": "2020-04-07T23:17:29.405307",
     "exception": false,
     "start_time": "2020-04-07T23:17:27.543335",
     "status": "completed"
    },
    "tags": []
   },
   "outputs": [
    {
     "data": {
      "text/html": [
       "<div>\n",
       "<style scoped>\n",
       "    .dataframe tbody tr th:only-of-type {\n",
       "        vertical-align: middle;\n",
       "    }\n",
       "\n",
       "    .dataframe tbody tr th {\n",
       "        vertical-align: top;\n",
       "    }\n",
       "\n",
       "    .dataframe thead th {\n",
       "        text-align: right;\n",
       "    }\n",
       "</style>\n",
       "<table border=\"1\" class=\"dataframe\">\n",
       "  <thead>\n",
       "    <tr style=\"text-align: right;\">\n",
       "      <th></th>\n",
       "      <th>S</th>\n",
       "      <th>E</th>\n",
       "      <th>E_delta</th>\n",
       "      <th>I</th>\n",
       "      <th>I_delta</th>\n",
       "      <th>R</th>\n",
       "      <th>R_delta</th>\n",
       "      <th>E+I</th>\n",
       "      <th>E+I+R</th>\n",
       "    </tr>\n",
       "  </thead>\n",
       "  <tbody>\n",
       "    <tr>\n",
       "      <th>2020-02-20</th>\n",
       "      <td>5.126910e+07</td>\n",
       "      <td>80.000000</td>\n",
       "      <td>0.000000</td>\n",
       "      <td>0.000000</td>\n",
       "      <td>0.000000</td>\n",
       "      <td>0.000000</td>\n",
       "      <td>0.000000</td>\n",
       "      <td>80.000000</td>\n",
       "      <td>80.000000</td>\n",
       "    </tr>\n",
       "    <tr>\n",
       "      <th>2020-02-21</th>\n",
       "      <td>5.126910e+07</td>\n",
       "      <td>8.000000</td>\n",
       "      <td>0.000000</td>\n",
       "      <td>72.000000</td>\n",
       "      <td>72.000000</td>\n",
       "      <td>0.000000</td>\n",
       "      <td>0.000000</td>\n",
       "      <td>80.000000</td>\n",
       "      <td>80.000000</td>\n",
       "    </tr>\n",
       "    <tr>\n",
       "      <th>2020-02-22</th>\n",
       "      <td>5.126908e+07</td>\n",
       "      <td>22.399966</td>\n",
       "      <td>21.599966</td>\n",
       "      <td>57.600000</td>\n",
       "      <td>7.200000</td>\n",
       "      <td>21.600000</td>\n",
       "      <td>21.600000</td>\n",
       "      <td>79.999966</td>\n",
       "      <td>101.599966</td>\n",
       "    </tr>\n",
       "    <tr>\n",
       "      <th>2020-02-23</th>\n",
       "      <td>5.126906e+07</td>\n",
       "      <td>19.519962</td>\n",
       "      <td>17.279966</td>\n",
       "      <td>60.479970</td>\n",
       "      <td>20.159970</td>\n",
       "      <td>38.880000</td>\n",
       "      <td>17.280000</td>\n",
       "      <td>79.999932</td>\n",
       "      <td>118.879932</td>\n",
       "    </tr>\n",
       "    <tr>\n",
       "      <th>2020-02-24</th>\n",
       "      <td>5.126905e+07</td>\n",
       "      <td>20.095945</td>\n",
       "      <td>18.143949</td>\n",
       "      <td>59.903945</td>\n",
       "      <td>17.567966</td>\n",
       "      <td>57.023991</td>\n",
       "      <td>18.143991</td>\n",
       "      <td>79.999890</td>\n",
       "      <td>137.023881</td>\n",
       "    </tr>\n",
       "  </tbody>\n",
       "</table>\n",
       "</div>"
      ],
      "text/plain": [
       "                       S          E    E_delta          I    I_delta  \\\n",
       "2020-02-20  5.126910e+07  80.000000   0.000000   0.000000   0.000000   \n",
       "2020-02-21  5.126910e+07   8.000000   0.000000  72.000000  72.000000   \n",
       "2020-02-22  5.126908e+07  22.399966  21.599966  57.600000   7.200000   \n",
       "2020-02-23  5.126906e+07  19.519962  17.279966  60.479970  20.159970   \n",
       "2020-02-24  5.126905e+07  20.095945  18.143949  59.903945  17.567966   \n",
       "\n",
       "                    R    R_delta        E+I       E+I+R  \n",
       "2020-02-20   0.000000   0.000000  80.000000   80.000000  \n",
       "2020-02-21   0.000000   0.000000  80.000000   80.000000  \n",
       "2020-02-22  21.600000  21.600000  79.999966  101.599966  \n",
       "2020-02-23  38.880000  17.280000  79.999932  118.879932  \n",
       "2020-02-24  57.023991  18.143991  79.999890  137.023881  "
      ]
     },
     "execution_count": 37,
     "metadata": {},
     "output_type": "execute_result"
    },
    {
     "data": {
      "image/png": "[encoded data removed]",
      "text/plain": [
       "<Figure size 1152x576 with 1 Axes>"
      ]
     },
     "metadata": {},
     "output_type": "display_data"
    },
    {
     "data": {
      "image/png": "[encoded data removed]",
      "text/plain": [
       "<Figure size 1152x576 with 1 Axes>"
      ]
     },
     "metadata": {},
     "output_type": "display_data"
    },
    {
     "data": {
      "text/plain": [
       "<Figure size 1152x576 with 0 Axes>"
      ]
     },
     "metadata": {},
     "output_type": "display_data"
    }
   ],
   "source": [
    "df_simulation_data = simulate(S=population_size - initially_infected, \n",
    "                              E =initially_infected, \n",
    "                              I=0, \n",
    "                              R=0, \n",
    "                              alpha=alpha, beta=beta, gamma=gamma, \n",
    "                              epidemic_start_date=epidemic_start_date,\n",
    "                              epidemic_duration_in_days=epidemic_duration_in_days, \n",
    "                              s_func=s, \n",
    "                              e_func=e, \n",
    "                              i_func=i, \n",
    "                              r_func=r,\n",
    "                              e_delta_func=e_delta,\n",
    "                              i_delta_func=i_delta,\n",
    "                              r_delta_func=r_delta)\n",
    "\n",
    "plot_simulation_output(df_simulation_data)\n",
    "df_simulation_data.head()"
   ]
  },
  {
   "cell_type": "markdown",
   "metadata": {
    "papermill": {
     "duration": 0.117371,
     "end_time": "2020-04-07T23:17:29.656283",
     "exception": false,
     "start_time": "2020-04-07T23:17:29.538912",
     "status": "completed"
    },
    "tags": []
   },
   "source": [
    "## Calibragem de Parâmetros\n",
    "\n",
    "Podemos agora confrontar os modelos acima com dados reais observados e, assim, encontrar os parâmetros que melhor aproximam a realidade."
   ]
  },
  {
   "cell_type": "markdown",
   "metadata": {
    "papermill": {
     "duration": 0.135714,
     "end_time": "2020-04-07T23:17:29.903576",
     "exception": false,
     "start_time": "2020-04-07T23:17:29.767862",
     "status": "completed"
    },
    "tags": []
   },
   "source": [
    "Faremos a busca de parâmetros empregando a biblioteca [hyperopt](https://github.com/hyperopt/hyperopt). Para tanto, precisamos definir uma função objetivo a ser otimizada. Aqui, essa função executa uma simulação com os parâmetros (*alpha*, *beta* e *gamma*) sugeridos, obtém a curva de infecções resultante e calcula o erro absoluto médio com relação às datas para as quais temos as observações reais."
   ]
  },
  {
   "cell_type": "code",
   "execution_count": 38,
   "metadata": {
    "execution": {
     "iopub.execute_input": "2020-04-07T23:17:30.172167Z",
     "iopub.status.busy": "2020-04-07T23:17:30.170578Z",
     "iopub.status.idle": "2020-04-07T23:17:30.172692Z",
     "shell.execute_reply": "2020-04-07T23:17:30.173201Z"
    },
    "papermill": {
     "duration": 0.14387,
     "end_time": "2020-04-07T23:17:30.173321",
     "exception": false,
     "start_time": "2020-04-07T23:17:30.029451",
     "status": "completed"
    },
    "tags": []
   },
   "outputs": [],
   "source": [
    "def objective_for_simulation(args):\n",
    "    ##################################################################\n",
    "    # What kind of parameters we are optimizing? Constant or dynamic?\n",
    "    ##################################################################\n",
    "    if 'constant' in args:\n",
    "        alpha, beta, gamma, t_min, t_max = args['constant']\n",
    "    elif 'dynamic' in args:\n",
    "        params_sets, t_min, t_max = args['dynamic'] # TODO\n",
    "        alpha = []\n",
    "        beta = []\n",
    "        gamma = []\n",
    "        for params in params_sets:\n",
    "            alpha.append((params['alpha'], int(params['duration'])))\n",
    "            beta.append((params['beta'], int(params['duration'])))\n",
    "            gamma.append((params['gamma'], int(params['duration'])))\n",
    "        \n",
    "        alpha = dynamic_parameter(alpha, min_length=epidemic_duration_in_days)\n",
    "        beta = dynamic_parameter(beta, min_length=epidemic_duration_in_days)\n",
    "        gamma = dynamic_parameter(gamma, min_length=epidemic_duration_in_days)\n",
    "        \n",
    "    ###########\n",
    "    # Simulate\n",
    "    ###########\n",
    "    df_simulation_data = simulate(S=population_size - initially_infected, \n",
    "                              E=initially_infected,\n",
    "                              I=0,\n",
    "                              R=0, \n",
    "                              alpha=alpha,beta=beta, gamma=gamma, \n",
    "                              epidemic_start_date=epidemic_start_date, \n",
    "                              epidemic_duration_in_days=epidemic_duration_in_days, \n",
    "                              s_func=s, \n",
    "                              e_func=e,  \n",
    "                              i_func=i, \n",
    "                              r_func=r,\n",
    "                              e_delta_func=e_delta,\n",
    "                              i_delta_func=i_delta,\n",
    "                              r_delta_func=r_delta)\n",
    "    \n",
    "    # run simulation\n",
    "    df_simulation_data_filtered = df_simulation_data[df_simulation_data.index.isin(df_data_target.index.values)]\n",
    "    \n",
    "    ###################\n",
    "    # Calculate error\n",
    "    ###################\n",
    "    df_diff_cases = df_data_target[data_column_to_fit] - \\\n",
    "                               (df_simulation_data_filtered['I'] + df_simulation_data_filtered['E'] + df_simulation_data_filtered['R'])\n",
    "    \n",
    "    # we can limit the temporal reach of the estimation if desired\n",
    "    if t_min is not None and t_max is not None:\n",
    "        df_diff_cases = df_diff_cases.iloc[t_min:t_max] \n",
    "    \n",
    "    values = df_diff_cases.dropna().values\n",
    "\n",
    "    mae = np.mean(abs(values)) #mean absolute error\n",
    "\n",
    "    return mae"
   ]
  },
  {
   "cell_type": "markdown",
   "metadata": {
    "papermill": {
     "duration": 0.114452,
     "end_time": "2020-04-07T23:17:30.427917",
     "exception": false,
     "start_time": "2020-04-07T23:17:30.313465",
     "status": "completed"
    },
    "tags": []
   },
   "source": [
    "### Com Parâmetros Constantes\n",
    "\n",
    "Suponhamos que os parâmetros do modelo sejam constantes, ou seja, que não haja mudanças de comportamento ou políticas ao longo da epidemia."
   ]
  },
  {
   "cell_type": "markdown",
   "metadata": {
    "papermill": {
     "duration": 0.114088,
     "end_time": "2020-04-07T23:17:30.654833",
     "exception": false,
     "start_time": "2020-04-07T23:17:30.540745",
     "status": "completed"
    },
    "tags": []
   },
   "source": [
    "Definimos então o espaço de busca dos parâmetros e efetivamente executamos a busca."
   ]
  },
  {
   "cell_type": "code",
   "execution_count": 39,
   "metadata": {
    "execution": {
     "iopub.execute_input": "2020-04-07T23:17:30.890855Z",
     "iopub.status.busy": "2020-04-07T23:17:30.890033Z",
     "iopub.status.idle": "2020-04-07T23:17:38.345712Z",
     "shell.execute_reply": "2020-04-07T23:17:38.346413Z"
    },
    "papermill": {
     "duration": 7.575746,
     "end_time": "2020-04-07T23:17:38.346554",
     "exception": false,
     "start_time": "2020-04-07T23:17:30.770808",
     "status": "completed"
    },
    "tags": []
   },
   "outputs": [
    {
     "name": "stdout",
     "output_type": "stream",
     "text": [
      "\r",
      "  0%|          | 0/300 [00:00<?, ?trial/s, best loss=?]"
     ]
    },
    {
     "name": "stdout",
     "output_type": "stream",
     "text": [
      "\r",
      "  2%|▏         | 7/300 [00:00<00:04, 64.45trial/s, best loss: 1047.9935906438304]"
     ]
    },
    {
     "name": "stdout",
     "output_type": "stream",
     "text": [
      "\r",
      "  4%|▎         | 11/300 [00:00<00:05, 50.37trial/s, best loss: 653.0669054534974]"
     ]
    },
    {
     "name": "stdout",
     "output_type": "stream",
     "text": [
      "\r",
      "  5%|▌         | 16/300 [00:00<00:05, 49.11trial/s, best loss: 562.3881306557539]"
     ]
    },
    {
     "name": "stdout",
     "output_type": "stream",
     "text": [
      "\r",
      "  7%|▋         | 22/300 [00:00<00:05, 50.71trial/s, best loss: 562.3881306557539]"
     ]
    },
    {
     "name": "stdout",
     "output_type": "stream",
     "text": [
      "\r",
      "  9%|▉         | 27/300 [00:00<00:05, 48.11trial/s, best loss: 562.3881306557539]"
     ]
    },
    {
     "name": "stdout",
     "output_type": "stream",
     "text": [
      "\r",
      " 11%|█         | 32/300 [00:00<00:05, 46.21trial/s, best loss: 562.3881306557539]"
     ]
    },
    {
     "name": "stdout",
     "output_type": "stream",
     "text": [
      "\r",
      " 12%|█▏        | 37/300 [00:00<00:05, 44.79trial/s, best loss: 562.3881306557539]"
     ]
    },
    {
     "name": "stdout",
     "output_type": "stream",
     "text": [
      "\r",
      " 14%|█▍        | 42/300 [00:00<00:05, 44.10trial/s, best loss: 562.3881306557539]"
     ]
    },
    {
     "name": "stdout",
     "output_type": "stream",
     "text": [
      "\r",
      " 16%|█▌        | 47/300 [00:01<00:05, 43.26trial/s, best loss: 562.3881306557539]"
     ]
    },
    {
     "name": "stdout",
     "output_type": "stream",
     "text": [
      "\r",
      " 17%|█▋        | 52/300 [00:01<00:05, 43.02trial/s, best loss: 444.9903371121216]"
     ]
    },
    {
     "name": "stdout",
     "output_type": "stream",
     "text": [
      "\r",
      " 19%|█▉        | 57/300 [00:01<00:05, 42.97trial/s, best loss: 444.9903371121216]"
     ]
    },
    {
     "name": "stdout",
     "output_type": "stream",
     "text": [
      "\r",
      " 21%|██        | 62/300 [00:01<00:05, 42.97trial/s, best loss: 444.9903371121216]"
     ]
    },
    {
     "name": "stdout",
     "output_type": "stream",
     "text": [
      "\r",
      " 22%|██▏       | 67/300 [00:01<00:05, 42.91trial/s, best loss: 444.9903371121216]"
     ]
    },
    {
     "name": "stdout",
     "output_type": "stream",
     "text": [
      "\r",
      " 24%|██▍       | 72/300 [00:01<00:05, 42.96trial/s, best loss: 444.9903371121216]"
     ]
    },
    {
     "name": "stdout",
     "output_type": "stream",
     "text": [
      "\r",
      " 26%|██▌       | 77/300 [00:01<00:05, 42.95trial/s, best loss: 444.4113177132104]"
     ]
    },
    {
     "name": "stdout",
     "output_type": "stream",
     "text": [
      "\r",
      " 27%|██▋       | 82/300 [00:01<00:05, 42.93trial/s, best loss: 401.4411313589498]"
     ]
    },
    {
     "name": "stdout",
     "output_type": "stream",
     "text": [
      "\r",
      " 29%|██▉       | 87/300 [00:01<00:05, 42.55trial/s, best loss: 401.4411313589498]"
     ]
    },
    {
     "name": "stdout",
     "output_type": "stream",
     "text": [
      "\r",
      " 31%|███       | 92/300 [00:02<00:04, 42.54trial/s, best loss: 401.4411313589498]"
     ]
    },
    {
     "name": "stdout",
     "output_type": "stream",
     "text": [
      "\r",
      " 32%|███▏      | 97/300 [00:02<00:04, 41.95trial/s, best loss: 401.4411313589498]"
     ]
    },
    {
     "name": "stdout",
     "output_type": "stream",
     "text": [
      "\r",
      " 34%|███▍      | 102/300 [00:02<00:04, 42.06trial/s, best loss: 401.4411313589498]"
     ]
    },
    {
     "name": "stdout",
     "output_type": "stream",
     "text": [
      "\r",
      " 36%|███▌      | 107/300 [00:02<00:04, 42.22trial/s, best loss: 401.4411313589498]"
     ]
    },
    {
     "name": "stdout",
     "output_type": "stream",
     "text": [
      "\r",
      " 37%|███▋      | 112/300 [00:02<00:04, 42.24trial/s, best loss: 401.4411313589498]"
     ]
    },
    {
     "name": "stdout",
     "output_type": "stream",
     "text": [
      "\r",
      " 39%|███▉      | 117/300 [00:02<00:04, 41.90trial/s, best loss: 401.4411313589498]"
     ]
    },
    {
     "name": "stdout",
     "output_type": "stream",
     "text": [
      "\r",
      " 41%|████      | 122/300 [00:02<00:04, 41.72trial/s, best loss: 401.4411313589498]"
     ]
    },
    {
     "name": "stdout",
     "output_type": "stream",
     "text": [
      "\r",
      " 42%|████▏     | 127/300 [00:02<00:04, 40.81trial/s, best loss: 401.4411313589498]"
     ]
    },
    {
     "name": "stdout",
     "output_type": "stream",
     "text": [
      "\r",
      " 44%|████▍     | 132/300 [00:03<00:04, 40.19trial/s, best loss: 401.4411313589498]"
     ]
    },
    {
     "name": "stdout",
     "output_type": "stream",
     "text": [
      "\r",
      " 46%|████▌     | 137/300 [00:03<00:04, 40.37trial/s, best loss: 401.4411313589498]"
     ]
    },
    {
     "name": "stdout",
     "output_type": "stream",
     "text": [
      "\r",
      " 47%|████▋     | 142/300 [00:03<00:03, 40.33trial/s, best loss: 401.4411313589498]"
     ]
    },
    {
     "name": "stdout",
     "output_type": "stream",
     "text": [
      "\r",
      " 49%|████▉     | 147/300 [00:03<00:03, 40.34trial/s, best loss: 401.4411313589498]"
     ]
    },
    {
     "name": "stdout",
     "output_type": "stream",
     "text": [
      "\r",
      " 51%|█████     | 152/300 [00:03<00:03, 40.25trial/s, best loss: 401.4411313589498]"
     ]
    },
    {
     "name": "stdout",
     "output_type": "stream",
     "text": [
      "\r",
      " 52%|█████▏    | 157/300 [00:03<00:03, 40.06trial/s, best loss: 401.4411313589498]"
     ]
    },
    {
     "name": "stdout",
     "output_type": "stream",
     "text": [
      "\r",
      " 54%|█████▍    | 162/300 [00:03<00:03, 40.27trial/s, best loss: 401.4411313589498]"
     ]
    },
    {
     "name": "stdout",
     "output_type": "stream",
     "text": [
      "\r",
      " 56%|█████▌    | 167/300 [00:03<00:03, 40.30trial/s, best loss: 401.4411313589498]"
     ]
    },
    {
     "name": "stdout",
     "output_type": "stream",
     "text": [
      "\r",
      " 57%|█████▋    | 172/300 [00:04<00:03, 40.41trial/s, best loss: 401.4411313589498]"
     ]
    },
    {
     "name": "stdout",
     "output_type": "stream",
     "text": [
      "\r",
      " 59%|█████▉    | 177/300 [00:04<00:03, 40.40trial/s, best loss: 401.4411313589498]"
     ]
    },
    {
     "name": "stdout",
     "output_type": "stream",
     "text": [
      "\r",
      " 61%|██████    | 182/300 [00:04<00:02, 40.47trial/s, best loss: 401.4411313589498]"
     ]
    },
    {
     "name": "stdout",
     "output_type": "stream",
     "text": [
      "\r",
      " 62%|██████▏   | 187/300 [00:04<00:02, 40.45trial/s, best loss: 401.4411313589498]"
     ]
    },
    {
     "name": "stdout",
     "output_type": "stream",
     "text": [
      "\r",
      " 64%|██████▍   | 192/300 [00:04<00:02, 40.29trial/s, best loss: 401.4411313589498]"
     ]
    },
    {
     "name": "stdout",
     "output_type": "stream",
     "text": [
      "\r",
      " 66%|██████▌   | 197/300 [00:04<00:02, 40.17trial/s, best loss: 401.4411313589498]"
     ]
    },
    {
     "name": "stdout",
     "output_type": "stream",
     "text": [
      "\r",
      " 67%|██████▋   | 202/300 [00:04<00:02, 39.97trial/s, best loss: 401.4411313589498]"
     ]
    },
    {
     "name": "stdout",
     "output_type": "stream",
     "text": [
      "\r",
      " 69%|██████▊   | 206/300 [00:04<00:02, 39.95trial/s, best loss: 401.4411313589498]"
     ]
    },
    {
     "name": "stdout",
     "output_type": "stream",
     "text": [
      "\r",
      " 70%|███████   | 210/300 [00:05<00:02, 39.92trial/s, best loss: 401.4411313589498]"
     ]
    },
    {
     "name": "stdout",
     "output_type": "stream",
     "text": [
      "\r",
      " 71%|███████▏  | 214/300 [00:05<00:02, 39.75trial/s, best loss: 401.4411313589498]"
     ]
    },
    {
     "name": "stdout",
     "output_type": "stream",
     "text": [
      "\r",
      " 73%|███████▎  | 218/300 [00:05<00:02, 39.39trial/s, best loss: 401.4411313589498]"
     ]
    },
    {
     "name": "stdout",
     "output_type": "stream",
     "text": [
      "\r",
      " 74%|███████▍  | 222/300 [00:05<00:01, 39.03trial/s, best loss: 401.4411313589498]"
     ]
    },
    {
     "name": "stdout",
     "output_type": "stream",
     "text": [
      "\r",
      " 75%|███████▌  | 226/300 [00:05<00:01, 38.87trial/s, best loss: 401.4411313589498]"
     ]
    },
    {
     "name": "stdout",
     "output_type": "stream",
     "text": [
      "\r",
      " 77%|███████▋  | 230/300 [00:05<00:01, 38.83trial/s, best loss: 401.4411313589498]"
     ]
    },
    {
     "name": "stdout",
     "output_type": "stream",
     "text": [
      "\r",
      " 78%|███████▊  | 234/300 [00:05<00:01, 38.83trial/s, best loss: 401.4411313589498]"
     ]
    },
    {
     "name": "stdout",
     "output_type": "stream",
     "text": [
      "\r",
      " 79%|███████▉  | 238/300 [00:05<00:01, 38.75trial/s, best loss: 401.4411313589498]"
     ]
    },
    {
     "name": "stdout",
     "output_type": "stream",
     "text": [
      "\r",
      " 81%|████████  | 242/300 [00:05<00:01, 37.78trial/s, best loss: 401.4411313589498]"
     ]
    },
    {
     "name": "stdout",
     "output_type": "stream",
     "text": [
      "\r",
      " 82%|████████▏ | 246/300 [00:05<00:01, 35.72trial/s, best loss: 401.4411313589498]"
     ]
    },
    {
     "name": "stdout",
     "output_type": "stream",
     "text": [
      "\r",
      " 83%|████████▎ | 250/300 [00:06<00:01, 36.59trial/s, best loss: 401.4411313589498]"
     ]
    },
    {
     "name": "stdout",
     "output_type": "stream",
     "text": [
      "\r",
      " 85%|████████▍ | 254/300 [00:06<00:01, 37.21trial/s, best loss: 401.4411313589498]"
     ]
    },
    {
     "name": "stdout",
     "output_type": "stream",
     "text": [
      "\r",
      " 86%|████████▌ | 258/300 [00:06<00:01, 37.63trial/s, best loss: 401.4411313589498]"
     ]
    },
    {
     "name": "stdout",
     "output_type": "stream",
     "text": [
      "\r",
      " 87%|████████▋ | 262/300 [00:06<00:01, 37.79trial/s, best loss: 401.4411313589498]"
     ]
    },
    {
     "name": "stdout",
     "output_type": "stream",
     "text": [
      "\r",
      " 89%|████████▊ | 266/300 [00:06<00:01, 32.39trial/s, best loss: 401.4411313589498]"
     ]
    },
    {
     "name": "stdout",
     "output_type": "stream",
     "text": [
      "\r",
      " 90%|█████████ | 270/300 [00:06<00:00, 33.88trial/s, best loss: 401.4411313589498]"
     ]
    },
    {
     "name": "stdout",
     "output_type": "stream",
     "text": [
      "\r",
      " 91%|█████████▏| 274/300 [00:06<00:00, 35.01trial/s, best loss: 401.4411313589498]"
     ]
    },
    {
     "name": "stdout",
     "output_type": "stream",
     "text": [
      "\r",
      " 93%|█████████▎| 278/300 [00:06<00:00, 35.84trial/s, best loss: 401.4411313589498]"
     ]
    },
    {
     "name": "stdout",
     "output_type": "stream",
     "text": [
      "\r",
      " 94%|█████████▍| 282/300 [00:06<00:00, 36.53trial/s, best loss: 401.4411313589498]"
     ]
    },
    {
     "name": "stdout",
     "output_type": "stream",
     "text": [
      "\r",
      " 95%|█████████▌| 286/300 [00:07<00:00, 37.11trial/s, best loss: 401.4411313589498]"
     ]
    },
    {
     "name": "stdout",
     "output_type": "stream",
     "text": [
      "\r",
      " 97%|█████████▋| 290/300 [00:07<00:00, 37.44trial/s, best loss: 401.4411313589498]"
     ]
    },
    {
     "name": "stdout",
     "output_type": "stream",
     "text": [
      "\r",
      " 98%|█████████▊| 294/300 [00:07<00:00, 37.68trial/s, best loss: 388.6159894911999]"
     ]
    },
    {
     "name": "stdout",
     "output_type": "stream",
     "text": [
      "\r",
      " 99%|█████████▉| 298/300 [00:07<00:00, 37.75trial/s, best loss: 388.6159894911999]"
     ]
    },
    {
     "name": "stdout",
     "output_type": "stream",
     "text": [
      "\r",
      "100%|██████████| 300/300 [00:07<00:00, 40.28trial/s, best loss: 388.6159894911999]"
     ]
    },
    {
     "name": "stdout",
     "output_type": "stream",
     "text": [
      "\n",
      "Best parameters found: {'alpha': 0.9976793537187689, 'beta': 0.9092444960640309, 'gamma': 0.8258404685571847}\n"
     ]
    }
   ],
   "source": [
    "#space = {'constant': (hyperopt.hp.uniform('alpha', 0.0, 1.0), hyperopt.hp.uniform('beta', 0.0, 1.0), hyperopt.hp.uniform('gamma', 0.0, 1.0), 0, None)}\n",
    "space = {'constant':(hyperopt.hp.uniform('alpha', 0.99, 1.0), hyperopt.hp.uniform('beta', 0.0, 1.0), hyperopt.hp.uniform('gamma', 0.0, 1.0), 0, None)}\n",
    "\n",
    "trials = hyperopt.Trials()\n",
    "best = hyperopt.fmin(objective_for_simulation, space, algo=hyperopt.tpe.suggest, max_evals=300, trials=trials)\n",
    "\n",
    "print(\"Best parameters found:\", best)"
   ]
  },
  {
   "cell_type": "code",
   "execution_count": 40,
   "metadata": {
    "execution": {
     "iopub.execute_input": "2020-04-07T23:17:38.801869Z",
     "iopub.status.busy": "2020-04-07T23:17:38.800629Z",
     "iopub.status.idle": "2020-04-07T23:17:38.802485Z",
     "shell.execute_reply": "2020-04-07T23:17:38.802971Z"
    },
    "papermill": {
     "duration": 0.147669,
     "end_time": "2020-04-07T23:17:38.803106",
     "exception": false,
     "start_time": "2020-04-07T23:17:38.655437",
     "status": "completed"
    },
    "tags": []
   },
   "outputs": [],
   "source": [
    "#trials.losses()\n",
    "#pd.Series(trials.losses()).plot(title='Loss during optimiztion')"
   ]
  },
  {
   "cell_type": "markdown",
   "metadata": {
    "papermill": {
     "duration": 0.135243,
     "end_time": "2020-04-07T23:17:39.071518",
     "exception": false,
     "start_time": "2020-04-07T23:17:38.936275",
     "status": "completed"
    },
    "tags": []
   },
   "source": [
    "Podemos então executar o modelo com os parâmetros encontrados e examinar as curvas de progressão da epidemia."
   ]
  },
  {
   "cell_type": "code",
   "execution_count": 41,
   "metadata": {
    "execution": {
     "iopub.execute_input": "2020-04-07T23:17:39.391867Z",
     "iopub.status.busy": "2020-04-07T23:17:39.391033Z",
     "iopub.status.idle": "2020-04-07T23:17:42.116421Z",
     "shell.execute_reply": "2020-04-07T23:17:42.117004Z"
    },
    "papermill": {
     "duration": 2.880692,
     "end_time": "2020-04-07T23:17:42.117137",
     "exception": false,
     "start_time": "2020-04-07T23:17:39.236445",
     "status": "completed"
    },
    "tags": []
   },
   "outputs": [
    {
     "data": {
      "text/html": [
       "<div>\n",
       "<style scoped>\n",
       "    .dataframe tbody tr th:only-of-type {\n",
       "        vertical-align: middle;\n",
       "    }\n",
       "\n",
       "    .dataframe tbody tr th {\n",
       "        vertical-align: top;\n",
       "    }\n",
       "\n",
       "    .dataframe thead th {\n",
       "        text-align: right;\n",
       "    }\n",
       "</style>\n",
       "<table border=\"1\" class=\"dataframe\">\n",
       "  <thead>\n",
       "    <tr style=\"text-align: right;\">\n",
       "      <th></th>\n",
       "      <th>S</th>\n",
       "      <th>E</th>\n",
       "      <th>E_delta</th>\n",
       "      <th>I</th>\n",
       "      <th>I_delta</th>\n",
       "      <th>R</th>\n",
       "      <th>R_delta</th>\n",
       "      <th>E+I</th>\n",
       "      <th>E+I+R</th>\n",
       "    </tr>\n",
       "  </thead>\n",
       "  <tbody>\n",
       "    <tr>\n",
       "      <th>2020-03-16</th>\n",
       "      <td>5.126744e+07</td>\n",
       "      <td>106.942061</td>\n",
       "      <td>106.698258</td>\n",
       "      <td>125.252079</td>\n",
       "      <td>104.814110</td>\n",
       "      <td>1507.257737</td>\n",
       "      <td>96.914027</td>\n",
       "      <td>232.194140</td>\n",
       "      <td>1739.451877</td>\n",
       "    </tr>\n",
       "    <tr>\n",
       "      <th>2020-03-17</th>\n",
       "      <td>5.126733e+07</td>\n",
       "      <td>114.129074</td>\n",
       "      <td>113.880899</td>\n",
       "      <td>128.507729</td>\n",
       "      <td>106.693886</td>\n",
       "      <td>1610.695973</td>\n",
       "      <td>103.438235</td>\n",
       "      <td>242.636803</td>\n",
       "      <td>1853.332776</td>\n",
       "    </tr>\n",
       "    <tr>\n",
       "      <th>2020-03-18</th>\n",
       "      <td>5.126721e+07</td>\n",
       "      <td>117.105575</td>\n",
       "      <td>116.840722</td>\n",
       "      <td>136.245067</td>\n",
       "      <td>113.864221</td>\n",
       "      <td>1716.822856</td>\n",
       "      <td>106.126883</td>\n",
       "      <td>253.350642</td>\n",
       "      <td>1970.173498</td>\n",
       "    </tr>\n",
       "    <tr>\n",
       "      <th>2020-03-19</th>\n",
       "      <td>5.126709e+07</td>\n",
       "      <td>124.147077</td>\n",
       "      <td>123.875317</td>\n",
       "      <td>140.562191</td>\n",
       "      <td>116.833814</td>\n",
       "      <td>1829.339546</td>\n",
       "      <td>112.516690</td>\n",
       "      <td>264.709269</td>\n",
       "      <td>2094.048815</td>\n",
       "    </tr>\n",
       "    <tr>\n",
       "      <th>2020-03-20</th>\n",
       "      <td>5.126696e+07</td>\n",
       "      <td>128.088280</td>\n",
       "      <td>127.800179</td>\n",
       "      <td>148.339221</td>\n",
       "      <td>123.858976</td>\n",
       "      <td>1945.421492</td>\n",
       "      <td>116.081946</td>\n",
       "      <td>276.427501</td>\n",
       "      <td>2221.848993</td>\n",
       "    </tr>\n",
       "  </tbody>\n",
       "</table>\n",
       "</div>"
      ],
      "text/plain": [
       "                       S           E     E_delta           I     I_delta  \\\n",
       "2020-03-16  5.126744e+07  106.942061  106.698258  125.252079  104.814110   \n",
       "2020-03-17  5.126733e+07  114.129074  113.880899  128.507729  106.693886   \n",
       "2020-03-18  5.126721e+07  117.105575  116.840722  136.245067  113.864221   \n",
       "2020-03-19  5.126709e+07  124.147077  123.875317  140.562191  116.833814   \n",
       "2020-03-20  5.126696e+07  128.088280  127.800179  148.339221  123.858976   \n",
       "\n",
       "                      R     R_delta         E+I        E+I+R  \n",
       "2020-03-16  1507.257737   96.914027  232.194140  1739.451877  \n",
       "2020-03-17  1610.695973  103.438235  242.636803  1853.332776  \n",
       "2020-03-18  1716.822856  106.126883  253.350642  1970.173498  \n",
       "2020-03-19  1829.339546  112.516690  264.709269  2094.048815  \n",
       "2020-03-20  1945.421492  116.081946  276.427501  2221.848993  "
      ]
     },
     "execution_count": 41,
     "metadata": {},
     "output_type": "execute_result"
    },
    {
     "data": {
      "image/png": "[encoded data removed]",
      "text/plain": [
       "<Figure size 1152x576 with 1 Axes>"
      ]
     },
     "metadata": {},
     "output_type": "display_data"
    },
    {
     "data": {
      "image/png": "[encoded data removed]",
      "text/plain": [
       "<Figure size 1152x576 with 1 Axes>"
      ]
     },
     "metadata": {},
     "output_type": "display_data"
    },
    {
     "data": {
      "image/png": "[encoded data removed]",
      "text/plain": [
       "<Figure size 1152x576 with 1 Axes>"
      ]
     },
     "metadata": {},
     "output_type": "display_data"
    },
    {
     "data": {
      "text/plain": [
       "<Figure size 1152x576 with 0 Axes>"
      ]
     },
     "metadata": {},
     "output_type": "display_data"
    }
   ],
   "source": [
    "alpha = best['alpha']\n",
    "beta  = best['beta']\n",
    "gamma = best['gamma']\n",
    "\n",
    "df_simulation_data = simulate(S=population_size - initially_infected, \n",
    "                              E=initially_infected,\n",
    "                              I=0,\n",
    "                              R=0, \n",
    "                              alpha=alpha, beta=beta, gamma=gamma, \n",
    "                              epidemic_start_date=epidemic_start_date, \n",
    "                              epidemic_duration_in_days=epidemic_duration_in_days, \n",
    "                              s_func=s, \n",
    "                              e_func=e,\n",
    "                              i_func=i, \n",
    "                              r_func=r,\n",
    "                              e_delta_func=e_delta,\n",
    "                              i_delta_func=i_delta,\n",
    "                              r_delta_func=r_delta)\n",
    "\n",
    "plot_simulation_output(df_simulation_data, zoom_on='2020-03', file_name='constant')\n",
    "df_simulation_data['2020-03-16':'2020-05-01'].head()"
   ]
  },
  {
   "cell_type": "markdown",
   "metadata": {
    "papermill": {
     "duration": 0.151255,
     "end_time": "2020-04-07T23:17:42.448646",
     "exception": false,
     "start_time": "2020-04-07T23:17:42.297391",
     "status": "completed"
    },
    "tags": []
   },
   "source": [
    "Como isso se compara visualmente com os dados reais observados?"
   ]
  },
  {
   "cell_type": "code",
   "execution_count": 42,
   "metadata": {
    "execution": {
     "iopub.execute_input": "2020-04-07T23:17:42.762789Z",
     "iopub.status.busy": "2020-04-07T23:17:42.761857Z",
     "iopub.status.idle": "2020-04-07T23:17:42.764994Z",
     "shell.execute_reply": "2020-04-07T23:17:42.765633Z"
    },
    "papermill": {
     "duration": 0.164344,
     "end_time": "2020-04-07T23:17:42.765775",
     "exception": false,
     "start_time": "2020-04-07T23:17:42.601431",
     "status": "completed"
    },
    "tags": []
   },
   "outputs": [
    {
     "data": {
      "text/html": [
       "<div>\n",
       "<style scoped>\n",
       "    .dataframe tbody tr th:only-of-type {\n",
       "        vertical-align: middle;\n",
       "    }\n",
       "\n",
       "    .dataframe tbody tr th {\n",
       "        vertical-align: top;\n",
       "    }\n",
       "\n",
       "    .dataframe thead th {\n",
       "        text-align: right;\n",
       "    }\n",
       "</style>\n",
       "<table border=\"1\" class=\"dataframe\">\n",
       "  <thead>\n",
       "    <tr style=\"text-align: right;\">\n",
       "      <th></th>\n",
       "      <th>new_cases</th>\n",
       "      <th>new_deaths</th>\n",
       "      <th>total_cases</th>\n",
       "      <th>total_deaths</th>\n",
       "      <th>countriesAndTerritories</th>\n",
       "      <th>continent</th>\n",
       "      <th>population_year</th>\n",
       "      <th>population</th>\n",
       "      <th>total_cases_ESTIMATED</th>\n",
       "      <th>total_cases_ESTIMATED_2</th>\n",
       "    </tr>\n",
       "    <tr>\n",
       "      <th>date</th>\n",
       "      <th></th>\n",
       "      <th></th>\n",
       "      <th></th>\n",
       "      <th></th>\n",
       "      <th></th>\n",
       "      <th></th>\n",
       "      <th></th>\n",
       "      <th></th>\n",
       "      <th></th>\n",
       "      <th></th>\n",
       "    </tr>\n",
       "  </thead>\n",
       "  <tbody>\n",
       "    <tr>\n",
       "      <th>2020-04-03</th>\n",
       "      <td>86</td>\n",
       "      <td>5</td>\n",
       "      <td>10062</td>\n",
       "      <td>174</td>\n",
       "      <td>South_Korea</td>\n",
       "      <td>Asia</td>\n",
       "      <td>2020.0</td>\n",
       "      <td>51269183.0</td>\n",
       "      <td>NaN</td>\n",
       "      <td>100620</td>\n",
       "    </tr>\n",
       "    <tr>\n",
       "      <th>2020-04-04</th>\n",
       "      <td>94</td>\n",
       "      <td>3</td>\n",
       "      <td>10156</td>\n",
       "      <td>177</td>\n",
       "      <td>South_Korea</td>\n",
       "      <td>Asia</td>\n",
       "      <td>2020.0</td>\n",
       "      <td>51269183.0</td>\n",
       "      <td>NaN</td>\n",
       "      <td>101560</td>\n",
       "    </tr>\n",
       "    <tr>\n",
       "      <th>2020-04-05</th>\n",
       "      <td>81</td>\n",
       "      <td>6</td>\n",
       "      <td>10237</td>\n",
       "      <td>183</td>\n",
       "      <td>South_Korea</td>\n",
       "      <td>Asia</td>\n",
       "      <td>2020.0</td>\n",
       "      <td>51269183.0</td>\n",
       "      <td>NaN</td>\n",
       "      <td>102370</td>\n",
       "    </tr>\n",
       "    <tr>\n",
       "      <th>2020-04-06</th>\n",
       "      <td>47</td>\n",
       "      <td>3</td>\n",
       "      <td>10284</td>\n",
       "      <td>186</td>\n",
       "      <td>South_Korea</td>\n",
       "      <td>Asia</td>\n",
       "      <td>2020.0</td>\n",
       "      <td>51269183.0</td>\n",
       "      <td>NaN</td>\n",
       "      <td>102840</td>\n",
       "    </tr>\n",
       "    <tr>\n",
       "      <th>2020-04-07</th>\n",
       "      <td>47</td>\n",
       "      <td>6</td>\n",
       "      <td>10331</td>\n",
       "      <td>192</td>\n",
       "      <td>South_Korea</td>\n",
       "      <td>Asia</td>\n",
       "      <td>2020.0</td>\n",
       "      <td>51269183.0</td>\n",
       "      <td>NaN</td>\n",
       "      <td>103310</td>\n",
       "    </tr>\n",
       "  </tbody>\n",
       "</table>\n",
       "</div>"
      ],
      "text/plain": [
       "            new_cases  new_deaths  total_cases  total_deaths  \\\n",
       "date                                                           \n",
       "2020-04-03         86           5        10062           174   \n",
       "2020-04-04         94           3        10156           177   \n",
       "2020-04-05         81           6        10237           183   \n",
       "2020-04-06         47           3        10284           186   \n",
       "2020-04-07         47           6        10331           192   \n",
       "\n",
       "           countriesAndTerritories continent  population_year  population  \\\n",
       "date                                                                        \n",
       "2020-04-03             South_Korea      Asia           2020.0  51269183.0   \n",
       "2020-04-04             South_Korea      Asia           2020.0  51269183.0   \n",
       "2020-04-05             South_Korea      Asia           2020.0  51269183.0   \n",
       "2020-04-06             South_Korea      Asia           2020.0  51269183.0   \n",
       "2020-04-07             South_Korea      Asia           2020.0  51269183.0   \n",
       "\n",
       "            total_cases_ESTIMATED  total_cases_ESTIMATED_2  \n",
       "date                                                        \n",
       "2020-04-03                    NaN                   100620  \n",
       "2020-04-04                    NaN                   101560  \n",
       "2020-04-05                    NaN                   102370  \n",
       "2020-04-06                    NaN                   102840  \n",
       "2020-04-07                    NaN                   103310  "
      ]
     },
     "execution_count": 42,
     "metadata": {},
     "output_type": "execute_result"
    }
   ],
   "source": [
    "df_data_target.tail()"
   ]
  },
  {
   "cell_type": "code",
   "execution_count": 43,
   "metadata": {
    "execution": {
     "iopub.execute_input": "2020-04-07T23:17:43.125090Z",
     "iopub.status.busy": "2020-04-07T23:17:43.123958Z",
     "iopub.status.idle": "2020-04-07T23:17:43.661048Z",
     "shell.execute_reply": "2020-04-07T23:17:43.660359Z"
    },
    "papermill": {
     "duration": 0.716174,
     "end_time": "2020-04-07T23:17:43.661152",
     "exception": false,
     "start_time": "2020-04-07T23:17:42.944978",
     "status": "completed"
    },
    "tags": []
   },
   "outputs": [
    {
     "data": {
      "text/plain": [
       "<matplotlib.axes._subplots.AxesSubplot at 0x7f34241b6f10>"
      ]
     },
     "execution_count": 43,
     "metadata": {},
     "output_type": "execute_result"
    },
    {
     "data": {
      "image/png": "[encoded data removed]",
      "text/plain": [
       "<Figure size 1152x576 with 1 Axes>"
      ]
     },
     "metadata": {},
     "output_type": "display_data"
    }
   ],
   "source": [
    "comparison_date = pd.Timestamp.today() - pd.DateOffset(days=7)\n",
    "df_simulation_vs_real = pd.concat([df_simulation_data, df_data_target], axis=1)\n",
    "sns.lineplot(data=df_simulation_vs_real[['E+I+R', 'E+I', 'total_cases', 'total_cases_ESTIMATED']]\\\n",
    "                                       [comparison_date - pd.DateOffset(days=20):comparison_date], \n",
    "             markers=True)"
   ]
  },
  {
   "cell_type": "markdown",
   "metadata": {
    "papermill": {
     "duration": 0.15662,
     "end_time": "2020-04-07T23:17:43.981010",
     "exception": false,
     "start_time": "2020-04-07T23:17:43.824390",
     "status": "completed"
    },
    "tags": []
   },
   "source": [
    "Salvemos os resultados."
   ]
  },
  {
   "cell_type": "code",
   "execution_count": 44,
   "metadata": {
    "execution": {
     "iopub.execute_input": "2020-04-07T23:17:44.305150Z",
     "iopub.status.busy": "2020-04-07T23:17:44.304393Z",
     "iopub.status.idle": "2020-04-07T23:17:44.367131Z",
     "shell.execute_reply": "2020-04-07T23:17:44.367553Z"
    },
    "papermill": {
     "duration": 0.211607,
     "end_time": "2020-04-07T23:17:44.367682",
     "exception": false,
     "start_time": "2020-04-07T23:17:44.156075",
     "status": "completed"
    },
    "tags": []
   },
   "outputs": [],
   "source": [
    "df_simulation_data.to_csv(results_folder + f'seir_model_output.{target_location.lower()}.csv')"
   ]
  },
  {
   "cell_type": "markdown",
   "metadata": {
    "papermill": {
     "duration": 0.15901,
     "end_time": "2020-04-07T23:17:44.683783",
     "exception": false,
     "start_time": "2020-04-07T23:17:44.524773",
     "status": "completed"
    },
    "tags": []
   },
   "source": [
    "### Com Parâmetros Dinâmicos\n",
    "\n",
    "Vamos experimentar agora introduzindo a possibilidade de aprender medidas de mitigação após o início do surto. Ou seja, experimentaremos com dois grupos de parâmetros: aqueles *antes* das medidas, e aqueles *depois* das medidas. Esses dois conjuntos de parâmetros serão estimados a partir dos dados fornecidos."
   ]
  },
  {
   "cell_type": "code",
   "execution_count": 45,
   "metadata": {
    "execution": {
     "iopub.execute_input": "2020-04-07T23:17:45.008893Z",
     "iopub.status.busy": "2020-04-07T23:17:45.008052Z",
     "iopub.status.idle": "2020-04-07T23:19:26.409980Z",
     "shell.execute_reply": "2020-04-07T23:19:26.409476Z"
    },
    "papermill": {
     "duration": 101.571461,
     "end_time": "2020-04-07T23:19:26.410106",
     "exception": false,
     "start_time": "2020-04-07T23:17:44.838645",
     "status": "completed"
    },
    "tags": []
   },
   "outputs": [
    {
     "name": "stdout",
     "output_type": "stream",
     "text": [
      "\r",
      "  0%|          | 0/1500 [00:00<?, ?trial/s, best loss=?]"
     ]
    },
    {
     "name": "stdout",
     "output_type": "stream",
     "text": [
      "\r",
      "  0%|          | 6/1500 [00:00<00:26, 56.50trial/s, best loss: 798.9612659333696]"
     ]
    },
    {
     "name": "stdout",
     "output_type": "stream",
     "text": [
      "\r",
      "  1%|          | 12/1500 [00:00<00:26, 56.44trial/s, best loss: 798.9612659333696]"
     ]
    },
    {
     "name": "stdout",
     "output_type": "stream",
     "text": [
      "\r",
      "  1%|          | 18/1500 [00:00<00:26, 56.40trial/s, best loss: 798.9612659333696]"
     ]
    },
    {
     "name": "stdout",
     "output_type": "stream",
     "text": [
      "\r",
      "  1%|▏         | 22/1500 [00:00<00:30, 48.32trial/s, best loss: 733.2766082234574]"
     ]
    },
    {
     "name": "stdout",
     "output_type": "stream",
     "text": [
      "\r",
      "  2%|▏         | 26/1500 [00:00<00:38, 38.41trial/s, best loss: 733.2766082234574]"
     ]
    },
    {
     "name": "stdout",
     "output_type": "stream",
     "text": [
      "\r",
      "  2%|▏         | 30/1500 [00:00<00:44, 33.34trial/s, best loss: 438.54227397614346]"
     ]
    },
    {
     "name": "stdout",
     "output_type": "stream",
     "text": [
      "\r",
      "  2%|▏         | 34/1500 [00:00<00:47, 30.59trial/s, best loss: 438.54227397614346]"
     ]
    },
    {
     "name": "stdout",
     "output_type": "stream",
     "text": [
      "\r",
      "  2%|▏         | 37/1500 [00:01<00:51, 28.64trial/s, best loss: 438.54227397614346]"
     ]
    },
    {
     "name": "stdout",
     "output_type": "stream",
     "text": [
      "\r",
      "  3%|▎         | 40/1500 [00:01<00:53, 27.13trial/s, best loss: 438.54227397614346]"
     ]
    },
    {
     "name": "stdout",
     "output_type": "stream",
     "text": [
      "\r",
      "  3%|▎         | 43/1500 [00:01<00:54, 26.49trial/s, best loss: 438.54227397614346]"
     ]
    },
    {
     "name": "stdout",
     "output_type": "stream",
     "text": [
      "\r",
      "  3%|▎         | 46/1500 [00:01<00:55, 26.11trial/s, best loss: 388.3871986107778] "
     ]
    },
    {
     "name": "stdout",
     "output_type": "stream",
     "text": [
      "\r",
      "  3%|▎         | 49/1500 [00:01<00:56, 25.77trial/s, best loss: 388.3871986107778]"
     ]
    },
    {
     "name": "stdout",
     "output_type": "stream",
     "text": [
      "\r",
      "  3%|▎         | 52/1500 [00:01<00:56, 25.45trial/s, best loss: 388.3871986107778]"
     ]
    },
    {
     "name": "stdout",
     "output_type": "stream",
     "text": [
      "\r",
      "  4%|▎         | 55/1500 [00:01<00:57, 25.23trial/s, best loss: 388.3871986107778]"
     ]
    },
    {
     "name": "stdout",
     "output_type": "stream",
     "text": [
      "\r",
      "  4%|▍         | 58/1500 [00:01<00:57, 25.15trial/s, best loss: 388.3871986107778]"
     ]
    },
    {
     "name": "stdout",
     "output_type": "stream",
     "text": [
      "\r",
      "  4%|▍         | 61/1500 [00:01<00:57, 24.96trial/s, best loss: 388.3871986107778]"
     ]
    },
    {
     "name": "stdout",
     "output_type": "stream",
     "text": [
      "\r",
      "  4%|▍         | 64/1500 [00:02<00:58, 24.61trial/s, best loss: 388.3871986107778]"
     ]
    },
    {
     "name": "stdout",
     "output_type": "stream",
     "text": [
      "\r",
      "  4%|▍         | 67/1500 [00:02<01:00, 23.85trial/s, best loss: 388.3871986107778]"
     ]
    },
    {
     "name": "stdout",
     "output_type": "stream",
     "text": [
      "\r",
      "  5%|▍         | 70/1500 [00:02<01:00, 23.81trial/s, best loss: 360.86573744548485]"
     ]
    },
    {
     "name": "stdout",
     "output_type": "stream",
     "text": [
      "\r",
      "  5%|▍         | 73/1500 [00:02<00:59, 24.07trial/s, best loss: 360.86573744548485]"
     ]
    },
    {
     "name": "stdout",
     "output_type": "stream",
     "text": [
      "\r",
      "  5%|▌         | 76/1500 [00:02<00:58, 24.33trial/s, best loss: 360.86573744548485]"
     ]
    },
    {
     "name": "stdout",
     "output_type": "stream",
     "text": [
      "\r",
      "  5%|▌         | 79/1500 [00:02<00:58, 24.49trial/s, best loss: 360.86573744548485]"
     ]
    },
    {
     "name": "stdout",
     "output_type": "stream",
     "text": [
      "\r",
      "  5%|▌         | 82/1500 [00:02<00:58, 24.42trial/s, best loss: 360.86573744548485]"
     ]
    },
    {
     "name": "stdout",
     "output_type": "stream",
     "text": [
      "\r",
      "  6%|▌         | 85/1500 [00:02<00:58, 24.29trial/s, best loss: 360.86573744548485]"
     ]
    },
    {
     "name": "stdout",
     "output_type": "stream",
     "text": [
      "\r",
      "  6%|▌         | 88/1500 [00:03<01:07, 20.92trial/s, best loss: 360.86573744548485]"
     ]
    },
    {
     "name": "stdout",
     "output_type": "stream",
     "text": [
      "\r",
      "  6%|▌         | 91/1500 [00:03<01:04, 21.87trial/s, best loss: 360.86573744548485]"
     ]
    },
    {
     "name": "stdout",
     "output_type": "stream",
     "text": [
      "\r",
      "  6%|▋         | 94/1500 [00:03<01:02, 22.58trial/s, best loss: 360.86573744548485]"
     ]
    },
    {
     "name": "stdout",
     "output_type": "stream",
     "text": [
      "\r",
      "  6%|▋         | 97/1500 [00:03<01:00, 23.02trial/s, best loss: 360.86573744548485]"
     ]
    },
    {
     "name": "stdout",
     "output_type": "stream",
     "text": [
      "\r",
      "  7%|▋         | 100/1500 [00:03<01:00, 23.21trial/s, best loss: 360.86573744548485]"
     ]
    },
    {
     "name": "stdout",
     "output_type": "stream",
     "text": [
      "\r",
      "  7%|▋         | 103/1500 [00:03<00:59, 23.40trial/s, best loss: 360.86573744548485]"
     ]
    },
    {
     "name": "stdout",
     "output_type": "stream",
     "text": [
      "\r",
      "  7%|▋         | 106/1500 [00:03<00:59, 23.42trial/s, best loss: 360.86573744548485]"
     ]
    },
    {
     "name": "stdout",
     "output_type": "stream",
     "text": [
      "\r",
      "  7%|▋         | 109/1500 [00:04<00:59, 23.46trial/s, best loss: 360.86573744548485]"
     ]
    },
    {
     "name": "stdout",
     "output_type": "stream",
     "text": [
      "\r",
      "  7%|▋         | 112/1500 [00:04<00:59, 23.50trial/s, best loss: 218.13457561019072]"
     ]
    },
    {
     "name": "stdout",
     "output_type": "stream",
     "text": [
      "\r",
      "  8%|▊         | 115/1500 [00:04<00:58, 23.58trial/s, best loss: 218.13457561019072]"
     ]
    },
    {
     "name": "stdout",
     "output_type": "stream",
     "text": [
      "\r",
      "  8%|▊         | 118/1500 [00:04<00:59, 23.41trial/s, best loss: 218.13457561019072]"
     ]
    },
    {
     "name": "stdout",
     "output_type": "stream",
     "text": [
      "\r",
      "  8%|▊         | 121/1500 [00:04<00:59, 23.31trial/s, best loss: 218.13457561019072]"
     ]
    },
    {
     "name": "stdout",
     "output_type": "stream",
     "text": [
      "\r",
      "  8%|▊         | 124/1500 [00:04<00:59, 23.20trial/s, best loss: 218.13457561019072]"
     ]
    },
    {
     "name": "stdout",
     "output_type": "stream",
     "text": [
      "\r",
      "  8%|▊         | 127/1500 [00:04<00:59, 23.06trial/s, best loss: 177.49870032053468]"
     ]
    },
    {
     "name": "stdout",
     "output_type": "stream",
     "text": [
      "\r",
      "  9%|▊         | 130/1500 [00:04<00:59, 23.05trial/s, best loss: 177.49870032053468]"
     ]
    },
    {
     "name": "stdout",
     "output_type": "stream",
     "text": [
      "\r",
      "  9%|▉         | 133/1500 [00:05<01:00, 22.55trial/s, best loss: 177.49870032053468]"
     ]
    },
    {
     "name": "stdout",
     "output_type": "stream",
     "text": [
      "\r",
      "  9%|▉         | 136/1500 [00:05<01:00, 22.62trial/s, best loss: 177.49870032053468]"
     ]
    },
    {
     "name": "stdout",
     "output_type": "stream",
     "text": [
      "\r",
      "  9%|▉         | 139/1500 [00:05<00:59, 22.76trial/s, best loss: 177.49870032053468]"
     ]
    },
    {
     "name": "stdout",
     "output_type": "stream",
     "text": [
      "\r",
      "  9%|▉         | 142/1500 [00:05<00:59, 22.78trial/s, best loss: 177.49870032053468]"
     ]
    },
    {
     "name": "stdout",
     "output_type": "stream",
     "text": [
      "\r",
      " 10%|▉         | 145/1500 [00:05<00:59, 22.58trial/s, best loss: 177.49870032053468]"
     ]
    },
    {
     "name": "stdout",
     "output_type": "stream",
     "text": [
      "\r",
      " 10%|▉         | 148/1500 [00:05<00:59, 22.59trial/s, best loss: 177.49870032053468]"
     ]
    },
    {
     "name": "stdout",
     "output_type": "stream",
     "text": [
      "\r",
      " 10%|█         | 151/1500 [00:05<00:59, 22.54trial/s, best loss: 177.49870032053468]"
     ]
    },
    {
     "name": "stdout",
     "output_type": "stream",
     "text": [
      "\r",
      " 10%|█         | 154/1500 [00:06<00:59, 22.61trial/s, best loss: 177.49870032053468]"
     ]
    },
    {
     "name": "stdout",
     "output_type": "stream",
     "text": [
      "\r",
      " 10%|█         | 157/1500 [00:06<00:59, 22.53trial/s, best loss: 177.49870032053468]"
     ]
    },
    {
     "name": "stdout",
     "output_type": "stream",
     "text": [
      "\r",
      " 11%|█         | 160/1500 [00:06<00:59, 22.58trial/s, best loss: 177.49870032053468]"
     ]
    },
    {
     "name": "stdout",
     "output_type": "stream",
     "text": [
      "\r",
      " 11%|█         | 163/1500 [00:06<00:59, 22.57trial/s, best loss: 177.49870032053468]"
     ]
    },
    {
     "name": "stdout",
     "output_type": "stream",
     "text": [
      "\r",
      " 11%|█         | 166/1500 [00:06<00:59, 22.47trial/s, best loss: 177.49870032053468]"
     ]
    },
    {
     "name": "stdout",
     "output_type": "stream",
     "text": [
      "\r",
      " 11%|█▏        | 169/1500 [00:06<00:58, 22.61trial/s, best loss: 177.49870032053468]"
     ]
    },
    {
     "name": "stdout",
     "output_type": "stream",
     "text": [
      "\r",
      " 11%|█▏        | 172/1500 [00:06<00:58, 22.73trial/s, best loss: 177.49870032053468]"
     ]
    },
    {
     "name": "stdout",
     "output_type": "stream",
     "text": [
      "\r",
      " 12%|█▏        | 175/1500 [00:06<00:58, 22.72trial/s, best loss: 177.49870032053468]"
     ]
    },
    {
     "name": "stdout",
     "output_type": "stream",
     "text": [
      "\r",
      " 12%|█▏        | 178/1500 [00:07<00:58, 22.56trial/s, best loss: 177.49870032053468]"
     ]
    },
    {
     "name": "stdout",
     "output_type": "stream",
     "text": [
      "\r",
      " 12%|█▏        | 181/1500 [00:07<00:58, 22.63trial/s, best loss: 122.08338036711295]"
     ]
    },
    {
     "name": "stdout",
     "output_type": "stream",
     "text": [
      "\r",
      " 12%|█▏        | 184/1500 [00:07<00:58, 22.54trial/s, best loss: 122.08338036711295]"
     ]
    },
    {
     "name": "stdout",
     "output_type": "stream",
     "text": [
      "\r",
      " 12%|█▏        | 187/1500 [00:07<00:58, 22.57trial/s, best loss: 122.08338036711295]"
     ]
    },
    {
     "name": "stdout",
     "output_type": "stream",
     "text": [
      "\r",
      " 13%|█▎        | 190/1500 [00:07<00:57, 22.62trial/s, best loss: 122.08338036711295]"
     ]
    },
    {
     "name": "stdout",
     "output_type": "stream",
     "text": [
      "\r",
      " 13%|█▎        | 193/1500 [00:07<00:57, 22.55trial/s, best loss: 122.08338036711295]"
     ]
    },
    {
     "name": "stdout",
     "output_type": "stream",
     "text": [
      "\r",
      " 13%|█▎        | 196/1500 [00:07<00:58, 22.36trial/s, best loss: 122.08338036711295]"
     ]
    },
    {
     "name": "stdout",
     "output_type": "stream",
     "text": [
      "\r",
      " 13%|█▎        | 199/1500 [00:08<00:58, 22.34trial/s, best loss: 122.08338036711295]"
     ]
    },
    {
     "name": "stdout",
     "output_type": "stream",
     "text": [
      "\r",
      " 13%|█▎        | 202/1500 [00:08<00:58, 22.20trial/s, best loss: 122.08338036711295]"
     ]
    },
    {
     "name": "stdout",
     "output_type": "stream",
     "text": [
      "\r",
      " 14%|█▎        | 205/1500 [00:08<00:58, 22.05trial/s, best loss: 122.08338036711295]"
     ]
    },
    {
     "name": "stdout",
     "output_type": "stream",
     "text": [
      "\r",
      " 14%|█▍        | 208/1500 [00:08<00:58, 22.07trial/s, best loss: 122.08338036711295]"
     ]
    },
    {
     "name": "stdout",
     "output_type": "stream",
     "text": [
      "\r",
      " 14%|█▍        | 211/1500 [00:08<00:58, 22.02trial/s, best loss: 122.08338036711295]"
     ]
    },
    {
     "name": "stdout",
     "output_type": "stream",
     "text": [
      "\r",
      " 14%|█▍        | 214/1500 [00:08<00:58, 22.00trial/s, best loss: 122.08338036711295]"
     ]
    },
    {
     "name": "stdout",
     "output_type": "stream",
     "text": [
      "\r",
      " 14%|█▍        | 217/1500 [00:08<00:58, 21.91trial/s, best loss: 122.08338036711295]"
     ]
    },
    {
     "name": "stdout",
     "output_type": "stream",
     "text": [
      "\r",
      " 15%|█▍        | 220/1500 [00:08<00:59, 21.63trial/s, best loss: 122.08338036711295]"
     ]
    },
    {
     "name": "stdout",
     "output_type": "stream",
     "text": [
      "\r",
      " 15%|█▍        | 223/1500 [00:09<00:59, 21.43trial/s, best loss: 122.08338036711295]"
     ]
    },
    {
     "name": "stdout",
     "output_type": "stream",
     "text": [
      "\r",
      " 15%|█▌        | 226/1500 [00:09<01:09, 18.42trial/s, best loss: 122.08338036711295]"
     ]
    },
    {
     "name": "stdout",
     "output_type": "stream",
     "text": [
      "\r",
      " 15%|█▌        | 229/1500 [00:09<01:06, 19.17trial/s, best loss: 122.08338036711295]"
     ]
    },
    {
     "name": "stdout",
     "output_type": "stream",
     "text": [
      "\r",
      " 15%|█▌        | 232/1500 [00:09<01:04, 19.72trial/s, best loss: 122.08338036711295]"
     ]
    },
    {
     "name": "stdout",
     "output_type": "stream",
     "text": [
      "\r",
      " 16%|█▌        | 235/1500 [00:09<01:02, 20.14trial/s, best loss: 122.08338036711295]"
     ]
    },
    {
     "name": "stdout",
     "output_type": "stream",
     "text": [
      "\r",
      " 16%|█▌        | 238/1500 [00:09<01:02, 20.28trial/s, best loss: 122.08338036711295]"
     ]
    },
    {
     "name": "stdout",
     "output_type": "stream",
     "text": [
      "\r",
      " 16%|█▌        | 241/1500 [00:10<01:01, 20.57trial/s, best loss: 122.08338036711295]"
     ]
    },
    {
     "name": "stdout",
     "output_type": "stream",
     "text": [
      "\r",
      " 16%|█▋        | 244/1500 [00:10<01:00, 20.79trial/s, best loss: 122.08338036711295]"
     ]
    },
    {
     "name": "stdout",
     "output_type": "stream",
     "text": [
      "\r",
      " 16%|█▋        | 247/1500 [00:10<01:00, 20.86trial/s, best loss: 122.08338036711295]"
     ]
    },
    {
     "name": "stdout",
     "output_type": "stream",
     "text": [
      "\r",
      " 17%|█▋        | 250/1500 [00:10<00:59, 20.95trial/s, best loss: 122.08338036711295]"
     ]
    },
    {
     "name": "stdout",
     "output_type": "stream",
     "text": [
      "\r",
      " 17%|█▋        | 253/1500 [00:10<00:59, 20.98trial/s, best loss: 122.08338036711295]"
     ]
    },
    {
     "name": "stdout",
     "output_type": "stream",
     "text": [
      "\r",
      " 17%|█▋        | 256/1500 [00:10<00:59, 20.92trial/s, best loss: 122.08338036711295]"
     ]
    },
    {
     "name": "stdout",
     "output_type": "stream",
     "text": [
      "\r",
      " 17%|█▋        | 259/1500 [00:10<00:59, 20.92trial/s, best loss: 122.08338036711295]"
     ]
    },
    {
     "name": "stdout",
     "output_type": "stream",
     "text": [
      "\r",
      " 17%|█▋        | 262/1500 [00:11<00:58, 21.04trial/s, best loss: 122.08338036711295]"
     ]
    },
    {
     "name": "stdout",
     "output_type": "stream",
     "text": [
      "\r",
      " 18%|█▊        | 265/1500 [00:11<00:58, 21.02trial/s, best loss: 122.08338036711295]"
     ]
    },
    {
     "name": "stdout",
     "output_type": "stream",
     "text": [
      "\r",
      " 18%|█▊        | 268/1500 [00:11<00:58, 21.00trial/s, best loss: 122.08338036711295]"
     ]
    },
    {
     "name": "stdout",
     "output_type": "stream",
     "text": [
      "\r",
      " 18%|█▊        | 271/1500 [00:11<00:58, 21.02trial/s, best loss: 122.08338036711295]"
     ]
    },
    {
     "name": "stdout",
     "output_type": "stream",
     "text": [
      "\r",
      " 18%|█▊        | 274/1500 [00:11<00:58, 21.00trial/s, best loss: 122.08338036711295]"
     ]
    },
    {
     "name": "stdout",
     "output_type": "stream",
     "text": [
      "\r",
      " 18%|█▊        | 277/1500 [00:11<00:58, 20.93trial/s, best loss: 122.08338036711295]"
     ]
    },
    {
     "name": "stdout",
     "output_type": "stream",
     "text": [
      "\r",
      " 19%|█▊        | 280/1500 [00:11<00:58, 20.81trial/s, best loss: 122.08338036711295]"
     ]
    },
    {
     "name": "stdout",
     "output_type": "stream",
     "text": [
      "\r",
      " 19%|█▉        | 283/1500 [00:12<00:58, 20.76trial/s, best loss: 122.08338036711295]"
     ]
    },
    {
     "name": "stdout",
     "output_type": "stream",
     "text": [
      "\r",
      " 19%|█▉        | 286/1500 [00:12<00:58, 20.81trial/s, best loss: 122.08338036711295]"
     ]
    },
    {
     "name": "stdout",
     "output_type": "stream",
     "text": [
      "\r",
      " 19%|█▉        | 289/1500 [00:12<00:58, 20.76trial/s, best loss: 122.08338036711295]"
     ]
    },
    {
     "name": "stdout",
     "output_type": "stream",
     "text": [
      "\r",
      " 19%|█▉        | 292/1500 [00:12<01:00, 19.87trial/s, best loss: 122.08338036711295]"
     ]
    },
    {
     "name": "stdout",
     "output_type": "stream",
     "text": [
      "\r",
      " 20%|█▉        | 295/1500 [00:12<01:00, 20.00trial/s, best loss: 122.08338036711295]"
     ]
    },
    {
     "name": "stdout",
     "output_type": "stream",
     "text": [
      "\r",
      " 20%|█▉        | 298/1500 [00:12<01:00, 19.95trial/s, best loss: 122.08338036711295]"
     ]
    },
    {
     "name": "stdout",
     "output_type": "stream",
     "text": [
      "\r",
      " 20%|██        | 301/1500 [00:12<00:59, 20.09trial/s, best loss: 122.08338036711295]"
     ]
    },
    {
     "name": "stdout",
     "output_type": "stream",
     "text": [
      "\r",
      " 20%|██        | 304/1500 [00:13<00:59, 20.21trial/s, best loss: 122.08338036711295]"
     ]
    },
    {
     "name": "stdout",
     "output_type": "stream",
     "text": [
      "\r",
      " 20%|██        | 307/1500 [00:13<00:59, 20.18trial/s, best loss: 122.08338036711295]"
     ]
    },
    {
     "name": "stdout",
     "output_type": "stream",
     "text": [
      "\r",
      " 21%|██        | 310/1500 [00:13<00:59, 19.90trial/s, best loss: 122.08338036711295]"
     ]
    },
    {
     "name": "stdout",
     "output_type": "stream",
     "text": [
      "\r",
      " 21%|██        | 313/1500 [00:13<00:59, 19.99trial/s, best loss: 122.08338036711295]"
     ]
    },
    {
     "name": "stdout",
     "output_type": "stream",
     "text": [
      "\r",
      " 21%|██        | 316/1500 [00:13<00:59, 20.02trial/s, best loss: 122.08338036711295]"
     ]
    },
    {
     "name": "stdout",
     "output_type": "stream",
     "text": [
      "\r",
      " 21%|██▏       | 319/1500 [00:13<00:58, 20.08trial/s, best loss: 122.08338036711295]"
     ]
    },
    {
     "name": "stdout",
     "output_type": "stream",
     "text": [
      "\r",
      " 21%|██▏       | 322/1500 [00:14<00:58, 20.07trial/s, best loss: 122.08338036711295]"
     ]
    },
    {
     "name": "stdout",
     "output_type": "stream",
     "text": [
      "\r",
      " 22%|██▏       | 325/1500 [00:14<00:58, 20.12trial/s, best loss: 122.08338036711295]"
     ]
    },
    {
     "name": "stdout",
     "output_type": "stream",
     "text": [
      "\r",
      " 22%|██▏       | 328/1500 [00:14<00:58, 20.15trial/s, best loss: 122.08338036711295]"
     ]
    },
    {
     "name": "stdout",
     "output_type": "stream",
     "text": [
      "\r",
      " 22%|██▏       | 331/1500 [00:14<00:58, 20.12trial/s, best loss: 122.08338036711295]"
     ]
    },
    {
     "name": "stdout",
     "output_type": "stream",
     "text": [
      "\r",
      " 22%|██▏       | 334/1500 [00:14<00:58, 20.06trial/s, best loss: 122.08338036711295]"
     ]
    },
    {
     "name": "stdout",
     "output_type": "stream",
     "text": [
      "\r",
      " 22%|██▏       | 337/1500 [00:14<00:58, 20.01trial/s, best loss: 122.08338036711295]"
     ]
    },
    {
     "name": "stdout",
     "output_type": "stream",
     "text": [
      "\r",
      " 23%|██▎       | 340/1500 [00:14<00:58, 19.90trial/s, best loss: 122.08338036711295]"
     ]
    },
    {
     "name": "stdout",
     "output_type": "stream",
     "text": [
      "\r",
      " 23%|██▎       | 342/1500 [00:15<00:58, 19.82trial/s, best loss: 122.08338036711295]"
     ]
    },
    {
     "name": "stdout",
     "output_type": "stream",
     "text": [
      "\r",
      " 23%|██▎       | 344/1500 [00:15<00:58, 19.69trial/s, best loss: 122.08338036711295]"
     ]
    },
    {
     "name": "stdout",
     "output_type": "stream",
     "text": [
      "\r",
      " 23%|██▎       | 346/1500 [00:15<00:58, 19.62trial/s, best loss: 122.08338036711295]"
     ]
    },
    {
     "name": "stdout",
     "output_type": "stream",
     "text": [
      "\r",
      " 23%|██▎       | 348/1500 [00:15<00:58, 19.64trial/s, best loss: 122.08338036711295]"
     ]
    },
    {
     "name": "stdout",
     "output_type": "stream",
     "text": [
      "\r",
      " 23%|██▎       | 350/1500 [00:15<00:58, 19.61trial/s, best loss: 122.08338036711295]"
     ]
    },
    {
     "name": "stdout",
     "output_type": "stream",
     "text": [
      "\r",
      " 23%|██▎       | 352/1500 [00:15<00:58, 19.58trial/s, best loss: 122.08338036711295]"
     ]
    },
    {
     "name": "stdout",
     "output_type": "stream",
     "text": [
      "\r",
      " 24%|██▎       | 354/1500 [00:15<00:58, 19.51trial/s, best loss: 122.08338036711295]"
     ]
    },
    {
     "name": "stdout",
     "output_type": "stream",
     "text": [
      "\r",
      " 24%|██▎       | 356/1500 [00:15<00:58, 19.42trial/s, best loss: 122.08338036711295]"
     ]
    },
    {
     "name": "stdout",
     "output_type": "stream",
     "text": [
      "\r",
      " 24%|██▍       | 358/1500 [00:15<00:59, 19.23trial/s, best loss: 122.08338036711295]"
     ]
    },
    {
     "name": "stdout",
     "output_type": "stream",
     "text": [
      "\r",
      " 24%|██▍       | 360/1500 [00:15<00:59, 19.29trial/s, best loss: 122.08338036711295]"
     ]
    },
    {
     "name": "stdout",
     "output_type": "stream",
     "text": [
      "\r",
      " 24%|██▍       | 362/1500 [00:16<00:58, 19.38trial/s, best loss: 122.08338036711295]"
     ]
    },
    {
     "name": "stdout",
     "output_type": "stream",
     "text": [
      "\r",
      " 24%|██▍       | 364/1500 [00:16<00:58, 19.33trial/s, best loss: 122.08338036711295]"
     ]
    },
    {
     "name": "stdout",
     "output_type": "stream",
     "text": [
      "\r",
      " 24%|██▍       | 366/1500 [00:16<00:59, 19.22trial/s, best loss: 122.08338036711295]"
     ]
    },
    {
     "name": "stdout",
     "output_type": "stream",
     "text": [
      "\r",
      " 25%|██▍       | 368/1500 [00:16<00:58, 19.20trial/s, best loss: 122.08338036711295]"
     ]
    },
    {
     "name": "stdout",
     "output_type": "stream",
     "text": [
      "\r",
      " 25%|██▍       | 370/1500 [00:16<00:58, 19.22trial/s, best loss: 122.08338036711295]"
     ]
    },
    {
     "name": "stdout",
     "output_type": "stream",
     "text": [
      "\r",
      " 25%|██▍       | 372/1500 [00:16<00:59, 18.88trial/s, best loss: 122.08338036711295]"
     ]
    },
    {
     "name": "stdout",
     "output_type": "stream",
     "text": [
      "\r",
      " 25%|██▍       | 374/1500 [00:16<00:59, 18.88trial/s, best loss: 122.08338036711295]"
     ]
    },
    {
     "name": "stdout",
     "output_type": "stream",
     "text": [
      "\r",
      " 25%|██▌       | 376/1500 [00:16<00:59, 18.86trial/s, best loss: 122.08338036711295]"
     ]
    },
    {
     "name": "stdout",
     "output_type": "stream",
     "text": [
      "\r",
      " 25%|██▌       | 378/1500 [00:16<00:59, 18.81trial/s, best loss: 122.08338036711295]"
     ]
    },
    {
     "name": "stdout",
     "output_type": "stream",
     "text": [
      "\r",
      " 25%|██▌       | 380/1500 [00:16<00:59, 18.83trial/s, best loss: 122.08338036711295]"
     ]
    },
    {
     "name": "stdout",
     "output_type": "stream",
     "text": [
      "\r",
      " 25%|██▌       | 382/1500 [00:17<00:59, 18.90trial/s, best loss: 122.08338036711295]"
     ]
    },
    {
     "name": "stdout",
     "output_type": "stream",
     "text": [
      "\r",
      " 26%|██▌       | 384/1500 [00:17<00:58, 18.96trial/s, best loss: 122.08338036711295]"
     ]
    },
    {
     "name": "stdout",
     "output_type": "stream",
     "text": [
      "\r",
      " 26%|██▌       | 386/1500 [00:17<00:58, 18.94trial/s, best loss: 122.08338036711295]"
     ]
    },
    {
     "name": "stdout",
     "output_type": "stream",
     "text": [
      "\r",
      " 26%|██▌       | 388/1500 [00:17<00:58, 18.97trial/s, best loss: 122.08338036711295]"
     ]
    },
    {
     "name": "stdout",
     "output_type": "stream",
     "text": [
      "\r",
      " 26%|██▌       | 390/1500 [00:17<00:58, 18.93trial/s, best loss: 122.08338036711295]"
     ]
    },
    {
     "name": "stdout",
     "output_type": "stream",
     "text": [
      "\r",
      " 26%|██▌       | 392/1500 [00:17<00:58, 18.90trial/s, best loss: 122.08338036711295]"
     ]
    },
    {
     "name": "stdout",
     "output_type": "stream",
     "text": [
      "\r",
      " 26%|██▋       | 394/1500 [00:17<00:59, 18.64trial/s, best loss: 122.08338036711295]"
     ]
    },
    {
     "name": "stdout",
     "output_type": "stream",
     "text": [
      "\r",
      " 26%|██▋       | 396/1500 [00:17<00:59, 18.59trial/s, best loss: 122.08338036711295]"
     ]
    },
    {
     "name": "stdout",
     "output_type": "stream",
     "text": [
      "\r",
      " 27%|██▋       | 398/1500 [00:17<00:59, 18.66trial/s, best loss: 122.08338036711295]"
     ]
    },
    {
     "name": "stdout",
     "output_type": "stream",
     "text": [
      "\r",
      " 27%|██▋       | 400/1500 [00:18<00:59, 18.61trial/s, best loss: 122.08338036711295]"
     ]
    },
    {
     "name": "stdout",
     "output_type": "stream",
     "text": [
      "\r",
      " 27%|██▋       | 402/1500 [00:18<00:59, 18.61trial/s, best loss: 122.08338036711295]"
     ]
    },
    {
     "name": "stdout",
     "output_type": "stream",
     "text": [
      "\r",
      " 27%|██▋       | 404/1500 [00:18<00:58, 18.64trial/s, best loss: 122.08338036711295]"
     ]
    },
    {
     "name": "stdout",
     "output_type": "stream",
     "text": [
      "\r",
      " 27%|██▋       | 406/1500 [00:18<00:58, 18.72trial/s, best loss: 122.08338036711295]"
     ]
    },
    {
     "name": "stdout",
     "output_type": "stream",
     "text": [
      "\r",
      " 27%|██▋       | 408/1500 [00:18<00:58, 18.78trial/s, best loss: 122.08338036711295]"
     ]
    },
    {
     "name": "stdout",
     "output_type": "stream",
     "text": [
      "\r",
      " 27%|██▋       | 410/1500 [00:18<00:58, 18.73trial/s, best loss: 122.08338036711295]"
     ]
    },
    {
     "name": "stdout",
     "output_type": "stream",
     "text": [
      "\r",
      " 27%|██▋       | 412/1500 [00:18<00:58, 18.66trial/s, best loss: 122.08338036711295]"
     ]
    },
    {
     "name": "stdout",
     "output_type": "stream",
     "text": [
      "\r",
      " 28%|██▊       | 414/1500 [00:18<00:57, 18.76trial/s, best loss: 122.08338036711295]"
     ]
    },
    {
     "name": "stdout",
     "output_type": "stream",
     "text": [
      "\r",
      " 28%|██▊       | 416/1500 [00:18<00:57, 18.70trial/s, best loss: 122.08338036711295]"
     ]
    },
    {
     "name": "stdout",
     "output_type": "stream",
     "text": [
      "\r",
      " 28%|██▊       | 418/1500 [00:19<00:57, 18.71trial/s, best loss: 122.08338036711295]"
     ]
    },
    {
     "name": "stdout",
     "output_type": "stream",
     "text": [
      "\r",
      " 28%|██▊       | 420/1500 [00:19<00:57, 18.63trial/s, best loss: 122.08338036711295]"
     ]
    },
    {
     "name": "stdout",
     "output_type": "stream",
     "text": [
      "\r",
      " 28%|██▊       | 422/1500 [00:19<00:58, 18.54trial/s, best loss: 122.08338036711295]"
     ]
    },
    {
     "name": "stdout",
     "output_type": "stream",
     "text": [
      "\r",
      " 28%|██▊       | 424/1500 [00:19<00:58, 18.34trial/s, best loss: 122.08338036711295]"
     ]
    },
    {
     "name": "stdout",
     "output_type": "stream",
     "text": [
      "\r",
      " 28%|██▊       | 426/1500 [00:19<01:00, 17.67trial/s, best loss: 122.08338036711295]"
     ]
    },
    {
     "name": "stdout",
     "output_type": "stream",
     "text": [
      "\r",
      " 29%|██▊       | 428/1500 [00:19<01:00, 17.85trial/s, best loss: 122.08338036711295]"
     ]
    },
    {
     "name": "stdout",
     "output_type": "stream",
     "text": [
      "\r",
      " 29%|██▊       | 430/1500 [00:19<00:59, 17.99trial/s, best loss: 122.08338036711295]"
     ]
    },
    {
     "name": "stdout",
     "output_type": "stream",
     "text": [
      "\r",
      " 29%|██▉       | 432/1500 [00:19<00:59, 18.07trial/s, best loss: 122.08338036711295]"
     ]
    },
    {
     "name": "stdout",
     "output_type": "stream",
     "text": [
      "\r",
      " 29%|██▉       | 434/1500 [00:19<00:58, 18.09trial/s, best loss: 122.08338036711295]"
     ]
    },
    {
     "name": "stdout",
     "output_type": "stream",
     "text": [
      "\r",
      " 29%|██▉       | 436/1500 [00:20<00:58, 18.12trial/s, best loss: 122.08338036711295]"
     ]
    },
    {
     "name": "stdout",
     "output_type": "stream",
     "text": [
      "\r",
      " 29%|██▉       | 438/1500 [00:20<00:58, 18.08trial/s, best loss: 122.08338036711295]"
     ]
    },
    {
     "name": "stdout",
     "output_type": "stream",
     "text": [
      "\r",
      " 29%|██▉       | 440/1500 [00:20<00:58, 17.97trial/s, best loss: 122.08338036711295]"
     ]
    },
    {
     "name": "stdout",
     "output_type": "stream",
     "text": [
      "\r",
      " 29%|██▉       | 442/1500 [00:20<00:59, 17.80trial/s, best loss: 122.08338036711295]"
     ]
    },
    {
     "name": "stdout",
     "output_type": "stream",
     "text": [
      "\r",
      " 30%|██▉       | 444/1500 [00:20<01:00, 17.56trial/s, best loss: 122.08338036711295]"
     ]
    },
    {
     "name": "stdout",
     "output_type": "stream",
     "text": [
      "\r",
      " 30%|██▉       | 446/1500 [00:20<01:00, 17.31trial/s, best loss: 122.08338036711295]"
     ]
    },
    {
     "name": "stdout",
     "output_type": "stream",
     "text": [
      "\r",
      " 30%|██▉       | 448/1500 [00:20<01:01, 17.17trial/s, best loss: 122.08338036711295]"
     ]
    },
    {
     "name": "stdout",
     "output_type": "stream",
     "text": [
      "\r",
      " 30%|███       | 450/1500 [00:20<01:00, 17.46trial/s, best loss: 122.08338036711295]"
     ]
    },
    {
     "name": "stdout",
     "output_type": "stream",
     "text": [
      "\r",
      " 30%|███       | 452/1500 [00:20<00:59, 17.63trial/s, best loss: 122.08338036711295]"
     ]
    },
    {
     "name": "stdout",
     "output_type": "stream",
     "text": [
      "\r",
      " 30%|███       | 454/1500 [00:21<00:58, 17.73trial/s, best loss: 122.08338036711295]"
     ]
    },
    {
     "name": "stdout",
     "output_type": "stream",
     "text": [
      "\r",
      " 30%|███       | 456/1500 [00:21<00:58, 17.78trial/s, best loss: 122.08338036711295]"
     ]
    },
    {
     "name": "stdout",
     "output_type": "stream",
     "text": [
      "\r",
      " 31%|███       | 458/1500 [00:21<00:58, 17.73trial/s, best loss: 122.08338036711295]"
     ]
    },
    {
     "name": "stdout",
     "output_type": "stream",
     "text": [
      "\r",
      " 31%|███       | 460/1500 [00:21<01:08, 15.20trial/s, best loss: 122.08338036711295]"
     ]
    },
    {
     "name": "stdout",
     "output_type": "stream",
     "text": [
      "\r",
      " 31%|███       | 462/1500 [00:21<01:05, 15.92trial/s, best loss: 122.08338036711295]"
     ]
    },
    {
     "name": "stdout",
     "output_type": "stream",
     "text": [
      "\r",
      " 31%|███       | 464/1500 [00:21<01:02, 16.48trial/s, best loss: 122.08338036711295]"
     ]
    },
    {
     "name": "stdout",
     "output_type": "stream",
     "text": [
      "\r",
      " 31%|███       | 466/1500 [00:21<01:01, 16.80trial/s, best loss: 122.08338036711295]"
     ]
    },
    {
     "name": "stdout",
     "output_type": "stream",
     "text": [
      "\r",
      " 31%|███       | 468/1500 [00:21<01:00, 17.07trial/s, best loss: 122.08338036711295]"
     ]
    },
    {
     "name": "stdout",
     "output_type": "stream",
     "text": [
      "\r",
      " 31%|███▏      | 470/1500 [00:22<00:59, 17.23trial/s, best loss: 122.08338036711295]"
     ]
    },
    {
     "name": "stdout",
     "output_type": "stream",
     "text": [
      "\r",
      " 31%|███▏      | 472/1500 [00:22<00:59, 17.37trial/s, best loss: 122.08338036711295]"
     ]
    },
    {
     "name": "stdout",
     "output_type": "stream",
     "text": [
      "\r",
      " 32%|███▏      | 474/1500 [00:22<00:58, 17.56trial/s, best loss: 122.08338036711295]"
     ]
    },
    {
     "name": "stdout",
     "output_type": "stream",
     "text": [
      "\r",
      " 32%|███▏      | 476/1500 [00:22<00:58, 17.63trial/s, best loss: 122.08338036711295]"
     ]
    },
    {
     "name": "stdout",
     "output_type": "stream",
     "text": [
      "\r",
      " 32%|███▏      | 478/1500 [00:22<00:57, 17.67trial/s, best loss: 122.08338036711295]"
     ]
    },
    {
     "name": "stdout",
     "output_type": "stream",
     "text": [
      "\r",
      " 32%|███▏      | 480/1500 [00:22<00:57, 17.69trial/s, best loss: 122.08338036711295]"
     ]
    },
    {
     "name": "stdout",
     "output_type": "stream",
     "text": [
      "\r",
      " 32%|███▏      | 482/1500 [00:22<00:57, 17.64trial/s, best loss: 122.08338036711295]"
     ]
    },
    {
     "name": "stdout",
     "output_type": "stream",
     "text": [
      "\r",
      " 32%|███▏      | 484/1500 [00:22<00:57, 17.61trial/s, best loss: 122.08338036711295]"
     ]
    },
    {
     "name": "stdout",
     "output_type": "stream",
     "text": [
      "\r",
      " 32%|███▏      | 486/1500 [00:22<01:00, 16.70trial/s, best loss: 118.12655953721905]"
     ]
    },
    {
     "name": "stdout",
     "output_type": "stream",
     "text": [
      "\r",
      " 33%|███▎      | 488/1500 [00:23<01:00, 16.77trial/s, best loss: 118.12655953721905]"
     ]
    },
    {
     "name": "stdout",
     "output_type": "stream",
     "text": [
      "\r",
      " 33%|███▎      | 490/1500 [00:23<00:59, 17.04trial/s, best loss: 118.12655953721905]"
     ]
    },
    {
     "name": "stdout",
     "output_type": "stream",
     "text": [
      "\r",
      " 33%|███▎      | 492/1500 [00:23<00:58, 17.15trial/s, best loss: 118.12655953721905]"
     ]
    },
    {
     "name": "stdout",
     "output_type": "stream",
     "text": [
      "\r",
      " 33%|███▎      | 494/1500 [00:23<00:58, 17.25trial/s, best loss: 118.12655953721905]"
     ]
    },
    {
     "name": "stdout",
     "output_type": "stream",
     "text": [
      "\r",
      " 33%|███▎      | 496/1500 [00:23<00:57, 17.37trial/s, best loss: 118.12655953721905]"
     ]
    },
    {
     "name": "stdout",
     "output_type": "stream",
     "text": [
      "\r",
      " 33%|███▎      | 498/1500 [00:23<00:57, 17.44trial/s, best loss: 118.12655953721905]"
     ]
    },
    {
     "name": "stdout",
     "output_type": "stream",
     "text": [
      "\r",
      " 33%|███▎      | 500/1500 [00:23<00:57, 17.38trial/s, best loss: 118.12655953721905]"
     ]
    },
    {
     "name": "stdout",
     "output_type": "stream",
     "text": [
      "\r",
      " 33%|███▎      | 502/1500 [00:23<00:57, 17.32trial/s, best loss: 118.12655953721905]"
     ]
    },
    {
     "name": "stdout",
     "output_type": "stream",
     "text": [
      "\r",
      " 34%|███▎      | 504/1500 [00:23<00:57, 17.30trial/s, best loss: 118.12655953721905]"
     ]
    },
    {
     "name": "stdout",
     "output_type": "stream",
     "text": [
      "\r",
      " 34%|███▎      | 506/1500 [00:24<00:57, 17.30trial/s, best loss: 118.12655953721905]"
     ]
    },
    {
     "name": "stdout",
     "output_type": "stream",
     "text": [
      "\r",
      " 34%|███▍      | 508/1500 [00:24<00:57, 17.37trial/s, best loss: 118.12655953721905]"
     ]
    },
    {
     "name": "stdout",
     "output_type": "stream",
     "text": [
      "\r",
      " 34%|███▍      | 510/1500 [00:24<00:57, 17.32trial/s, best loss: 118.12655953721905]"
     ]
    },
    {
     "name": "stdout",
     "output_type": "stream",
     "text": [
      "\r",
      " 34%|███▍      | 512/1500 [00:24<00:57, 17.30trial/s, best loss: 118.12655953721905]"
     ]
    },
    {
     "name": "stdout",
     "output_type": "stream",
     "text": [
      "\r",
      " 34%|███▍      | 514/1500 [00:24<00:57, 17.15trial/s, best loss: 118.12655953721905]"
     ]
    },
    {
     "name": "stdout",
     "output_type": "stream",
     "text": [
      "\r",
      " 34%|███▍      | 516/1500 [00:24<00:58, 16.96trial/s, best loss: 118.12655953721905]"
     ]
    },
    {
     "name": "stdout",
     "output_type": "stream",
     "text": [
      "\r",
      " 35%|███▍      | 518/1500 [00:24<00:57, 16.98trial/s, best loss: 118.12655953721905]"
     ]
    },
    {
     "name": "stdout",
     "output_type": "stream",
     "text": [
      "\r",
      " 35%|███▍      | 520/1500 [00:24<00:57, 16.94trial/s, best loss: 118.12655953721905]"
     ]
    },
    {
     "name": "stdout",
     "output_type": "stream",
     "text": [
      "\r",
      " 35%|███▍      | 522/1500 [00:25<00:57, 16.97trial/s, best loss: 118.12655953721905]"
     ]
    },
    {
     "name": "stdout",
     "output_type": "stream",
     "text": [
      "\r",
      " 35%|███▍      | 524/1500 [00:25<00:57, 16.98trial/s, best loss: 118.12655953721905]"
     ]
    },
    {
     "name": "stdout",
     "output_type": "stream",
     "text": [
      "\r",
      " 35%|███▌      | 526/1500 [00:25<00:57, 17.00trial/s, best loss: 118.12655953721905]"
     ]
    },
    {
     "name": "stdout",
     "output_type": "stream",
     "text": [
      "\r",
      " 35%|███▌      | 528/1500 [00:25<00:56, 17.08trial/s, best loss: 118.12655953721905]"
     ]
    },
    {
     "name": "stdout",
     "output_type": "stream",
     "text": [
      "\r",
      " 35%|███▌      | 530/1500 [00:25<00:56, 17.06trial/s, best loss: 118.12655953721905]"
     ]
    },
    {
     "name": "stdout",
     "output_type": "stream",
     "text": [
      "\r",
      " 35%|███▌      | 532/1500 [00:25<00:56, 17.09trial/s, best loss: 118.12655953721905]"
     ]
    },
    {
     "name": "stdout",
     "output_type": "stream",
     "text": [
      "\r",
      " 36%|███▌      | 534/1500 [00:25<00:56, 17.09trial/s, best loss: 118.12655953721905]"
     ]
    },
    {
     "name": "stdout",
     "output_type": "stream",
     "text": [
      "\r",
      " 36%|███▌      | 536/1500 [00:25<00:56, 17.12trial/s, best loss: 118.12655953721905]"
     ]
    },
    {
     "name": "stdout",
     "output_type": "stream",
     "text": [
      "\r",
      " 36%|███▌      | 538/1500 [00:25<00:56, 17.11trial/s, best loss: 118.12655953721905]"
     ]
    },
    {
     "name": "stdout",
     "output_type": "stream",
     "text": [
      "\r",
      " 36%|███▌      | 540/1500 [00:26<00:56, 17.11trial/s, best loss: 118.12655953721905]"
     ]
    },
    {
     "name": "stdout",
     "output_type": "stream",
     "text": [
      "\r",
      " 36%|███▌      | 542/1500 [00:26<00:55, 17.12trial/s, best loss: 118.12655953721905]"
     ]
    },
    {
     "name": "stdout",
     "output_type": "stream",
     "text": [
      "\r",
      " 36%|███▋      | 544/1500 [00:26<00:56, 16.99trial/s, best loss: 118.12655953721905]"
     ]
    },
    {
     "name": "stdout",
     "output_type": "stream",
     "text": [
      "\r",
      " 36%|███▋      | 546/1500 [00:26<00:56, 16.93trial/s, best loss: 118.12655953721905]"
     ]
    },
    {
     "name": "stdout",
     "output_type": "stream",
     "text": [
      "\r",
      " 37%|███▋      | 548/1500 [00:26<00:56, 16.94trial/s, best loss: 118.12655953721905]"
     ]
    },
    {
     "name": "stdout",
     "output_type": "stream",
     "text": [
      "\r",
      " 37%|███▋      | 550/1500 [00:26<00:56, 16.80trial/s, best loss: 118.12655953721905]"
     ]
    },
    {
     "name": "stdout",
     "output_type": "stream",
     "text": [
      "\r",
      " 37%|███▋      | 552/1500 [00:26<00:55, 16.95trial/s, best loss: 118.12655953721905]"
     ]
    },
    {
     "name": "stdout",
     "output_type": "stream",
     "text": [
      "\r",
      " 37%|███▋      | 554/1500 [00:26<00:55, 16.94trial/s, best loss: 118.12655953721905]"
     ]
    },
    {
     "name": "stdout",
     "output_type": "stream",
     "text": [
      "\r",
      " 37%|███▋      | 556/1500 [00:27<00:55, 16.94trial/s, best loss: 118.12655953721905]"
     ]
    },
    {
     "name": "stdout",
     "output_type": "stream",
     "text": [
      "\r",
      " 37%|███▋      | 558/1500 [00:27<00:55, 16.93trial/s, best loss: 118.12655953721905]"
     ]
    },
    {
     "name": "stdout",
     "output_type": "stream",
     "text": [
      "\r",
      " 37%|███▋      | 560/1500 [00:27<00:55, 16.92trial/s, best loss: 118.12655953721905]"
     ]
    },
    {
     "name": "stdout",
     "output_type": "stream",
     "text": [
      "\r",
      " 37%|███▋      | 562/1500 [00:27<00:55, 16.80trial/s, best loss: 118.12655953721905]"
     ]
    },
    {
     "name": "stdout",
     "output_type": "stream",
     "text": [
      "\r",
      " 38%|███▊      | 564/1500 [00:27<00:55, 16.84trial/s, best loss: 118.12655953721905]"
     ]
    },
    {
     "name": "stdout",
     "output_type": "stream",
     "text": [
      "\r",
      " 38%|███▊      | 566/1500 [00:27<00:55, 16.85trial/s, best loss: 118.12655953721905]"
     ]
    },
    {
     "name": "stdout",
     "output_type": "stream",
     "text": [
      "\r",
      " 38%|███▊      | 568/1500 [00:27<00:55, 16.85trial/s, best loss: 118.12655953721905]"
     ]
    },
    {
     "name": "stdout",
     "output_type": "stream",
     "text": [
      "\r",
      " 38%|███▊      | 570/1500 [00:27<00:55, 16.88trial/s, best loss: 118.12655953721905]"
     ]
    },
    {
     "name": "stdout",
     "output_type": "stream",
     "text": [
      "\r",
      " 38%|███▊      | 572/1500 [00:27<00:54, 16.98trial/s, best loss: 118.12655953721905]"
     ]
    },
    {
     "name": "stdout",
     "output_type": "stream",
     "text": [
      "\r",
      " 38%|███▊      | 574/1500 [00:28<00:55, 16.79trial/s, best loss: 118.12655953721905]"
     ]
    },
    {
     "name": "stdout",
     "output_type": "stream",
     "text": [
      "\r",
      " 38%|███▊      | 576/1500 [00:28<00:55, 16.77trial/s, best loss: 118.12655953721905]"
     ]
    },
    {
     "name": "stdout",
     "output_type": "stream",
     "text": [
      "\r",
      " 39%|███▊      | 578/1500 [00:28<00:54, 16.80trial/s, best loss: 118.12655953721905]"
     ]
    },
    {
     "name": "stdout",
     "output_type": "stream",
     "text": [
      "\r",
      " 39%|███▊      | 580/1500 [00:28<00:55, 16.71trial/s, best loss: 118.12655953721905]"
     ]
    },
    {
     "name": "stdout",
     "output_type": "stream",
     "text": [
      "\r",
      " 39%|███▉      | 582/1500 [00:28<00:55, 16.55trial/s, best loss: 118.12655953721905]"
     ]
    },
    {
     "name": "stdout",
     "output_type": "stream",
     "text": [
      "\r",
      " 39%|███▉      | 584/1500 [00:28<00:55, 16.43trial/s, best loss: 118.12655953721905]"
     ]
    },
    {
     "name": "stdout",
     "output_type": "stream",
     "text": [
      "\r",
      " 39%|███▉      | 586/1500 [00:28<00:55, 16.49trial/s, best loss: 118.12655953721905]"
     ]
    },
    {
     "name": "stdout",
     "output_type": "stream",
     "text": [
      "\r",
      " 39%|███▉      | 588/1500 [00:28<00:55, 16.57trial/s, best loss: 118.12655953721905]"
     ]
    },
    {
     "name": "stdout",
     "output_type": "stream",
     "text": [
      "\r",
      " 39%|███▉      | 590/1500 [00:29<00:54, 16.63trial/s, best loss: 118.12655953721905]"
     ]
    },
    {
     "name": "stdout",
     "output_type": "stream",
     "text": [
      "\r",
      " 39%|███▉      | 592/1500 [00:29<00:54, 16.66trial/s, best loss: 118.12655953721905]"
     ]
    },
    {
     "name": "stdout",
     "output_type": "stream",
     "text": [
      "\r",
      " 40%|███▉      | 594/1500 [00:29<00:54, 16.73trial/s, best loss: 118.12655953721905]"
     ]
    },
    {
     "name": "stdout",
     "output_type": "stream",
     "text": [
      "\r",
      " 40%|███▉      | 596/1500 [00:29<01:02, 14.42trial/s, best loss: 118.12655953721905]"
     ]
    },
    {
     "name": "stdout",
     "output_type": "stream",
     "text": [
      "\r",
      " 40%|███▉      | 598/1500 [00:29<00:59, 15.07trial/s, best loss: 118.12655953721905]"
     ]
    },
    {
     "name": "stdout",
     "output_type": "stream",
     "text": [
      "\r",
      " 40%|████      | 600/1500 [00:29<00:58, 15.48trial/s, best loss: 118.12655953721905]"
     ]
    },
    {
     "name": "stdout",
     "output_type": "stream",
     "text": [
      "\r",
      " 40%|████      | 602/1500 [00:29<00:56, 15.80trial/s, best loss: 118.12655953721905]"
     ]
    },
    {
     "name": "stdout",
     "output_type": "stream",
     "text": [
      "\r",
      " 40%|████      | 604/1500 [00:29<00:56, 15.82trial/s, best loss: 118.12655953721905]"
     ]
    },
    {
     "name": "stdout",
     "output_type": "stream",
     "text": [
      "\r",
      " 40%|████      | 606/1500 [00:30<00:57, 15.50trial/s, best loss: 118.12655953721905]"
     ]
    },
    {
     "name": "stdout",
     "output_type": "stream",
     "text": [
      "\r",
      " 41%|████      | 608/1500 [00:30<01:00, 14.69trial/s, best loss: 118.12655953721905]"
     ]
    },
    {
     "name": "stdout",
     "output_type": "stream",
     "text": [
      "\r",
      " 41%|████      | 610/1500 [00:30<01:02, 14.35trial/s, best loss: 118.12655953721905]"
     ]
    },
    {
     "name": "stdout",
     "output_type": "stream",
     "text": [
      "\r",
      " 41%|████      | 612/1500 [00:30<00:59, 14.84trial/s, best loss: 118.12655953721905]"
     ]
    },
    {
     "name": "stdout",
     "output_type": "stream",
     "text": [
      "\r",
      " 41%|████      | 614/1500 [00:30<00:58, 15.19trial/s, best loss: 118.12655953721905]"
     ]
    },
    {
     "name": "stdout",
     "output_type": "stream",
     "text": [
      "\r",
      " 41%|████      | 616/1500 [00:30<00:57, 15.40trial/s, best loss: 118.12655953721905]"
     ]
    },
    {
     "name": "stdout",
     "output_type": "stream",
     "text": [
      "\r",
      " 41%|████      | 618/1500 [00:30<00:56, 15.53trial/s, best loss: 118.12655953721905]"
     ]
    },
    {
     "name": "stdout",
     "output_type": "stream",
     "text": [
      "\r",
      " 41%|████▏     | 620/1500 [00:31<00:56, 15.64trial/s, best loss: 118.12655953721905]"
     ]
    },
    {
     "name": "stdout",
     "output_type": "stream",
     "text": [
      "\r",
      " 41%|████▏     | 622/1500 [00:31<00:56, 15.68trial/s, best loss: 118.12655953721905]"
     ]
    },
    {
     "name": "stdout",
     "output_type": "stream",
     "text": [
      "\r",
      " 42%|████▏     | 624/1500 [00:31<00:55, 15.79trial/s, best loss: 118.12655953721905]"
     ]
    },
    {
     "name": "stdout",
     "output_type": "stream",
     "text": [
      "\r",
      " 42%|████▏     | 626/1500 [00:31<00:55, 15.84trial/s, best loss: 118.12655953721905]"
     ]
    },
    {
     "name": "stdout",
     "output_type": "stream",
     "text": [
      "\r",
      " 42%|████▏     | 628/1500 [00:31<00:54, 15.89trial/s, best loss: 118.12655953721905]"
     ]
    },
    {
     "name": "stdout",
     "output_type": "stream",
     "text": [
      "\r",
      " 42%|████▏     | 630/1500 [00:31<00:55, 15.71trial/s, best loss: 118.12655953721905]"
     ]
    },
    {
     "name": "stdout",
     "output_type": "stream",
     "text": [
      "\r",
      " 42%|████▏     | 632/1500 [00:31<00:55, 15.70trial/s, best loss: 118.12655953721905]"
     ]
    },
    {
     "name": "stdout",
     "output_type": "stream",
     "text": [
      "\r",
      " 42%|████▏     | 634/1500 [00:31<00:55, 15.74trial/s, best loss: 118.12655953721905]"
     ]
    },
    {
     "name": "stdout",
     "output_type": "stream",
     "text": [
      "\r",
      " 42%|████▏     | 636/1500 [00:32<00:54, 15.83trial/s, best loss: 118.12655953721905]"
     ]
    },
    {
     "name": "stdout",
     "output_type": "stream",
     "text": [
      "\r",
      " 43%|████▎     | 638/1500 [00:32<00:54, 15.92trial/s, best loss: 118.12655953721905]"
     ]
    },
    {
     "name": "stdout",
     "output_type": "stream",
     "text": [
      "\r",
      " 43%|████▎     | 640/1500 [00:32<00:53, 16.05trial/s, best loss: 118.12655953721905]"
     ]
    },
    {
     "name": "stdout",
     "output_type": "stream",
     "text": [
      "\r",
      " 43%|████▎     | 642/1500 [00:32<00:53, 15.96trial/s, best loss: 118.12655953721905]"
     ]
    },
    {
     "name": "stdout",
     "output_type": "stream",
     "text": [
      "\r",
      " 43%|████▎     | 644/1500 [00:32<00:53, 15.90trial/s, best loss: 118.12655953721905]"
     ]
    },
    {
     "name": "stdout",
     "output_type": "stream",
     "text": [
      "\r",
      " 43%|████▎     | 646/1500 [00:32<00:54, 15.71trial/s, best loss: 118.12655953721905]"
     ]
    },
    {
     "name": "stdout",
     "output_type": "stream",
     "text": [
      "\r",
      " 43%|████▎     | 648/1500 [00:32<00:54, 15.67trial/s, best loss: 118.12655953721905]"
     ]
    },
    {
     "name": "stdout",
     "output_type": "stream",
     "text": [
      "\r",
      " 43%|████▎     | 650/1500 [00:32<00:54, 15.73trial/s, best loss: 118.12655953721905]"
     ]
    },
    {
     "name": "stdout",
     "output_type": "stream",
     "text": [
      "\r",
      " 43%|████▎     | 652/1500 [00:33<00:53, 15.80trial/s, best loss: 118.12655953721905]"
     ]
    },
    {
     "name": "stdout",
     "output_type": "stream",
     "text": [
      "\r",
      " 44%|████▎     | 654/1500 [00:33<00:54, 15.48trial/s, best loss: 118.12655953721905]"
     ]
    },
    {
     "name": "stdout",
     "output_type": "stream",
     "text": [
      "\r",
      " 44%|████▎     | 656/1500 [00:33<00:55, 15.13trial/s, best loss: 118.12655953721905]"
     ]
    },
    {
     "name": "stdout",
     "output_type": "stream",
     "text": [
      "\r",
      " 44%|████▍     | 658/1500 [00:33<00:55, 15.22trial/s, best loss: 118.12655953721905]"
     ]
    },
    {
     "name": "stdout",
     "output_type": "stream",
     "text": [
      "\r",
      " 44%|████▍     | 660/1500 [00:33<00:54, 15.29trial/s, best loss: 118.12655953721905]"
     ]
    },
    {
     "name": "stdout",
     "output_type": "stream",
     "text": [
      "\r",
      " 44%|████▍     | 662/1500 [00:33<00:54, 15.39trial/s, best loss: 118.12655953721905]"
     ]
    },
    {
     "name": "stdout",
     "output_type": "stream",
     "text": [
      "\r",
      " 44%|████▍     | 664/1500 [00:33<00:53, 15.52trial/s, best loss: 118.12655953721905]"
     ]
    },
    {
     "name": "stdout",
     "output_type": "stream",
     "text": [
      "\r",
      " 44%|████▍     | 666/1500 [00:33<00:53, 15.53trial/s, best loss: 118.12655953721905]"
     ]
    },
    {
     "name": "stdout",
     "output_type": "stream",
     "text": [
      "\r",
      " 45%|████▍     | 668/1500 [00:34<00:53, 15.54trial/s, best loss: 118.12655953721905]"
     ]
    },
    {
     "name": "stdout",
     "output_type": "stream",
     "text": [
      "\r",
      " 45%|████▍     | 670/1500 [00:34<00:53, 15.61trial/s, best loss: 118.12655953721905]"
     ]
    },
    {
     "name": "stdout",
     "output_type": "stream",
     "text": [
      "\r",
      " 45%|████▍     | 672/1500 [00:34<00:53, 15.58trial/s, best loss: 118.12655953721905]"
     ]
    },
    {
     "name": "stdout",
     "output_type": "stream",
     "text": [
      "\r",
      " 45%|████▍     | 674/1500 [00:34<00:52, 15.63trial/s, best loss: 118.12655953721905]"
     ]
    },
    {
     "name": "stdout",
     "output_type": "stream",
     "text": [
      "\r",
      " 45%|████▌     | 676/1500 [00:34<00:53, 15.35trial/s, best loss: 118.12655953721905]"
     ]
    },
    {
     "name": "stdout",
     "output_type": "stream",
     "text": [
      "\r",
      " 45%|████▌     | 678/1500 [00:34<00:53, 15.42trial/s, best loss: 118.12655953721905]"
     ]
    },
    {
     "name": "stdout",
     "output_type": "stream",
     "text": [
      "\r",
      " 45%|████▌     | 680/1500 [00:34<00:52, 15.48trial/s, best loss: 118.12655953721905]"
     ]
    },
    {
     "name": "stdout",
     "output_type": "stream",
     "text": [
      "\r",
      " 45%|████▌     | 682/1500 [00:35<00:52, 15.49trial/s, best loss: 118.12655953721905]"
     ]
    },
    {
     "name": "stdout",
     "output_type": "stream",
     "text": [
      "\r",
      " 46%|████▌     | 684/1500 [00:35<00:52, 15.45trial/s, best loss: 118.12655953721905]"
     ]
    },
    {
     "name": "stdout",
     "output_type": "stream",
     "text": [
      "\r",
      " 46%|████▌     | 686/1500 [00:35<00:52, 15.46trial/s, best loss: 118.12655953721905]"
     ]
    },
    {
     "name": "stdout",
     "output_type": "stream",
     "text": [
      "\r",
      " 46%|████▌     | 688/1500 [00:35<00:52, 15.48trial/s, best loss: 118.12655953721905]"
     ]
    },
    {
     "name": "stdout",
     "output_type": "stream",
     "text": [
      "\r",
      " 46%|████▌     | 690/1500 [00:35<00:52, 15.50trial/s, best loss: 118.12655953721905]"
     ]
    },
    {
     "name": "stdout",
     "output_type": "stream",
     "text": [
      "\r",
      " 46%|████▌     | 692/1500 [00:35<00:52, 15.39trial/s, best loss: 118.12655953721905]"
     ]
    },
    {
     "name": "stdout",
     "output_type": "stream",
     "text": [
      "\r",
      " 46%|████▋     | 694/1500 [00:35<00:52, 15.39trial/s, best loss: 118.12655953721905]"
     ]
    },
    {
     "name": "stdout",
     "output_type": "stream",
     "text": [
      "\r",
      " 46%|████▋     | 696/1500 [00:35<01:00, 13.35trial/s, best loss: 118.12655953721905]"
     ]
    },
    {
     "name": "stdout",
     "output_type": "stream",
     "text": [
      "\r",
      " 47%|████▋     | 698/1500 [00:36<00:57, 13.85trial/s, best loss: 118.12655953721905]"
     ]
    },
    {
     "name": "stdout",
     "output_type": "stream",
     "text": [
      "\r",
      " 47%|████▋     | 700/1500 [00:36<00:56, 14.21trial/s, best loss: 118.12655953721905]"
     ]
    },
    {
     "name": "stdout",
     "output_type": "stream",
     "text": [
      "\r",
      " 47%|████▋     | 702/1500 [00:36<00:55, 14.37trial/s, best loss: 118.12655953721905]"
     ]
    },
    {
     "name": "stdout",
     "output_type": "stream",
     "text": [
      "\r",
      " 47%|████▋     | 704/1500 [00:36<00:54, 14.50trial/s, best loss: 118.12655953721905]"
     ]
    },
    {
     "name": "stdout",
     "output_type": "stream",
     "text": [
      "\r",
      " 47%|████▋     | 706/1500 [00:36<00:54, 14.67trial/s, best loss: 118.12655953721905]"
     ]
    },
    {
     "name": "stdout",
     "output_type": "stream",
     "text": [
      "\r",
      " 47%|████▋     | 708/1500 [00:36<00:53, 14.79trial/s, best loss: 118.12655953721905]"
     ]
    },
    {
     "name": "stdout",
     "output_type": "stream",
     "text": [
      "\r",
      " 47%|████▋     | 710/1500 [00:36<00:52, 14.91trial/s, best loss: 118.12655953721905]"
     ]
    },
    {
     "name": "stdout",
     "output_type": "stream",
     "text": [
      "\r",
      " 47%|████▋     | 712/1500 [00:37<00:52, 14.96trial/s, best loss: 118.12655953721905]"
     ]
    },
    {
     "name": "stdout",
     "output_type": "stream",
     "text": [
      "\r",
      " 48%|████▊     | 714/1500 [00:37<00:52, 15.03trial/s, best loss: 118.12655953721905]"
     ]
    },
    {
     "name": "stdout",
     "output_type": "stream",
     "text": [
      "\r",
      " 48%|████▊     | 716/1500 [00:37<00:52, 15.01trial/s, best loss: 118.12655953721905]"
     ]
    },
    {
     "name": "stdout",
     "output_type": "stream",
     "text": [
      "\r",
      " 48%|████▊     | 718/1500 [00:37<00:52, 15.00trial/s, best loss: 118.12655953721905]"
     ]
    },
    {
     "name": "stdout",
     "output_type": "stream",
     "text": [
      "\r",
      " 48%|████▊     | 720/1500 [00:37<00:51, 15.04trial/s, best loss: 118.12655953721905]"
     ]
    },
    {
     "name": "stdout",
     "output_type": "stream",
     "text": [
      "\r",
      " 48%|████▊     | 722/1500 [00:37<00:51, 15.15trial/s, best loss: 118.12655953721905]"
     ]
    },
    {
     "name": "stdout",
     "output_type": "stream",
     "text": [
      "\r",
      " 48%|████▊     | 724/1500 [00:37<00:51, 15.16trial/s, best loss: 118.12655953721905]"
     ]
    },
    {
     "name": "stdout",
     "output_type": "stream",
     "text": [
      "\r",
      " 48%|████▊     | 726/1500 [00:37<00:50, 15.18trial/s, best loss: 118.12655953721905]"
     ]
    },
    {
     "name": "stdout",
     "output_type": "stream",
     "text": [
      "\r",
      " 49%|████▊     | 728/1500 [00:38<00:50, 15.17trial/s, best loss: 118.12655953721905]"
     ]
    },
    {
     "name": "stdout",
     "output_type": "stream",
     "text": [
      "\r",
      " 49%|████▊     | 730/1500 [00:38<00:50, 15.24trial/s, best loss: 118.12655953721905]"
     ]
    },
    {
     "name": "stdout",
     "output_type": "stream",
     "text": [
      "\r",
      " 49%|████▉     | 732/1500 [00:38<00:50, 15.24trial/s, best loss: 118.12655953721905]"
     ]
    },
    {
     "name": "stdout",
     "output_type": "stream",
     "text": [
      "\r",
      " 49%|████▉     | 734/1500 [00:38<00:50, 15.15trial/s, best loss: 118.12655953721905]"
     ]
    },
    {
     "name": "stdout",
     "output_type": "stream",
     "text": [
      "\r",
      " 49%|████▉     | 736/1500 [00:38<00:50, 15.14trial/s, best loss: 118.12655953721905]"
     ]
    },
    {
     "name": "stdout",
     "output_type": "stream",
     "text": [
      "\r",
      " 49%|████▉     | 738/1500 [00:38<00:50, 15.17trial/s, best loss: 118.12655953721905]"
     ]
    },
    {
     "name": "stdout",
     "output_type": "stream",
     "text": [
      "\r",
      " 49%|████▉     | 740/1500 [00:38<00:50, 15.16trial/s, best loss: 118.12655953721905]"
     ]
    },
    {
     "name": "stdout",
     "output_type": "stream",
     "text": [
      "\r",
      " 49%|████▉     | 742/1500 [00:39<00:49, 15.17trial/s, best loss: 118.12655953721905]"
     ]
    },
    {
     "name": "stdout",
     "output_type": "stream",
     "text": [
      "\r",
      " 50%|████▉     | 744/1500 [00:39<00:49, 15.18trial/s, best loss: 118.12655953721905]"
     ]
    },
    {
     "name": "stdout",
     "output_type": "stream",
     "text": [
      "\r",
      " 50%|████▉     | 746/1500 [00:39<00:49, 15.23trial/s, best loss: 118.12655953721905]"
     ]
    },
    {
     "name": "stdout",
     "output_type": "stream",
     "text": [
      "\r",
      " 50%|████▉     | 748/1500 [00:39<00:49, 15.30trial/s, best loss: 118.12655953721905]"
     ]
    },
    {
     "name": "stdout",
     "output_type": "stream",
     "text": [
      "\r",
      " 50%|█████     | 750/1500 [00:39<00:49, 15.26trial/s, best loss: 118.12655953721905]"
     ]
    },
    {
     "name": "stdout",
     "output_type": "stream",
     "text": [
      "\r",
      " 50%|█████     | 752/1500 [00:39<00:49, 15.15trial/s, best loss: 118.12655953721905]"
     ]
    },
    {
     "name": "stdout",
     "output_type": "stream",
     "text": [
      "\r",
      " 50%|█████     | 754/1500 [00:39<00:49, 15.13trial/s, best loss: 118.12655953721905]"
     ]
    },
    {
     "name": "stdout",
     "output_type": "stream",
     "text": [
      "\r",
      " 50%|█████     | 756/1500 [00:39<00:49, 15.05trial/s, best loss: 118.12655953721905]"
     ]
    },
    {
     "name": "stdout",
     "output_type": "stream",
     "text": [
      "\r",
      " 51%|█████     | 758/1500 [00:40<00:49, 14.92trial/s, best loss: 118.12655953721905]"
     ]
    },
    {
     "name": "stdout",
     "output_type": "stream",
     "text": [
      "\r",
      " 51%|█████     | 760/1500 [00:40<00:49, 15.04trial/s, best loss: 118.12655953721905]"
     ]
    },
    {
     "name": "stdout",
     "output_type": "stream",
     "text": [
      "\r",
      " 51%|█████     | 762/1500 [00:40<00:49, 15.00trial/s, best loss: 118.12655953721905]"
     ]
    },
    {
     "name": "stdout",
     "output_type": "stream",
     "text": [
      "\r",
      " 51%|█████     | 764/1500 [00:40<00:49, 14.99trial/s, best loss: 118.12655953721905]"
     ]
    },
    {
     "name": "stdout",
     "output_type": "stream",
     "text": [
      "\r",
      " 51%|█████     | 766/1500 [00:40<00:49, 14.96trial/s, best loss: 118.12655953721905]"
     ]
    },
    {
     "name": "stdout",
     "output_type": "stream",
     "text": [
      "\r",
      " 51%|█████     | 768/1500 [00:40<00:49, 14.66trial/s, best loss: 118.12655953721905]"
     ]
    },
    {
     "name": "stdout",
     "output_type": "stream",
     "text": [
      "\r",
      " 51%|█████▏    | 770/1500 [00:40<00:51, 14.31trial/s, best loss: 118.12655953721905]"
     ]
    },
    {
     "name": "stdout",
     "output_type": "stream",
     "text": [
      "\r",
      " 51%|█████▏    | 772/1500 [00:41<00:50, 14.33trial/s, best loss: 118.12655953721905]"
     ]
    },
    {
     "name": "stdout",
     "output_type": "stream",
     "text": [
      "\r",
      " 52%|█████▏    | 774/1500 [00:41<00:50, 14.41trial/s, best loss: 118.12655953721905]"
     ]
    },
    {
     "name": "stdout",
     "output_type": "stream",
     "text": [
      "\r",
      " 52%|█████▏    | 776/1500 [00:41<00:50, 14.20trial/s, best loss: 118.12655953721905]"
     ]
    },
    {
     "name": "stdout",
     "output_type": "stream",
     "text": [
      "\r",
      " 52%|█████▏    | 778/1500 [00:41<00:50, 14.41trial/s, best loss: 118.12655953721905]"
     ]
    },
    {
     "name": "stdout",
     "output_type": "stream",
     "text": [
      "\r",
      " 52%|█████▏    | 780/1500 [00:41<00:49, 14.47trial/s, best loss: 118.12655953721905]"
     ]
    },
    {
     "name": "stdout",
     "output_type": "stream",
     "text": [
      "\r",
      " 52%|█████▏    | 782/1500 [00:41<00:49, 14.53trial/s, best loss: 118.12655953721905]"
     ]
    },
    {
     "name": "stdout",
     "output_type": "stream",
     "text": [
      "\r",
      " 52%|█████▏    | 784/1500 [00:41<00:49, 14.57trial/s, best loss: 118.12655953721905]"
     ]
    },
    {
     "name": "stdout",
     "output_type": "stream",
     "text": [
      "\r",
      " 52%|█████▏    | 786/1500 [00:42<00:48, 14.62trial/s, best loss: 118.12655953721905]"
     ]
    },
    {
     "name": "stdout",
     "output_type": "stream",
     "text": [
      "\r",
      " 53%|█████▎    | 788/1500 [00:42<00:48, 14.72trial/s, best loss: 118.12655953721905]"
     ]
    },
    {
     "name": "stdout",
     "output_type": "stream",
     "text": [
      "\r",
      " 53%|█████▎    | 790/1500 [00:42<00:47, 14.83trial/s, best loss: 118.12655953721905]"
     ]
    },
    {
     "name": "stdout",
     "output_type": "stream",
     "text": [
      "\r",
      " 53%|█████▎    | 792/1500 [00:42<00:48, 14.73trial/s, best loss: 118.12655953721905]"
     ]
    },
    {
     "name": "stdout",
     "output_type": "stream",
     "text": [
      "\r",
      " 53%|█████▎    | 794/1500 [00:42<00:47, 14.86trial/s, best loss: 118.12655953721905]"
     ]
    },
    {
     "name": "stdout",
     "output_type": "stream",
     "text": [
      "\r",
      " 53%|█████▎    | 796/1500 [00:42<00:54, 12.99trial/s, best loss: 118.12655953721905]"
     ]
    },
    {
     "name": "stdout",
     "output_type": "stream",
     "text": [
      "\r",
      " 53%|█████▎    | 798/1500 [00:42<00:51, 13.55trial/s, best loss: 118.12655953721905]"
     ]
    },
    {
     "name": "stdout",
     "output_type": "stream",
     "text": [
      "\r",
      " 53%|█████▎    | 800/1500 [00:43<00:50, 13.97trial/s, best loss: 118.12655953721905]"
     ]
    },
    {
     "name": "stdout",
     "output_type": "stream",
     "text": [
      "\r",
      " 53%|█████▎    | 802/1500 [00:43<00:48, 14.26trial/s, best loss: 118.12655953721905]"
     ]
    },
    {
     "name": "stdout",
     "output_type": "stream",
     "text": [
      "\r",
      " 54%|█████▎    | 804/1500 [00:43<00:48, 14.46trial/s, best loss: 118.12655953721905]"
     ]
    },
    {
     "name": "stdout",
     "output_type": "stream",
     "text": [
      "\r",
      " 54%|█████▎    | 806/1500 [00:43<00:47, 14.55trial/s, best loss: 118.12655953721905]"
     ]
    },
    {
     "name": "stdout",
     "output_type": "stream",
     "text": [
      "\r",
      " 54%|█████▍    | 808/1500 [00:43<00:49, 13.89trial/s, best loss: 118.12655953721905]"
     ]
    },
    {
     "name": "stdout",
     "output_type": "stream",
     "text": [
      "\r",
      " 54%|█████▍    | 810/1500 [00:43<00:49, 13.96trial/s, best loss: 118.12655953721905]"
     ]
    },
    {
     "name": "stdout",
     "output_type": "stream",
     "text": [
      "\r",
      " 54%|█████▍    | 812/1500 [00:43<00:48, 14.11trial/s, best loss: 118.12655953721905]"
     ]
    },
    {
     "name": "stdout",
     "output_type": "stream",
     "text": [
      "\r",
      " 54%|█████▍    | 814/1500 [00:43<00:48, 14.29trial/s, best loss: 118.12655953721905]"
     ]
    },
    {
     "name": "stdout",
     "output_type": "stream",
     "text": [
      "\r",
      " 54%|█████▍    | 816/1500 [00:44<00:47, 14.41trial/s, best loss: 118.12655953721905]"
     ]
    },
    {
     "name": "stdout",
     "output_type": "stream",
     "text": [
      "\r",
      " 55%|█████▍    | 818/1500 [00:44<00:46, 14.53trial/s, best loss: 118.12655953721905]"
     ]
    },
    {
     "name": "stdout",
     "output_type": "stream",
     "text": [
      "\r",
      " 55%|█████▍    | 820/1500 [00:44<00:46, 14.56trial/s, best loss: 118.12655953721905]"
     ]
    },
    {
     "name": "stdout",
     "output_type": "stream",
     "text": [
      "\r",
      " 55%|█████▍    | 822/1500 [00:44<00:46, 14.50trial/s, best loss: 118.12655953721905]"
     ]
    },
    {
     "name": "stdout",
     "output_type": "stream",
     "text": [
      "\r",
      " 55%|█████▍    | 824/1500 [00:44<00:46, 14.50trial/s, best loss: 118.12655953721905]"
     ]
    },
    {
     "name": "stdout",
     "output_type": "stream",
     "text": [
      "\r",
      " 55%|█████▌    | 826/1500 [00:44<00:46, 14.48trial/s, best loss: 118.12655953721905]"
     ]
    },
    {
     "name": "stdout",
     "output_type": "stream",
     "text": [
      "\r",
      " 55%|█████▌    | 828/1500 [00:44<00:46, 14.60trial/s, best loss: 118.12655953721905]"
     ]
    },
    {
     "name": "stdout",
     "output_type": "stream",
     "text": [
      "\r",
      " 55%|█████▌    | 830/1500 [00:45<00:46, 14.56trial/s, best loss: 118.12655953721905]"
     ]
    },
    {
     "name": "stdout",
     "output_type": "stream",
     "text": [
      "\r",
      " 55%|█████▌    | 832/1500 [00:45<00:46, 14.48trial/s, best loss: 118.12655953721905]"
     ]
    },
    {
     "name": "stdout",
     "output_type": "stream",
     "text": [
      "\r",
      " 56%|█████▌    | 834/1500 [00:45<00:46, 14.31trial/s, best loss: 118.12655953721905]"
     ]
    },
    {
     "name": "stdout",
     "output_type": "stream",
     "text": [
      "\r",
      " 56%|█████▌    | 836/1500 [00:45<00:46, 14.29trial/s, best loss: 118.12655953721905]"
     ]
    },
    {
     "name": "stdout",
     "output_type": "stream",
     "text": [
      "\r",
      " 56%|█████▌    | 838/1500 [00:45<00:46, 14.26trial/s, best loss: 118.12655953721905]"
     ]
    },
    {
     "name": "stdout",
     "output_type": "stream",
     "text": [
      "\r",
      " 56%|█████▌    | 840/1500 [00:45<00:46, 14.21trial/s, best loss: 118.12655953721905]"
     ]
    },
    {
     "name": "stdout",
     "output_type": "stream",
     "text": [
      "\r",
      " 56%|█████▌    | 842/1500 [00:45<00:46, 14.20trial/s, best loss: 118.12655953721905]"
     ]
    },
    {
     "name": "stdout",
     "output_type": "stream",
     "text": [
      "\r",
      " 56%|█████▋    | 844/1500 [00:46<00:46, 14.14trial/s, best loss: 118.12655953721905]"
     ]
    },
    {
     "name": "stdout",
     "output_type": "stream",
     "text": [
      "\r",
      " 56%|█████▋    | 846/1500 [00:46<00:46, 14.13trial/s, best loss: 118.12655953721905]"
     ]
    },
    {
     "name": "stdout",
     "output_type": "stream",
     "text": [
      "\r",
      " 57%|█████▋    | 848/1500 [00:46<00:46, 14.12trial/s, best loss: 118.12655953721905]"
     ]
    },
    {
     "name": "stdout",
     "output_type": "stream",
     "text": [
      "\r",
      " 57%|█████▋    | 850/1500 [00:46<00:46, 14.03trial/s, best loss: 118.12655953721905]"
     ]
    },
    {
     "name": "stdout",
     "output_type": "stream",
     "text": [
      "\r",
      " 57%|█████▋    | 852/1500 [00:46<00:46, 14.01trial/s, best loss: 118.12655953721905]"
     ]
    },
    {
     "name": "stdout",
     "output_type": "stream",
     "text": [
      "\r",
      " 57%|█████▋    | 854/1500 [00:46<00:46, 14.03trial/s, best loss: 118.12655953721905]"
     ]
    },
    {
     "name": "stdout",
     "output_type": "stream",
     "text": [
      "\r",
      " 57%|█████▋    | 856/1500 [00:46<00:46, 13.82trial/s, best loss: 118.12655953721905]"
     ]
    },
    {
     "name": "stdout",
     "output_type": "stream",
     "text": [
      "\r",
      " 57%|█████▋    | 858/1500 [00:47<00:45, 13.97trial/s, best loss: 118.12655953721905]"
     ]
    },
    {
     "name": "stdout",
     "output_type": "stream",
     "text": [
      "\r",
      " 57%|█████▋    | 860/1500 [00:47<00:45, 14.00trial/s, best loss: 118.12655953721905]"
     ]
    },
    {
     "name": "stdout",
     "output_type": "stream",
     "text": [
      "\r",
      " 57%|█████▋    | 862/1500 [00:47<00:45, 14.00trial/s, best loss: 118.12655953721905]"
     ]
    },
    {
     "name": "stdout",
     "output_type": "stream",
     "text": [
      "\r",
      " 58%|█████▊    | 864/1500 [00:47<00:45, 13.99trial/s, best loss: 118.12655953721905]"
     ]
    },
    {
     "name": "stdout",
     "output_type": "stream",
     "text": [
      "\r",
      " 58%|█████▊    | 866/1500 [00:47<00:45, 14.02trial/s, best loss: 118.12655953721905]"
     ]
    },
    {
     "name": "stdout",
     "output_type": "stream",
     "text": [
      "\r",
      " 58%|█████▊    | 868/1500 [00:47<00:44, 14.05trial/s, best loss: 118.12655953721905]"
     ]
    },
    {
     "name": "stdout",
     "output_type": "stream",
     "text": [
      "\r",
      " 58%|█████▊    | 870/1500 [00:47<00:44, 14.08trial/s, best loss: 118.12655953721905]"
     ]
    },
    {
     "name": "stdout",
     "output_type": "stream",
     "text": [
      "\r",
      " 58%|█████▊    | 872/1500 [00:48<00:44, 14.14trial/s, best loss: 118.12655953721905]"
     ]
    },
    {
     "name": "stdout",
     "output_type": "stream",
     "text": [
      "\r",
      " 58%|█████▊    | 874/1500 [00:48<00:44, 14.15trial/s, best loss: 118.12655953721905]"
     ]
    },
    {
     "name": "stdout",
     "output_type": "stream",
     "text": [
      "\r",
      " 58%|█████▊    | 876/1500 [00:48<00:43, 14.21trial/s, best loss: 118.12655953721905]"
     ]
    },
    {
     "name": "stdout",
     "output_type": "stream",
     "text": [
      "\r",
      " 59%|█████▊    | 878/1500 [00:48<00:43, 14.20trial/s, best loss: 118.12655953721905]"
     ]
    },
    {
     "name": "stdout",
     "output_type": "stream",
     "text": [
      "\r",
      " 59%|█████▊    | 880/1500 [00:48<00:43, 14.18trial/s, best loss: 118.12655953721905]"
     ]
    },
    {
     "name": "stdout",
     "output_type": "stream",
     "text": [
      "\r",
      " 59%|█████▉    | 882/1500 [00:48<00:43, 14.09trial/s, best loss: 118.12655953721905]"
     ]
    },
    {
     "name": "stdout",
     "output_type": "stream",
     "text": [
      "\r",
      " 59%|█████▉    | 884/1500 [00:48<00:43, 14.20trial/s, best loss: 118.12655953721905]"
     ]
    },
    {
     "name": "stdout",
     "output_type": "stream",
     "text": [
      "\r",
      " 59%|█████▉    | 886/1500 [00:49<00:43, 14.16trial/s, best loss: 118.12655953721905]"
     ]
    },
    {
     "name": "stdout",
     "output_type": "stream",
     "text": [
      "\r",
      " 59%|█████▉    | 888/1500 [00:49<00:43, 14.14trial/s, best loss: 118.12655953721905]"
     ]
    },
    {
     "name": "stdout",
     "output_type": "stream",
     "text": [
      "\r",
      " 59%|█████▉    | 890/1500 [00:49<00:43, 14.13trial/s, best loss: 118.12655953721905]"
     ]
    },
    {
     "name": "stdout",
     "output_type": "stream",
     "text": [
      "\r",
      " 59%|█████▉    | 892/1500 [00:49<00:43, 13.88trial/s, best loss: 118.12655953721905]"
     ]
    },
    {
     "name": "stdout",
     "output_type": "stream",
     "text": [
      "\r",
      " 60%|█████▉    | 894/1500 [00:49<00:43, 13.82trial/s, best loss: 118.12655953721905]"
     ]
    },
    {
     "name": "stdout",
     "output_type": "stream",
     "text": [
      "\r",
      " 60%|█████▉    | 896/1500 [00:49<00:43, 13.80trial/s, best loss: 118.12655953721905]"
     ]
    },
    {
     "name": "stdout",
     "output_type": "stream",
     "text": [
      "\r",
      " 60%|█████▉    | 898/1500 [00:49<00:43, 13.84trial/s, best loss: 118.12655953721905]"
     ]
    },
    {
     "name": "stdout",
     "output_type": "stream",
     "text": [
      "\r",
      " 60%|██████    | 900/1500 [00:50<00:49, 12.14trial/s, best loss: 118.12655953721905]"
     ]
    },
    {
     "name": "stdout",
     "output_type": "stream",
     "text": [
      "\r",
      " 60%|██████    | 902/1500 [00:50<00:47, 12.66trial/s, best loss: 118.12655953721905]"
     ]
    },
    {
     "name": "stdout",
     "output_type": "stream",
     "text": [
      "\r",
      " 60%|██████    | 904/1500 [00:50<00:45, 12.96trial/s, best loss: 118.12655953721905]"
     ]
    },
    {
     "name": "stdout",
     "output_type": "stream",
     "text": [
      "\r",
      " 60%|██████    | 906/1500 [00:50<00:44, 13.20trial/s, best loss: 118.12655953721905]"
     ]
    },
    {
     "name": "stdout",
     "output_type": "stream",
     "text": [
      "\r",
      " 61%|██████    | 908/1500 [00:50<00:44, 13.36trial/s, best loss: 118.12655953721905]"
     ]
    },
    {
     "name": "stdout",
     "output_type": "stream",
     "text": [
      "\r",
      " 61%|██████    | 910/1500 [00:50<00:43, 13.50trial/s, best loss: 118.12655953721905]"
     ]
    },
    {
     "name": "stdout",
     "output_type": "stream",
     "text": [
      "\r",
      " 61%|██████    | 912/1500 [00:51<00:43, 13.63trial/s, best loss: 118.12655953721905]"
     ]
    },
    {
     "name": "stdout",
     "output_type": "stream",
     "text": [
      "\r",
      " 61%|██████    | 914/1500 [00:51<00:44, 13.28trial/s, best loss: 118.12655953721905]"
     ]
    },
    {
     "name": "stdout",
     "output_type": "stream",
     "text": [
      "\r",
      " 61%|██████    | 916/1500 [00:51<00:44, 13.22trial/s, best loss: 118.12655953721905]"
     ]
    },
    {
     "name": "stdout",
     "output_type": "stream",
     "text": [
      "\r",
      " 61%|██████    | 918/1500 [00:51<00:43, 13.36trial/s, best loss: 118.12655953721905]"
     ]
    },
    {
     "name": "stdout",
     "output_type": "stream",
     "text": [
      "\r",
      " 61%|██████▏   | 920/1500 [00:51<00:43, 13.47trial/s, best loss: 118.12655953721905]"
     ]
    },
    {
     "name": "stdout",
     "output_type": "stream",
     "text": [
      "\r",
      " 61%|██████▏   | 922/1500 [00:51<00:42, 13.55trial/s, best loss: 118.12655953721905]"
     ]
    },
    {
     "name": "stdout",
     "output_type": "stream",
     "text": [
      "\r",
      " 62%|██████▏   | 924/1500 [00:51<00:42, 13.63trial/s, best loss: 118.12655953721905]"
     ]
    },
    {
     "name": "stdout",
     "output_type": "stream",
     "text": [
      "\r",
      " 62%|██████▏   | 926/1500 [00:52<00:42, 13.64trial/s, best loss: 118.12655953721905]"
     ]
    },
    {
     "name": "stdout",
     "output_type": "stream",
     "text": [
      "\r",
      " 62%|██████▏   | 928/1500 [00:52<00:41, 13.66trial/s, best loss: 118.12655953721905]"
     ]
    },
    {
     "name": "stdout",
     "output_type": "stream",
     "text": [
      "\r",
      " 62%|██████▏   | 930/1500 [00:52<00:41, 13.66trial/s, best loss: 118.12655953721905]"
     ]
    },
    {
     "name": "stdout",
     "output_type": "stream",
     "text": [
      "\r",
      " 62%|██████▏   | 932/1500 [00:52<00:41, 13.67trial/s, best loss: 118.12655953721905]"
     ]
    },
    {
     "name": "stdout",
     "output_type": "stream",
     "text": [
      "\r",
      " 62%|██████▏   | 934/1500 [00:52<00:41, 13.70trial/s, best loss: 118.12655953721905]"
     ]
    },
    {
     "name": "stdout",
     "output_type": "stream",
     "text": [
      "\r",
      " 62%|██████▏   | 936/1500 [00:52<00:41, 13.70trial/s, best loss: 118.12655953721905]"
     ]
    },
    {
     "name": "stdout",
     "output_type": "stream",
     "text": [
      "\r",
      " 63%|██████▎   | 938/1500 [00:52<00:41, 13.69trial/s, best loss: 118.12655953721905]"
     ]
    },
    {
     "name": "stdout",
     "output_type": "stream",
     "text": [
      "\r",
      " 63%|██████▎   | 940/1500 [00:53<00:41, 13.58trial/s, best loss: 118.12655953721905]"
     ]
    },
    {
     "name": "stdout",
     "output_type": "stream",
     "text": [
      "\r",
      " 63%|██████▎   | 942/1500 [00:53<00:40, 13.63trial/s, best loss: 118.12655953721905]"
     ]
    },
    {
     "name": "stdout",
     "output_type": "stream",
     "text": [
      "\r",
      " 63%|██████▎   | 944/1500 [00:53<00:40, 13.65trial/s, best loss: 118.12655953721905]"
     ]
    },
    {
     "name": "stdout",
     "output_type": "stream",
     "text": [
      "\r",
      " 63%|██████▎   | 946/1500 [00:53<00:41, 13.40trial/s, best loss: 118.12655953721905]"
     ]
    },
    {
     "name": "stdout",
     "output_type": "stream",
     "text": [
      "\r",
      " 63%|██████▎   | 948/1500 [00:53<00:41, 13.44trial/s, best loss: 118.12655953721905]"
     ]
    },
    {
     "name": "stdout",
     "output_type": "stream",
     "text": [
      "\r",
      " 63%|██████▎   | 950/1500 [00:53<00:40, 13.57trial/s, best loss: 118.12655953721905]"
     ]
    },
    {
     "name": "stdout",
     "output_type": "stream",
     "text": [
      "\r",
      " 63%|██████▎   | 952/1500 [00:53<00:40, 13.63trial/s, best loss: 118.12655953721905]"
     ]
    },
    {
     "name": "stdout",
     "output_type": "stream",
     "text": [
      "\r",
      " 64%|██████▎   | 954/1500 [00:54<00:40, 13.55trial/s, best loss: 118.12655953721905]"
     ]
    },
    {
     "name": "stdout",
     "output_type": "stream",
     "text": [
      "\r",
      " 64%|██████▎   | 956/1500 [00:54<00:40, 13.32trial/s, best loss: 118.12655953721905]"
     ]
    },
    {
     "name": "stdout",
     "output_type": "stream",
     "text": [
      "\r",
      " 64%|██████▍   | 958/1500 [00:54<00:41, 13.00trial/s, best loss: 118.12655953721905]"
     ]
    },
    {
     "name": "stdout",
     "output_type": "stream",
     "text": [
      "\r",
      " 64%|██████▍   | 960/1500 [00:54<00:41, 13.16trial/s, best loss: 118.12655953721905]"
     ]
    },
    {
     "name": "stdout",
     "output_type": "stream",
     "text": [
      "\r",
      " 64%|██████▍   | 962/1500 [00:54<00:40, 13.24trial/s, best loss: 118.12655953721905]"
     ]
    },
    {
     "name": "stdout",
     "output_type": "stream",
     "text": [
      "\r",
      " 64%|██████▍   | 964/1500 [00:54<00:40, 13.30trial/s, best loss: 118.12655953721905]"
     ]
    },
    {
     "name": "stdout",
     "output_type": "stream",
     "text": [
      "\r",
      " 64%|██████▍   | 966/1500 [00:55<00:40, 13.34trial/s, best loss: 118.12655953721905]"
     ]
    },
    {
     "name": "stdout",
     "output_type": "stream",
     "text": [
      "\r",
      " 65%|██████▍   | 968/1500 [00:55<00:39, 13.37trial/s, best loss: 118.12655953721905]"
     ]
    },
    {
     "name": "stdout",
     "output_type": "stream",
     "text": [
      "\r",
      " 65%|██████▍   | 970/1500 [00:55<00:39, 13.37trial/s, best loss: 118.12655953721905]"
     ]
    },
    {
     "name": "stdout",
     "output_type": "stream",
     "text": [
      "\r",
      " 65%|██████▍   | 972/1500 [00:55<00:39, 13.35trial/s, best loss: 118.12655953721905]"
     ]
    },
    {
     "name": "stdout",
     "output_type": "stream",
     "text": [
      "\r",
      " 65%|██████▍   | 974/1500 [00:55<00:39, 13.28trial/s, best loss: 118.12655953721905]"
     ]
    },
    {
     "name": "stdout",
     "output_type": "stream",
     "text": [
      "\r",
      " 65%|██████▌   | 976/1500 [00:55<00:39, 13.23trial/s, best loss: 118.12655953721905]"
     ]
    },
    {
     "name": "stdout",
     "output_type": "stream",
     "text": [
      "\r",
      " 65%|██████▌   | 978/1500 [00:55<00:39, 13.23trial/s, best loss: 118.12655953721905]"
     ]
    },
    {
     "name": "stdout",
     "output_type": "stream",
     "text": [
      "\r",
      " 65%|██████▌   | 980/1500 [00:56<00:39, 13.21trial/s, best loss: 118.12655953721905]"
     ]
    },
    {
     "name": "stdout",
     "output_type": "stream",
     "text": [
      "\r",
      " 65%|██████▌   | 982/1500 [00:56<00:39, 13.20trial/s, best loss: 118.12655953721905]"
     ]
    },
    {
     "name": "stdout",
     "output_type": "stream",
     "text": [
      "\r",
      " 66%|██████▌   | 984/1500 [00:56<00:39, 13.19trial/s, best loss: 118.12655953721905]"
     ]
    },
    {
     "name": "stdout",
     "output_type": "stream",
     "text": [
      "\r",
      " 66%|██████▌   | 986/1500 [00:56<00:38, 13.24trial/s, best loss: 118.12655953721905]"
     ]
    },
    {
     "name": "stdout",
     "output_type": "stream",
     "text": [
      "\r",
      " 66%|██████▌   | 988/1500 [00:56<00:38, 13.19trial/s, best loss: 118.12655953721905]"
     ]
    },
    {
     "name": "stdout",
     "output_type": "stream",
     "text": [
      "\r",
      " 66%|██████▌   | 990/1500 [00:56<00:38, 13.20trial/s, best loss: 118.12655953721905]"
     ]
    },
    {
     "name": "stdout",
     "output_type": "stream",
     "text": [
      "\r",
      " 66%|██████▌   | 992/1500 [00:56<00:38, 13.28trial/s, best loss: 118.12655953721905]"
     ]
    },
    {
     "name": "stdout",
     "output_type": "stream",
     "text": [
      "\r",
      " 66%|██████▋   | 994/1500 [00:57<00:38, 13.30trial/s, best loss: 118.12655953721905]"
     ]
    },
    {
     "name": "stdout",
     "output_type": "stream",
     "text": [
      "\r",
      " 66%|██████▋   | 996/1500 [00:57<00:38, 13.26trial/s, best loss: 118.12655953721905]"
     ]
    },
    {
     "name": "stdout",
     "output_type": "stream",
     "text": [
      "\r",
      " 67%|██████▋   | 998/1500 [00:57<00:38, 13.15trial/s, best loss: 118.12655953721905]"
     ]
    },
    {
     "name": "stdout",
     "output_type": "stream",
     "text": [
      "\r",
      " 67%|██████▋   | 1000/1500 [00:57<00:37, 13.25trial/s, best loss: 118.12655953721905]"
     ]
    },
    {
     "name": "stdout",
     "output_type": "stream",
     "text": [
      "\r",
      " 67%|██████▋   | 1002/1500 [00:57<00:37, 13.30trial/s, best loss: 118.12655953721905]"
     ]
    },
    {
     "name": "stdout",
     "output_type": "stream",
     "text": [
      "\r",
      " 67%|██████▋   | 1004/1500 [00:57<00:42, 11.69trial/s, best loss: 118.12655953721905]"
     ]
    },
    {
     "name": "stdout",
     "output_type": "stream",
     "text": [
      "\r",
      " 67%|██████▋   | 1006/1500 [00:58<00:40, 12.13trial/s, best loss: 118.12655953721905]"
     ]
    },
    {
     "name": "stdout",
     "output_type": "stream",
     "text": [
      "\r",
      " 67%|██████▋   | 1008/1500 [00:58<00:39, 12.44trial/s, best loss: 118.12655953721905]"
     ]
    },
    {
     "name": "stdout",
     "output_type": "stream",
     "text": [
      "\r",
      " 67%|██████▋   | 1010/1500 [00:58<00:38, 12.60trial/s, best loss: 118.12655953721905]"
     ]
    },
    {
     "name": "stdout",
     "output_type": "stream",
     "text": [
      "\r",
      " 67%|██████▋   | 1012/1500 [00:58<00:38, 12.70trial/s, best loss: 118.12655953721905]"
     ]
    },
    {
     "name": "stdout",
     "output_type": "stream",
     "text": [
      "\r",
      " 68%|██████▊   | 1014/1500 [00:58<00:38, 12.78trial/s, best loss: 118.12655953721905]"
     ]
    },
    {
     "name": "stdout",
     "output_type": "stream",
     "text": [
      "\r",
      " 68%|██████▊   | 1016/1500 [00:58<00:37, 12.85trial/s, best loss: 118.12655953721905]"
     ]
    },
    {
     "name": "stdout",
     "output_type": "stream",
     "text": [
      "\r",
      " 68%|██████▊   | 1018/1500 [00:59<00:37, 12.84trial/s, best loss: 118.12655953721905]"
     ]
    },
    {
     "name": "stdout",
     "output_type": "stream",
     "text": [
      "\r",
      " 68%|██████▊   | 1020/1500 [00:59<00:37, 12.88trial/s, best loss: 118.12655953721905]"
     ]
    },
    {
     "name": "stdout",
     "output_type": "stream",
     "text": [
      "\r",
      " 68%|██████▊   | 1022/1500 [00:59<00:36, 12.95trial/s, best loss: 118.12655953721905]"
     ]
    },
    {
     "name": "stdout",
     "output_type": "stream",
     "text": [
      "\r",
      " 68%|██████▊   | 1024/1500 [00:59<00:36, 12.97trial/s, best loss: 118.12655953721905]"
     ]
    },
    {
     "name": "stdout",
     "output_type": "stream",
     "text": [
      "\r",
      " 68%|██████▊   | 1026/1500 [00:59<00:36, 12.97trial/s, best loss: 118.12655953721905]"
     ]
    },
    {
     "name": "stdout",
     "output_type": "stream",
     "text": [
      "\r",
      " 69%|██████▊   | 1028/1500 [00:59<00:36, 12.85trial/s, best loss: 118.12655953721905]"
     ]
    },
    {
     "name": "stdout",
     "output_type": "stream",
     "text": [
      "\r",
      " 69%|██████▊   | 1030/1500 [00:59<00:36, 12.89trial/s, best loss: 118.12655953721905]"
     ]
    },
    {
     "name": "stdout",
     "output_type": "stream",
     "text": [
      "\r",
      " 69%|██████▉   | 1032/1500 [01:00<00:36, 12.87trial/s, best loss: 118.12655953721905]"
     ]
    },
    {
     "name": "stdout",
     "output_type": "stream",
     "text": [
      "\r",
      " 69%|██████▉   | 1034/1500 [01:00<00:36, 12.88trial/s, best loss: 118.12655953721905]"
     ]
    },
    {
     "name": "stdout",
     "output_type": "stream",
     "text": [
      "\r",
      " 69%|██████▉   | 1036/1500 [01:00<00:36, 12.86trial/s, best loss: 118.12655953721905]"
     ]
    },
    {
     "name": "stdout",
     "output_type": "stream",
     "text": [
      "\r",
      " 69%|██████▉   | 1038/1500 [01:00<00:38, 12.11trial/s, best loss: 118.12655953721905]"
     ]
    },
    {
     "name": "stdout",
     "output_type": "stream",
     "text": [
      "\r",
      " 69%|██████▉   | 1040/1500 [01:00<00:40, 11.35trial/s, best loss: 118.12655953721905]"
     ]
    },
    {
     "name": "stdout",
     "output_type": "stream",
     "text": [
      "\r",
      " 69%|██████▉   | 1042/1500 [01:00<00:39, 11.71trial/s, best loss: 118.12655953721905]"
     ]
    },
    {
     "name": "stdout",
     "output_type": "stream",
     "text": [
      "\r",
      " 70%|██████▉   | 1044/1500 [01:01<00:38, 11.99trial/s, best loss: 118.12655953721905]"
     ]
    },
    {
     "name": "stdout",
     "output_type": "stream",
     "text": [
      "\r",
      " 70%|██████▉   | 1046/1500 [01:01<00:37, 12.09trial/s, best loss: 118.12655953721905]"
     ]
    },
    {
     "name": "stdout",
     "output_type": "stream",
     "text": [
      "\r",
      " 70%|██████▉   | 1048/1500 [01:01<00:37, 11.99trial/s, best loss: 118.12655953721905]"
     ]
    },
    {
     "name": "stdout",
     "output_type": "stream",
     "text": [
      "\r",
      " 70%|███████   | 1050/1500 [01:01<00:36, 12.21trial/s, best loss: 118.12655953721905]"
     ]
    },
    {
     "name": "stdout",
     "output_type": "stream",
     "text": [
      "\r",
      " 70%|███████   | 1052/1500 [01:01<00:36, 12.35trial/s, best loss: 118.12655953721905]"
     ]
    },
    {
     "name": "stdout",
     "output_type": "stream",
     "text": [
      "\r",
      " 70%|███████   | 1054/1500 [01:01<00:35, 12.44trial/s, best loss: 118.12655953721905]"
     ]
    },
    {
     "name": "stdout",
     "output_type": "stream",
     "text": [
      "\r",
      " 70%|███████   | 1056/1500 [01:02<00:35, 12.51trial/s, best loss: 118.12655953721905]"
     ]
    },
    {
     "name": "stdout",
     "output_type": "stream",
     "text": [
      "\r",
      " 71%|███████   | 1058/1500 [01:02<00:35, 12.62trial/s, best loss: 118.12655953721905]"
     ]
    },
    {
     "name": "stdout",
     "output_type": "stream",
     "text": [
      "\r",
      " 71%|███████   | 1060/1500 [01:02<00:34, 12.68trial/s, best loss: 118.12655953721905]"
     ]
    },
    {
     "name": "stdout",
     "output_type": "stream",
     "text": [
      "\r",
      " 71%|███████   | 1062/1500 [01:02<00:34, 12.73trial/s, best loss: 118.12655953721905]"
     ]
    },
    {
     "name": "stdout",
     "output_type": "stream",
     "text": [
      "\r",
      " 71%|███████   | 1064/1500 [01:02<00:34, 12.76trial/s, best loss: 118.12655953721905]"
     ]
    },
    {
     "name": "stdout",
     "output_type": "stream",
     "text": [
      "\r",
      " 71%|███████   | 1066/1500 [01:02<00:33, 12.77trial/s, best loss: 118.12655953721905]"
     ]
    },
    {
     "name": "stdout",
     "output_type": "stream",
     "text": [
      "\r",
      " 71%|███████   | 1068/1500 [01:03<00:33, 12.76trial/s, best loss: 118.12655953721905]"
     ]
    },
    {
     "name": "stdout",
     "output_type": "stream",
     "text": [
      "\r",
      " 71%|███████▏  | 1070/1500 [01:03<00:33, 12.70trial/s, best loss: 118.12655953721905]"
     ]
    },
    {
     "name": "stdout",
     "output_type": "stream",
     "text": [
      "\r",
      " 71%|███████▏  | 1072/1500 [01:03<00:33, 12.73trial/s, best loss: 118.12655953721905]"
     ]
    },
    {
     "name": "stdout",
     "output_type": "stream",
     "text": [
      "\r",
      " 72%|███████▏  | 1074/1500 [01:03<00:33, 12.73trial/s, best loss: 118.12655953721905]"
     ]
    },
    {
     "name": "stdout",
     "output_type": "stream",
     "text": [
      "\r",
      " 72%|███████▏  | 1076/1500 [01:03<00:33, 12.72trial/s, best loss: 118.12655953721905]"
     ]
    },
    {
     "name": "stdout",
     "output_type": "stream",
     "text": [
      "\r",
      " 72%|███████▏  | 1078/1500 [01:03<00:33, 12.68trial/s, best loss: 118.12655953721905]"
     ]
    },
    {
     "name": "stdout",
     "output_type": "stream",
     "text": [
      "\r",
      " 72%|███████▏  | 1080/1500 [01:03<00:33, 12.68trial/s, best loss: 118.12655953721905]"
     ]
    },
    {
     "name": "stdout",
     "output_type": "stream",
     "text": [
      "\r",
      " 72%|███████▏  | 1082/1500 [01:04<00:32, 12.69trial/s, best loss: 118.12655953721905]"
     ]
    },
    {
     "name": "stdout",
     "output_type": "stream",
     "text": [
      "\r",
      " 72%|███████▏  | 1084/1500 [01:04<00:32, 12.74trial/s, best loss: 118.12655953721905]"
     ]
    },
    {
     "name": "stdout",
     "output_type": "stream",
     "text": [
      "\r",
      " 72%|███████▏  | 1086/1500 [01:04<00:32, 12.77trial/s, best loss: 118.12655953721905]"
     ]
    },
    {
     "name": "stdout",
     "output_type": "stream",
     "text": [
      "\r",
      " 73%|███████▎  | 1088/1500 [01:04<00:32, 12.65trial/s, best loss: 118.12655953721905]"
     ]
    },
    {
     "name": "stdout",
     "output_type": "stream",
     "text": [
      "\r",
      " 73%|███████▎  | 1090/1500 [01:04<00:32, 12.71trial/s, best loss: 118.12655953721905]"
     ]
    },
    {
     "name": "stdout",
     "output_type": "stream",
     "text": [
      "\r",
      " 73%|███████▎  | 1092/1500 [01:04<00:31, 12.76trial/s, best loss: 118.12655953721905]"
     ]
    },
    {
     "name": "stdout",
     "output_type": "stream",
     "text": [
      "\r",
      " 73%|███████▎  | 1094/1500 [01:05<00:34, 11.82trial/s, best loss: 118.12655953721905]"
     ]
    },
    {
     "name": "stdout",
     "output_type": "stream",
     "text": [
      "\r",
      " 73%|███████▎  | 1096/1500 [01:05<00:33, 12.05trial/s, best loss: 118.12655953721905]"
     ]
    },
    {
     "name": "stdout",
     "output_type": "stream",
     "text": [
      "\r",
      " 73%|███████▎  | 1098/1500 [01:05<00:32, 12.26trial/s, best loss: 118.12655953721905]"
     ]
    },
    {
     "name": "stdout",
     "output_type": "stream",
     "text": [
      "\r",
      " 73%|███████▎  | 1100/1500 [01:05<00:32, 12.37trial/s, best loss: 118.12655953721905]"
     ]
    },
    {
     "name": "stdout",
     "output_type": "stream",
     "text": [
      "\r",
      " 73%|███████▎  | 1102/1500 [01:05<00:31, 12.46trial/s, best loss: 118.12655953721905]"
     ]
    },
    {
     "name": "stdout",
     "output_type": "stream",
     "text": [
      "\r",
      " 74%|███████▎  | 1104/1500 [01:05<00:32, 12.31trial/s, best loss: 118.12655953721905]"
     ]
    },
    {
     "name": "stdout",
     "output_type": "stream",
     "text": [
      "\r",
      " 74%|███████▎  | 1106/1500 [01:06<00:31, 12.38trial/s, best loss: 118.12655953721905]"
     ]
    },
    {
     "name": "stdout",
     "output_type": "stream",
     "text": [
      "\r",
      " 74%|███████▍  | 1108/1500 [01:06<00:35, 11.02trial/s, best loss: 118.12655953721905]"
     ]
    },
    {
     "name": "stdout",
     "output_type": "stream",
     "text": [
      "\r",
      " 74%|███████▍  | 1110/1500 [01:06<00:33, 11.49trial/s, best loss: 118.12655953721905]"
     ]
    },
    {
     "name": "stdout",
     "output_type": "stream",
     "text": [
      "\r",
      " 74%|███████▍  | 1112/1500 [01:06<00:32, 11.78trial/s, best loss: 118.12655953721905]"
     ]
    },
    {
     "name": "stdout",
     "output_type": "stream",
     "text": [
      "\r",
      " 74%|███████▍  | 1114/1500 [01:06<00:32, 12.03trial/s, best loss: 118.12655953721905]"
     ]
    },
    {
     "name": "stdout",
     "output_type": "stream",
     "text": [
      "\r",
      " 74%|███████▍  | 1116/1500 [01:06<00:31, 12.19trial/s, best loss: 118.12655953721905]"
     ]
    },
    {
     "name": "stdout",
     "output_type": "stream",
     "text": [
      "\r",
      " 75%|███████▍  | 1118/1500 [01:07<00:31, 12.29trial/s, best loss: 118.12655953721905]"
     ]
    },
    {
     "name": "stdout",
     "output_type": "stream",
     "text": [
      "\r",
      " 75%|███████▍  | 1120/1500 [01:07<00:30, 12.41trial/s, best loss: 118.12655953721905]"
     ]
    },
    {
     "name": "stdout",
     "output_type": "stream",
     "text": [
      "\r",
      " 75%|███████▍  | 1122/1500 [01:07<00:30, 12.50trial/s, best loss: 118.12655953721905]"
     ]
    },
    {
     "name": "stdout",
     "output_type": "stream",
     "text": [
      "\r",
      " 75%|███████▍  | 1124/1500 [01:07<00:30, 12.50trial/s, best loss: 118.12655953721905]"
     ]
    },
    {
     "name": "stdout",
     "output_type": "stream",
     "text": [
      "\r",
      " 75%|███████▌  | 1126/1500 [01:07<00:29, 12.52trial/s, best loss: 118.12655953721905]"
     ]
    },
    {
     "name": "stdout",
     "output_type": "stream",
     "text": [
      "\r",
      " 75%|███████▌  | 1128/1500 [01:07<00:29, 12.59trial/s, best loss: 118.12655953721905]"
     ]
    },
    {
     "name": "stdout",
     "output_type": "stream",
     "text": [
      "\r",
      " 75%|███████▌  | 1130/1500 [01:08<00:29, 12.63trial/s, best loss: 118.12655953721905]"
     ]
    },
    {
     "name": "stdout",
     "output_type": "stream",
     "text": [
      "\r",
      " 75%|███████▌  | 1132/1500 [01:08<00:29, 12.60trial/s, best loss: 118.12655953721905]"
     ]
    },
    {
     "name": "stdout",
     "output_type": "stream",
     "text": [
      "\r",
      " 76%|███████▌  | 1134/1500 [01:08<00:29, 12.58trial/s, best loss: 118.12655953721905]"
     ]
    },
    {
     "name": "stdout",
     "output_type": "stream",
     "text": [
      "\r",
      " 76%|███████▌  | 1136/1500 [01:08<00:29, 12.50trial/s, best loss: 118.12655953721905]"
     ]
    },
    {
     "name": "stdout",
     "output_type": "stream",
     "text": [
      "\r",
      " 76%|███████▌  | 1138/1500 [01:08<00:28, 12.53trial/s, best loss: 118.12655953721905]"
     ]
    },
    {
     "name": "stdout",
     "output_type": "stream",
     "text": [
      "\r",
      " 76%|███████▌  | 1140/1500 [01:08<00:28, 12.43trial/s, best loss: 118.12655953721905]"
     ]
    },
    {
     "name": "stdout",
     "output_type": "stream",
     "text": [
      "\r",
      " 76%|███████▌  | 1142/1500 [01:09<00:29, 12.22trial/s, best loss: 118.12655953721905]"
     ]
    },
    {
     "name": "stdout",
     "output_type": "stream",
     "text": [
      "\r",
      " 76%|███████▋  | 1144/1500 [01:09<00:29, 12.24trial/s, best loss: 118.12655953721905]"
     ]
    },
    {
     "name": "stdout",
     "output_type": "stream",
     "text": [
      "\r",
      " 76%|███████▋  | 1146/1500 [01:09<00:28, 12.34trial/s, best loss: 118.12655953721905]"
     ]
    },
    {
     "name": "stdout",
     "output_type": "stream",
     "text": [
      "\r",
      " 77%|███████▋  | 1148/1500 [01:09<00:28, 12.37trial/s, best loss: 118.12655953721905]"
     ]
    },
    {
     "name": "stdout",
     "output_type": "stream",
     "text": [
      "\r",
      " 77%|███████▋  | 1150/1500 [01:09<00:28, 12.35trial/s, best loss: 118.12655953721905]"
     ]
    },
    {
     "name": "stdout",
     "output_type": "stream",
     "text": [
      "\r",
      " 77%|███████▋  | 1152/1500 [01:09<00:28, 12.30trial/s, best loss: 118.12655953721905]"
     ]
    },
    {
     "name": "stdout",
     "output_type": "stream",
     "text": [
      "\r",
      " 77%|███████▋  | 1154/1500 [01:09<00:28, 12.27trial/s, best loss: 118.12655953721905]"
     ]
    },
    {
     "name": "stdout",
     "output_type": "stream",
     "text": [
      "\r",
      " 77%|███████▋  | 1156/1500 [01:10<00:28, 12.26trial/s, best loss: 118.12655953721905]"
     ]
    },
    {
     "name": "stdout",
     "output_type": "stream",
     "text": [
      "\r",
      " 77%|███████▋  | 1158/1500 [01:10<00:27, 12.30trial/s, best loss: 118.12655953721905]"
     ]
    },
    {
     "name": "stdout",
     "output_type": "stream",
     "text": [
      "\r",
      " 77%|███████▋  | 1160/1500 [01:10<00:27, 12.20trial/s, best loss: 118.12655953721905]"
     ]
    },
    {
     "name": "stdout",
     "output_type": "stream",
     "text": [
      "\r",
      " 77%|███████▋  | 1162/1500 [01:10<00:27, 12.11trial/s, best loss: 118.12655953721905]"
     ]
    },
    {
     "name": "stdout",
     "output_type": "stream",
     "text": [
      "\r",
      " 78%|███████▊  | 1164/1500 [01:10<00:27, 12.05trial/s, best loss: 118.12655953721905]"
     ]
    },
    {
     "name": "stdout",
     "output_type": "stream",
     "text": [
      "\r",
      " 78%|███████▊  | 1166/1500 [01:10<00:27, 12.10trial/s, best loss: 118.12655953721905]"
     ]
    },
    {
     "name": "stdout",
     "output_type": "stream",
     "text": [
      "\r",
      " 78%|███████▊  | 1168/1500 [01:11<00:27, 12.12trial/s, best loss: 118.12655953721905]"
     ]
    },
    {
     "name": "stdout",
     "output_type": "stream",
     "text": [
      "\r",
      " 78%|███████▊  | 1170/1500 [01:11<00:27, 12.13trial/s, best loss: 118.12655953721905]"
     ]
    },
    {
     "name": "stdout",
     "output_type": "stream",
     "text": [
      "\r",
      " 78%|███████▊  | 1172/1500 [01:11<00:27, 12.10trial/s, best loss: 118.12655953721905]"
     ]
    },
    {
     "name": "stdout",
     "output_type": "stream",
     "text": [
      "\r",
      " 78%|███████▊  | 1174/1500 [01:11<00:26, 12.15trial/s, best loss: 118.12655953721905]"
     ]
    },
    {
     "name": "stdout",
     "output_type": "stream",
     "text": [
      "\r",
      " 78%|███████▊  | 1176/1500 [01:11<00:26, 12.16trial/s, best loss: 118.12655953721905]"
     ]
    },
    {
     "name": "stdout",
     "output_type": "stream",
     "text": [
      "\r",
      " 79%|███████▊  | 1178/1500 [01:11<00:26, 12.17trial/s, best loss: 118.12655953721905]"
     ]
    },
    {
     "name": "stdout",
     "output_type": "stream",
     "text": [
      "\r",
      " 79%|███████▊  | 1180/1500 [01:12<00:26, 12.15trial/s, best loss: 118.12655953721905]"
     ]
    },
    {
     "name": "stdout",
     "output_type": "stream",
     "text": [
      "\r",
      " 79%|███████▉  | 1182/1500 [01:12<00:26, 11.94trial/s, best loss: 118.12655953721905]"
     ]
    },
    {
     "name": "stdout",
     "output_type": "stream",
     "text": [
      "\r",
      " 79%|███████▉  | 1184/1500 [01:12<00:26, 11.78trial/s, best loss: 118.12655953721905]"
     ]
    },
    {
     "name": "stdout",
     "output_type": "stream",
     "text": [
      "\r",
      " 79%|███████▉  | 1186/1500 [01:12<00:26, 11.87trial/s, best loss: 118.12655953721905]"
     ]
    },
    {
     "name": "stdout",
     "output_type": "stream",
     "text": [
      "\r",
      " 79%|███████▉  | 1188/1500 [01:12<00:26, 11.79trial/s, best loss: 118.12655953721905]"
     ]
    },
    {
     "name": "stdout",
     "output_type": "stream",
     "text": [
      "\r",
      " 79%|███████▉  | 1190/1500 [01:12<00:26, 11.89trial/s, best loss: 118.12655953721905]"
     ]
    },
    {
     "name": "stdout",
     "output_type": "stream",
     "text": [
      "\r",
      " 79%|███████▉  | 1192/1500 [01:13<00:25, 11.92trial/s, best loss: 118.12655953721905]"
     ]
    },
    {
     "name": "stdout",
     "output_type": "stream",
     "text": [
      "\r",
      " 80%|███████▉  | 1194/1500 [01:13<00:25, 11.92trial/s, best loss: 118.12655953721905]"
     ]
    },
    {
     "name": "stdout",
     "output_type": "stream",
     "text": [
      "\r",
      " 80%|███████▉  | 1196/1500 [01:13<00:25, 11.96trial/s, best loss: 118.12655953721905]"
     ]
    },
    {
     "name": "stdout",
     "output_type": "stream",
     "text": [
      "\r",
      " 80%|███████▉  | 1198/1500 [01:13<00:25, 11.98trial/s, best loss: 118.12655953721905]"
     ]
    },
    {
     "name": "stdout",
     "output_type": "stream",
     "text": [
      "\r",
      " 80%|████████  | 1200/1500 [01:13<00:24, 12.00trial/s, best loss: 118.12655953721905]"
     ]
    },
    {
     "name": "stdout",
     "output_type": "stream",
     "text": [
      "\r",
      " 80%|████████  | 1202/1500 [01:13<00:24, 12.05trial/s, best loss: 118.12655953721905]"
     ]
    },
    {
     "name": "stdout",
     "output_type": "stream",
     "text": [
      "\r",
      " 80%|████████  | 1204/1500 [01:14<00:24, 12.08trial/s, best loss: 118.12655953721905]"
     ]
    },
    {
     "name": "stdout",
     "output_type": "stream",
     "text": [
      "\r",
      " 80%|████████  | 1206/1500 [01:14<00:24, 12.12trial/s, best loss: 118.12655953721905]"
     ]
    },
    {
     "name": "stdout",
     "output_type": "stream",
     "text": [
      "\r",
      " 81%|████████  | 1208/1500 [01:14<00:24, 12.00trial/s, best loss: 118.12655953721905]"
     ]
    },
    {
     "name": "stdout",
     "output_type": "stream",
     "text": [
      "\r",
      " 81%|████████  | 1210/1500 [01:14<00:24, 11.98trial/s, best loss: 118.12655953721905]"
     ]
    },
    {
     "name": "stdout",
     "output_type": "stream",
     "text": [
      "\r",
      " 81%|████████  | 1212/1500 [01:14<00:24, 11.98trial/s, best loss: 118.12655953721905]"
     ]
    },
    {
     "name": "stdout",
     "output_type": "stream",
     "text": [
      "\r",
      " 81%|████████  | 1214/1500 [01:14<00:23, 12.01trial/s, best loss: 118.12655953721905]"
     ]
    },
    {
     "name": "stdout",
     "output_type": "stream",
     "text": [
      "\r",
      " 81%|████████  | 1216/1500 [01:15<00:26, 10.63trial/s, best loss: 118.12655953721905]"
     ]
    },
    {
     "name": "stdout",
     "output_type": "stream",
     "text": [
      "\r",
      " 81%|████████  | 1218/1500 [01:15<00:25, 11.01trial/s, best loss: 118.12655953721905]"
     ]
    },
    {
     "name": "stdout",
     "output_type": "stream",
     "text": [
      "\r",
      " 81%|████████▏ | 1220/1500 [01:15<00:24, 11.29trial/s, best loss: 118.12655953721905]"
     ]
    },
    {
     "name": "stdout",
     "output_type": "stream",
     "text": [
      "\r",
      " 81%|████████▏ | 1222/1500 [01:15<00:25, 10.99trial/s, best loss: 118.12655953721905]"
     ]
    },
    {
     "name": "stdout",
     "output_type": "stream",
     "text": [
      "\r",
      " 82%|████████▏ | 1224/1500 [01:15<00:24, 11.22trial/s, best loss: 118.12655953721905]"
     ]
    },
    {
     "name": "stdout",
     "output_type": "stream",
     "text": [
      "\r",
      " 82%|████████▏ | 1226/1500 [01:16<00:24, 11.36trial/s, best loss: 118.12655953721905]"
     ]
    },
    {
     "name": "stdout",
     "output_type": "stream",
     "text": [
      "\r",
      " 82%|████████▏ | 1228/1500 [01:16<00:23, 11.46trial/s, best loss: 118.12655953721905]"
     ]
    },
    {
     "name": "stdout",
     "output_type": "stream",
     "text": [
      "\r",
      " 82%|████████▏ | 1230/1500 [01:16<00:23, 11.53trial/s, best loss: 118.12655953721905]"
     ]
    },
    {
     "name": "stdout",
     "output_type": "stream",
     "text": [
      "\r",
      " 82%|████████▏ | 1232/1500 [01:16<00:23, 11.45trial/s, best loss: 118.12655953721905]"
     ]
    },
    {
     "name": "stdout",
     "output_type": "stream",
     "text": [
      "\r",
      " 82%|████████▏ | 1234/1500 [01:16<00:23, 11.45trial/s, best loss: 118.12655953721905]"
     ]
    },
    {
     "name": "stdout",
     "output_type": "stream",
     "text": [
      "\r",
      " 82%|████████▏ | 1236/1500 [01:16<00:22, 11.57trial/s, best loss: 118.12655953721905]"
     ]
    },
    {
     "name": "stdout",
     "output_type": "stream",
     "text": [
      "\r",
      " 83%|████████▎ | 1238/1500 [01:17<00:22, 11.57trial/s, best loss: 118.12655953721905]"
     ]
    },
    {
     "name": "stdout",
     "output_type": "stream",
     "text": [
      "\r",
      " 83%|████████▎ | 1240/1500 [01:17<00:22, 11.64trial/s, best loss: 118.12655953721905]"
     ]
    },
    {
     "name": "stdout",
     "output_type": "stream",
     "text": [
      "\r",
      " 83%|████████▎ | 1242/1500 [01:17<00:22, 11.69trial/s, best loss: 118.12655953721905]"
     ]
    },
    {
     "name": "stdout",
     "output_type": "stream",
     "text": [
      "\r",
      " 83%|████████▎ | 1244/1500 [01:17<00:21, 11.73trial/s, best loss: 118.12655953721905]"
     ]
    },
    {
     "name": "stdout",
     "output_type": "stream",
     "text": [
      "\r",
      " 83%|████████▎ | 1246/1500 [01:17<00:21, 11.72trial/s, best loss: 118.12655953721905]"
     ]
    },
    {
     "name": "stdout",
     "output_type": "stream",
     "text": [
      "\r",
      " 83%|████████▎ | 1248/1500 [01:17<00:21, 11.77trial/s, best loss: 118.12655953721905]"
     ]
    },
    {
     "name": "stdout",
     "output_type": "stream",
     "text": [
      "\r",
      " 83%|████████▎ | 1250/1500 [01:18<00:21, 11.75trial/s, best loss: 118.12655953721905]"
     ]
    },
    {
     "name": "stdout",
     "output_type": "stream",
     "text": [
      "\r",
      " 83%|████████▎ | 1252/1500 [01:18<00:21, 11.77trial/s, best loss: 118.12655953721905]"
     ]
    },
    {
     "name": "stdout",
     "output_type": "stream",
     "text": [
      "\r",
      " 84%|████████▎ | 1254/1500 [01:18<00:20, 11.79trial/s, best loss: 118.12655953721905]"
     ]
    },
    {
     "name": "stdout",
     "output_type": "stream",
     "text": [
      "\r",
      " 84%|████████▎ | 1256/1500 [01:18<00:20, 11.78trial/s, best loss: 118.12655953721905]"
     ]
    },
    {
     "name": "stdout",
     "output_type": "stream",
     "text": [
      "\r",
      " 84%|████████▍ | 1258/1500 [01:18<00:20, 11.79trial/s, best loss: 118.12655953721905]"
     ]
    },
    {
     "name": "stdout",
     "output_type": "stream",
     "text": [
      "\r",
      " 84%|████████▍ | 1260/1500 [01:18<00:20, 11.78trial/s, best loss: 118.12655953721905]"
     ]
    },
    {
     "name": "stdout",
     "output_type": "stream",
     "text": [
      "\r",
      " 84%|████████▍ | 1262/1500 [01:19<00:20, 11.71trial/s, best loss: 118.12655953721905]"
     ]
    },
    {
     "name": "stdout",
     "output_type": "stream",
     "text": [
      "\r",
      " 84%|████████▍ | 1264/1500 [01:19<00:20, 11.66trial/s, best loss: 118.12655953721905]"
     ]
    },
    {
     "name": "stdout",
     "output_type": "stream",
     "text": [
      "\r",
      " 84%|████████▍ | 1266/1500 [01:19<00:20, 11.60trial/s, best loss: 118.12655953721905]"
     ]
    },
    {
     "name": "stdout",
     "output_type": "stream",
     "text": [
      "\r",
      " 85%|████████▍ | 1268/1500 [01:19<00:20, 11.55trial/s, best loss: 118.12655953721905]"
     ]
    },
    {
     "name": "stdout",
     "output_type": "stream",
     "text": [
      "\r",
      " 85%|████████▍ | 1270/1500 [01:19<00:20, 11.49trial/s, best loss: 118.12655953721905]"
     ]
    },
    {
     "name": "stdout",
     "output_type": "stream",
     "text": [
      "\r",
      " 85%|████████▍ | 1272/1500 [01:20<00:19, 11.48trial/s, best loss: 118.12655953721905]"
     ]
    },
    {
     "name": "stdout",
     "output_type": "stream",
     "text": [
      "\r",
      " 85%|████████▍ | 1274/1500 [01:20<00:19, 11.50trial/s, best loss: 118.12655953721905]"
     ]
    },
    {
     "name": "stdout",
     "output_type": "stream",
     "text": [
      "\r",
      " 85%|████████▌ | 1276/1500 [01:20<00:19, 11.50trial/s, best loss: 118.12655953721905]"
     ]
    },
    {
     "name": "stdout",
     "output_type": "stream",
     "text": [
      "\r",
      " 85%|████████▌ | 1278/1500 [01:20<00:19, 11.48trial/s, best loss: 118.12655953721905]"
     ]
    },
    {
     "name": "stdout",
     "output_type": "stream",
     "text": [
      "\r",
      " 85%|████████▌ | 1280/1500 [01:20<00:19, 11.26trial/s, best loss: 118.12655953721905]"
     ]
    },
    {
     "name": "stdout",
     "output_type": "stream",
     "text": [
      "\r",
      " 85%|████████▌ | 1282/1500 [01:20<00:19, 11.13trial/s, best loss: 118.12655953721905]"
     ]
    },
    {
     "name": "stdout",
     "output_type": "stream",
     "text": [
      "\r",
      " 86%|████████▌ | 1284/1500 [01:21<00:19, 11.23trial/s, best loss: 118.12655953721905]"
     ]
    },
    {
     "name": "stdout",
     "output_type": "stream",
     "text": [
      "\r",
      " 86%|████████▌ | 1286/1500 [01:21<00:19, 11.26trial/s, best loss: 118.12655953721905]"
     ]
    },
    {
     "name": "stdout",
     "output_type": "stream",
     "text": [
      "\r",
      " 86%|████████▌ | 1288/1500 [01:21<00:18, 11.29trial/s, best loss: 118.12655953721905]"
     ]
    },
    {
     "name": "stdout",
     "output_type": "stream",
     "text": [
      "\r",
      " 86%|████████▌ | 1290/1500 [01:21<00:18, 11.33trial/s, best loss: 118.12655953721905]"
     ]
    },
    {
     "name": "stdout",
     "output_type": "stream",
     "text": [
      "\r",
      " 86%|████████▌ | 1292/1500 [01:21<00:18, 11.36trial/s, best loss: 118.12655953721905]"
     ]
    },
    {
     "name": "stdout",
     "output_type": "stream",
     "text": [
      "\r",
      " 86%|████████▋ | 1294/1500 [01:22<00:20, 10.14trial/s, best loss: 118.12655953721905]"
     ]
    },
    {
     "name": "stdout",
     "output_type": "stream",
     "text": [
      "\r",
      " 86%|████████▋ | 1296/1500 [01:22<00:19, 10.48trial/s, best loss: 118.12655953721905]"
     ]
    },
    {
     "name": "stdout",
     "output_type": "stream",
     "text": [
      "\r",
      " 87%|████████▋ | 1298/1500 [01:22<00:18, 10.75trial/s, best loss: 118.12655953721905]"
     ]
    },
    {
     "name": "stdout",
     "output_type": "stream",
     "text": [
      "\r",
      " 87%|████████▋ | 1300/1500 [01:22<00:18, 10.75trial/s, best loss: 118.12655953721905]"
     ]
    },
    {
     "name": "stdout",
     "output_type": "stream",
     "text": [
      "\r",
      " 87%|████████▋ | 1302/1500 [01:22<00:18, 10.99trial/s, best loss: 118.12655953721905]"
     ]
    },
    {
     "name": "stdout",
     "output_type": "stream",
     "text": [
      "\r",
      " 87%|████████▋ | 1304/1500 [01:22<00:17, 11.21trial/s, best loss: 118.12655953721905]"
     ]
    },
    {
     "name": "stdout",
     "output_type": "stream",
     "text": [
      "\r",
      " 87%|████████▋ | 1306/1500 [01:23<00:17, 11.30trial/s, best loss: 118.12655953721905]"
     ]
    },
    {
     "name": "stdout",
     "output_type": "stream",
     "text": [
      "\r",
      " 87%|████████▋ | 1308/1500 [01:23<00:16, 11.35trial/s, best loss: 117.59653297808792]"
     ]
    },
    {
     "name": "stdout",
     "output_type": "stream",
     "text": [
      "\r",
      " 87%|████████▋ | 1310/1500 [01:23<00:16, 11.38trial/s, best loss: 117.59653297808792]"
     ]
    },
    {
     "name": "stdout",
     "output_type": "stream",
     "text": [
      "\r",
      " 87%|████████▋ | 1312/1500 [01:23<00:16, 11.36trial/s, best loss: 117.59653297808792]"
     ]
    },
    {
     "name": "stdout",
     "output_type": "stream",
     "text": [
      "\r",
      " 88%|████████▊ | 1314/1500 [01:23<00:16, 11.40trial/s, best loss: 117.59653297808792]"
     ]
    },
    {
     "name": "stdout",
     "output_type": "stream",
     "text": [
      "\r",
      " 88%|████████▊ | 1316/1500 [01:23<00:16, 11.40trial/s, best loss: 117.59653297808792]"
     ]
    },
    {
     "name": "stdout",
     "output_type": "stream",
     "text": [
      "\r",
      " 88%|████████▊ | 1318/1500 [01:24<00:16, 11.37trial/s, best loss: 117.59653297808792]"
     ]
    },
    {
     "name": "stdout",
     "output_type": "stream",
     "text": [
      "\r",
      " 88%|████████▊ | 1320/1500 [01:24<00:15, 11.35trial/s, best loss: 117.59653297808792]"
     ]
    },
    {
     "name": "stdout",
     "output_type": "stream",
     "text": [
      "\r",
      " 88%|████████▊ | 1322/1500 [01:24<00:15, 11.36trial/s, best loss: 117.59653297808792]"
     ]
    },
    {
     "name": "stdout",
     "output_type": "stream",
     "text": [
      "\r",
      " 88%|████████▊ | 1324/1500 [01:24<00:15, 11.38trial/s, best loss: 117.59653297808792]"
     ]
    },
    {
     "name": "stdout",
     "output_type": "stream",
     "text": [
      "\r",
      " 88%|████████▊ | 1326/1500 [01:24<00:15, 11.20trial/s, best loss: 117.59653297808792]"
     ]
    },
    {
     "name": "stdout",
     "output_type": "stream",
     "text": [
      "\r",
      " 89%|████████▊ | 1328/1500 [01:25<00:15, 11.23trial/s, best loss: 117.59653297808792]"
     ]
    },
    {
     "name": "stdout",
     "output_type": "stream",
     "text": [
      "\r",
      " 89%|████████▊ | 1330/1500 [01:25<00:15, 11.23trial/s, best loss: 117.59653297808792]"
     ]
    },
    {
     "name": "stdout",
     "output_type": "stream",
     "text": [
      "\r",
      " 89%|████████▉ | 1332/1500 [01:25<00:14, 11.32trial/s, best loss: 117.59653297808792]"
     ]
    },
    {
     "name": "stdout",
     "output_type": "stream",
     "text": [
      "\r",
      " 89%|████████▉ | 1334/1500 [01:25<00:16, 10.10trial/s, best loss: 117.59653297808792]"
     ]
    },
    {
     "name": "stdout",
     "output_type": "stream",
     "text": [
      "\r",
      " 89%|████████▉ | 1336/1500 [01:25<00:15, 10.41trial/s, best loss: 117.59653297808792]"
     ]
    },
    {
     "name": "stdout",
     "output_type": "stream",
     "text": [
      "\r",
      " 89%|████████▉ | 1338/1500 [01:25<00:15, 10.65trial/s, best loss: 117.59653297808792]"
     ]
    },
    {
     "name": "stdout",
     "output_type": "stream",
     "text": [
      "\r",
      " 89%|████████▉ | 1340/1500 [01:26<00:14, 10.72trial/s, best loss: 117.59653297808792]"
     ]
    },
    {
     "name": "stdout",
     "output_type": "stream",
     "text": [
      "\r",
      " 89%|████████▉ | 1342/1500 [01:26<00:15, 10.45trial/s, best loss: 117.59653297808792]"
     ]
    },
    {
     "name": "stdout",
     "output_type": "stream",
     "text": [
      "\r",
      " 90%|████████▉ | 1344/1500 [01:26<00:14, 10.61trial/s, best loss: 117.59653297808792]"
     ]
    },
    {
     "name": "stdout",
     "output_type": "stream",
     "text": [
      "\r",
      " 90%|████████▉ | 1346/1500 [01:26<00:14, 10.68trial/s, best loss: 117.59653297808792]"
     ]
    },
    {
     "name": "stdout",
     "output_type": "stream",
     "text": [
      "\r",
      " 90%|████████▉ | 1348/1500 [01:26<00:14, 10.81trial/s, best loss: 117.59653297808792]"
     ]
    },
    {
     "name": "stdout",
     "output_type": "stream",
     "text": [
      "\r",
      " 90%|█████████ | 1350/1500 [01:27<00:13, 10.94trial/s, best loss: 117.59653297808792]"
     ]
    },
    {
     "name": "stdout",
     "output_type": "stream",
     "text": [
      "\r",
      " 90%|█████████ | 1352/1500 [01:27<00:13, 11.06trial/s, best loss: 117.59653297808792]"
     ]
    },
    {
     "name": "stdout",
     "output_type": "stream",
     "text": [
      "\r",
      " 90%|█████████ | 1354/1500 [01:27<00:13, 11.14trial/s, best loss: 117.59653297808792]"
     ]
    },
    {
     "name": "stdout",
     "output_type": "stream",
     "text": [
      "\r",
      " 90%|█████████ | 1356/1500 [01:27<00:12, 11.15trial/s, best loss: 117.59653297808792]"
     ]
    },
    {
     "name": "stdout",
     "output_type": "stream",
     "text": [
      "\r",
      " 91%|█████████ | 1358/1500 [01:27<00:12, 11.15trial/s, best loss: 117.59653297808792]"
     ]
    },
    {
     "name": "stdout",
     "output_type": "stream",
     "text": [
      "\r",
      " 91%|█████████ | 1360/1500 [01:27<00:12, 11.17trial/s, best loss: 117.59653297808792]"
     ]
    },
    {
     "name": "stdout",
     "output_type": "stream",
     "text": [
      "\r",
      " 91%|█████████ | 1362/1500 [01:28<00:12, 11.19trial/s, best loss: 117.59653297808792]"
     ]
    },
    {
     "name": "stdout",
     "output_type": "stream",
     "text": [
      "\r",
      " 91%|█████████ | 1364/1500 [01:28<00:12, 11.26trial/s, best loss: 117.59653297808792]"
     ]
    },
    {
     "name": "stdout",
     "output_type": "stream",
     "text": [
      "\r",
      " 91%|█████████ | 1366/1500 [01:28<00:11, 11.34trial/s, best loss: 117.59653297808792]"
     ]
    },
    {
     "name": "stdout",
     "output_type": "stream",
     "text": [
      "\r",
      " 91%|█████████ | 1368/1500 [01:28<00:13,  9.98trial/s, best loss: 117.59653297808792]"
     ]
    },
    {
     "name": "stdout",
     "output_type": "stream",
     "text": [
      "\r",
      " 91%|█████████▏| 1370/1500 [01:28<00:12, 10.34trial/s, best loss: 117.59653297808792]"
     ]
    },
    {
     "name": "stdout",
     "output_type": "stream",
     "text": [
      "\r",
      " 91%|█████████▏| 1372/1500 [01:29<00:12, 10.56trial/s, best loss: 117.59653297808792]"
     ]
    },
    {
     "name": "stdout",
     "output_type": "stream",
     "text": [
      "\r",
      " 92%|█████████▏| 1374/1500 [01:29<00:11, 10.80trial/s, best loss: 117.59653297808792]"
     ]
    },
    {
     "name": "stdout",
     "output_type": "stream",
     "text": [
      "\r",
      " 92%|█████████▏| 1376/1500 [01:29<00:11, 10.93trial/s, best loss: 117.59653297808792]"
     ]
    },
    {
     "name": "stdout",
     "output_type": "stream",
     "text": [
      "\r",
      " 92%|█████████▏| 1378/1500 [01:29<00:11, 10.99trial/s, best loss: 117.59653297808792]"
     ]
    },
    {
     "name": "stdout",
     "output_type": "stream",
     "text": [
      "\r",
      " 92%|█████████▏| 1380/1500 [01:29<00:10, 11.08trial/s, best loss: 117.59653297808792]"
     ]
    },
    {
     "name": "stdout",
     "output_type": "stream",
     "text": [
      "\r",
      " 92%|█████████▏| 1382/1500 [01:30<00:10, 11.08trial/s, best loss: 117.59653297808792]"
     ]
    },
    {
     "name": "stdout",
     "output_type": "stream",
     "text": [
      "\r",
      " 92%|█████████▏| 1384/1500 [01:30<00:10, 11.10trial/s, best loss: 117.59653297808792]"
     ]
    },
    {
     "name": "stdout",
     "output_type": "stream",
     "text": [
      "\r",
      " 92%|█████████▏| 1386/1500 [01:30<00:10, 11.05trial/s, best loss: 117.59653297808792]"
     ]
    },
    {
     "name": "stdout",
     "output_type": "stream",
     "text": [
      "\r",
      " 93%|█████████▎| 1388/1500 [01:30<00:10, 11.05trial/s, best loss: 117.59653297808792]"
     ]
    },
    {
     "name": "stdout",
     "output_type": "stream",
     "text": [
      "\r",
      " 93%|█████████▎| 1390/1500 [01:30<00:09, 11.06trial/s, best loss: 117.59653297808792]"
     ]
    },
    {
     "name": "stdout",
     "output_type": "stream",
     "text": [
      "\r",
      " 93%|█████████▎| 1392/1500 [01:30<00:09, 11.04trial/s, best loss: 117.59653297808792]"
     ]
    },
    {
     "name": "stdout",
     "output_type": "stream",
     "text": [
      "\r",
      " 93%|█████████▎| 1394/1500 [01:31<00:10, 10.36trial/s, best loss: 117.59653297808792]"
     ]
    },
    {
     "name": "stdout",
     "output_type": "stream",
     "text": [
      "\r",
      " 93%|█████████▎| 1396/1500 [01:31<00:10,  9.79trial/s, best loss: 117.59653297808792]"
     ]
    },
    {
     "name": "stdout",
     "output_type": "stream",
     "text": [
      "\r",
      " 93%|█████████▎| 1398/1500 [01:31<00:10, 10.11trial/s, best loss: 117.59653297808792]"
     ]
    },
    {
     "name": "stdout",
     "output_type": "stream",
     "text": [
      "\r",
      " 93%|█████████▎| 1400/1500 [01:31<00:09, 10.38trial/s, best loss: 117.59653297808792]"
     ]
    },
    {
     "name": "stdout",
     "output_type": "stream",
     "text": [
      "\r",
      " 93%|█████████▎| 1402/1500 [01:31<00:09, 10.57trial/s, best loss: 117.59653297808792]"
     ]
    },
    {
     "name": "stdout",
     "output_type": "stream",
     "text": [
      "\r",
      " 94%|█████████▎| 1404/1500 [01:32<00:08, 10.72trial/s, best loss: 117.59653297808792]"
     ]
    },
    {
     "name": "stdout",
     "output_type": "stream",
     "text": [
      "\r",
      " 94%|█████████▎| 1406/1500 [01:32<00:09,  9.75trial/s, best loss: 117.59653297808792]"
     ]
    },
    {
     "name": "stdout",
     "output_type": "stream",
     "text": [
      "\r",
      " 94%|█████████▍| 1408/1500 [01:32<00:09,  9.98trial/s, best loss: 117.59653297808792]"
     ]
    },
    {
     "name": "stdout",
     "output_type": "stream",
     "text": [
      "\r",
      " 94%|█████████▍| 1410/1500 [01:32<00:08, 10.24trial/s, best loss: 117.59653297808792]"
     ]
    },
    {
     "name": "stdout",
     "output_type": "stream",
     "text": [
      "\r",
      " 94%|█████████▍| 1412/1500 [01:32<00:08, 10.41trial/s, best loss: 117.59653297808792]"
     ]
    },
    {
     "name": "stdout",
     "output_type": "stream",
     "text": [
      "\r",
      " 94%|█████████▍| 1414/1500 [01:33<00:08, 10.52trial/s, best loss: 117.59653297808792]"
     ]
    },
    {
     "name": "stdout",
     "output_type": "stream",
     "text": [
      "\r",
      " 94%|█████████▍| 1416/1500 [01:33<00:08, 10.15trial/s, best loss: 117.59653297808792]"
     ]
    },
    {
     "name": "stdout",
     "output_type": "stream",
     "text": [
      "\r",
      " 95%|█████████▍| 1418/1500 [01:33<00:07, 10.35trial/s, best loss: 117.59653297808792]"
     ]
    },
    {
     "name": "stdout",
     "output_type": "stream",
     "text": [
      "\r",
      " 95%|█████████▍| 1420/1500 [01:33<00:07, 10.45trial/s, best loss: 117.59653297808792]"
     ]
    },
    {
     "name": "stdout",
     "output_type": "stream",
     "text": [
      "\r",
      " 95%|█████████▍| 1422/1500 [01:33<00:07, 10.57trial/s, best loss: 117.59653297808792]"
     ]
    },
    {
     "name": "stdout",
     "output_type": "stream",
     "text": [
      "\r",
      " 95%|█████████▍| 1424/1500 [01:34<00:07, 10.68trial/s, best loss: 117.59653297808792]"
     ]
    },
    {
     "name": "stdout",
     "output_type": "stream",
     "text": [
      "\r",
      " 95%|█████████▌| 1426/1500 [01:34<00:06, 10.78trial/s, best loss: 117.59653297808792]"
     ]
    },
    {
     "name": "stdout",
     "output_type": "stream",
     "text": [
      "\r",
      " 95%|█████████▌| 1428/1500 [01:34<00:06, 10.80trial/s, best loss: 117.59653297808792]"
     ]
    },
    {
     "name": "stdout",
     "output_type": "stream",
     "text": [
      "\r",
      " 95%|█████████▌| 1430/1500 [01:34<00:06, 10.80trial/s, best loss: 117.59653297808792]"
     ]
    },
    {
     "name": "stdout",
     "output_type": "stream",
     "text": [
      "\r",
      " 95%|█████████▌| 1432/1500 [01:34<00:06, 10.82trial/s, best loss: 117.59653297808792]"
     ]
    },
    {
     "name": "stdout",
     "output_type": "stream",
     "text": [
      "\r",
      " 96%|█████████▌| 1434/1500 [01:34<00:06, 10.83trial/s, best loss: 117.59653297808792]"
     ]
    },
    {
     "name": "stdout",
     "output_type": "stream",
     "text": [
      "\r",
      " 96%|█████████▌| 1436/1500 [01:35<00:05, 10.80trial/s, best loss: 117.59653297808792]"
     ]
    },
    {
     "name": "stdout",
     "output_type": "stream",
     "text": [
      "\r",
      " 96%|█████████▌| 1438/1500 [01:35<00:05, 10.83trial/s, best loss: 117.59653297808792]"
     ]
    },
    {
     "name": "stdout",
     "output_type": "stream",
     "text": [
      "\r",
      " 96%|█████████▌| 1440/1500 [01:35<00:05, 10.82trial/s, best loss: 117.59653297808792]"
     ]
    },
    {
     "name": "stdout",
     "output_type": "stream",
     "text": [
      "\r",
      " 96%|█████████▌| 1442/1500 [01:35<00:05, 10.75trial/s, best loss: 117.59653297808792]"
     ]
    },
    {
     "name": "stdout",
     "output_type": "stream",
     "text": [
      "\r",
      " 96%|█████████▋| 1444/1500 [01:35<00:05,  9.60trial/s, best loss: 117.59653297808792]"
     ]
    },
    {
     "name": "stdout",
     "output_type": "stream",
     "text": [
      "\r",
      " 96%|█████████▋| 1446/1500 [01:36<00:05,  9.87trial/s, best loss: 117.59653297808792]"
     ]
    },
    {
     "name": "stdout",
     "output_type": "stream",
     "text": [
      "\r",
      " 97%|█████████▋| 1448/1500 [01:36<00:05, 10.05trial/s, best loss: 117.59653297808792]"
     ]
    },
    {
     "name": "stdout",
     "output_type": "stream",
     "text": [
      "\r",
      " 97%|█████████▋| 1450/1500 [01:36<00:04, 10.06trial/s, best loss: 117.59653297808792]"
     ]
    },
    {
     "name": "stdout",
     "output_type": "stream",
     "text": [
      "\r",
      " 97%|█████████▋| 1452/1500 [01:36<00:04,  9.97trial/s, best loss: 117.59653297808792]"
     ]
    },
    {
     "name": "stdout",
     "output_type": "stream",
     "text": [
      "\r",
      " 97%|█████████▋| 1454/1500 [01:36<00:04, 10.15trial/s, best loss: 117.59653297808792]"
     ]
    },
    {
     "name": "stdout",
     "output_type": "stream",
     "text": [
      "\r",
      " 97%|█████████▋| 1456/1500 [01:37<00:04, 10.29trial/s, best loss: 117.59653297808792]"
     ]
    },
    {
     "name": "stdout",
     "output_type": "stream",
     "text": [
      "\r",
      " 97%|█████████▋| 1458/1500 [01:37<00:04, 10.44trial/s, best loss: 117.59653297808792]"
     ]
    },
    {
     "name": "stdout",
     "output_type": "stream",
     "text": [
      "\r",
      " 97%|█████████▋| 1460/1500 [01:37<00:03, 10.54trial/s, best loss: 117.59653297808792]"
     ]
    },
    {
     "name": "stdout",
     "output_type": "stream",
     "text": [
      "\r",
      " 97%|█████████▋| 1462/1500 [01:37<00:03, 10.57trial/s, best loss: 117.59653297808792]"
     ]
    },
    {
     "name": "stdout",
     "output_type": "stream",
     "text": [
      "\r",
      " 98%|█████████▊| 1464/1500 [01:37<00:03, 10.57trial/s, best loss: 117.59653297808792]"
     ]
    },
    {
     "name": "stdout",
     "output_type": "stream",
     "text": [
      "\r",
      " 98%|█████████▊| 1466/1500 [01:38<00:03, 10.58trial/s, best loss: 117.59653297808792]"
     ]
    },
    {
     "name": "stdout",
     "output_type": "stream",
     "text": [
      "\r",
      " 98%|█████████▊| 1468/1500 [01:38<00:03, 10.59trial/s, best loss: 117.59653297808792]"
     ]
    },
    {
     "name": "stdout",
     "output_type": "stream",
     "text": [
      "\r",
      " 98%|█████████▊| 1470/1500 [01:38<00:02, 10.53trial/s, best loss: 117.59653297808792]"
     ]
    },
    {
     "name": "stdout",
     "output_type": "stream",
     "text": [
      "\r",
      " 98%|█████████▊| 1472/1500 [01:38<00:02, 10.51trial/s, best loss: 117.59653297808792]"
     ]
    },
    {
     "name": "stdout",
     "output_type": "stream",
     "text": [
      "\r",
      " 98%|█████████▊| 1474/1500 [01:38<00:02, 10.50trial/s, best loss: 117.59653297808792]"
     ]
    },
    {
     "name": "stdout",
     "output_type": "stream",
     "text": [
      "\r",
      " 98%|█████████▊| 1476/1500 [01:39<00:02, 10.53trial/s, best loss: 117.59653297808792]"
     ]
    },
    {
     "name": "stdout",
     "output_type": "stream",
     "text": [
      "\r",
      " 99%|█████████▊| 1478/1500 [01:39<00:02, 10.52trial/s, best loss: 117.59653297808792]"
     ]
    },
    {
     "name": "stdout",
     "output_type": "stream",
     "text": [
      "\r",
      " 99%|█████████▊| 1480/1500 [01:39<00:01, 10.53trial/s, best loss: 117.59653297808792]"
     ]
    },
    {
     "name": "stdout",
     "output_type": "stream",
     "text": [
      "\r",
      " 99%|█████████▉| 1482/1500 [01:39<00:01, 10.56trial/s, best loss: 117.59653297808792]"
     ]
    },
    {
     "name": "stdout",
     "output_type": "stream",
     "text": [
      "\r",
      " 99%|█████████▉| 1484/1500 [01:39<00:01,  9.45trial/s, best loss: 117.59653297808792]"
     ]
    },
    {
     "name": "stdout",
     "output_type": "stream",
     "text": [
      "\r",
      " 99%|█████████▉| 1486/1500 [01:40<00:01,  9.72trial/s, best loss: 117.59653297808792]"
     ]
    },
    {
     "name": "stdout",
     "output_type": "stream",
     "text": [
      "\r",
      " 99%|█████████▉| 1488/1500 [01:40<00:01,  9.93trial/s, best loss: 117.59653297808792]"
     ]
    },
    {
     "name": "stdout",
     "output_type": "stream",
     "text": [
      "\r",
      " 99%|█████████▉| 1490/1500 [01:40<00:00, 10.05trial/s, best loss: 117.59653297808792]"
     ]
    },
    {
     "name": "stdout",
     "output_type": "stream",
     "text": [
      "\r",
      " 99%|█████████▉| 1492/1500 [01:40<00:00, 10.08trial/s, best loss: 117.59653297808792]"
     ]
    },
    {
     "name": "stdout",
     "output_type": "stream",
     "text": [
      "\r",
      "100%|█████████▉| 1494/1500 [01:40<00:00, 10.21trial/s, best loss: 117.59653297808792]"
     ]
    },
    {
     "name": "stdout",
     "output_type": "stream",
     "text": [
      "\r",
      "100%|█████████▉| 1496/1500 [01:41<00:00, 10.27trial/s, best loss: 117.59653297808792]"
     ]
    },
    {
     "name": "stdout",
     "output_type": "stream",
     "text": [
      "\r",
      "100%|█████████▉| 1498/1500 [01:41<00:00, 10.36trial/s, best loss: 117.59653297808792]"
     ]
    },
    {
     "name": "stdout",
     "output_type": "stream",
     "text": [
      "\r",
      "100%|██████████| 1500/1500 [01:41<00:00, 10.39trial/s, best loss: 117.59653297808792]"
     ]
    },
    {
     "name": "stdout",
     "output_type": "stream",
     "text": [
      "\r",
      "100%|██████████| 1500/1500 [01:41<00:00, 14.79trial/s, best loss: 117.59653297808792]"
     ]
    },
    {
     "name": "stdout",
     "output_type": "stream",
     "text": [
      "\n",
      "Best parameters found: {'alpha_1': 0.9993811353979996, 'alpha_2': 0.991308532597505, 'beta_1': 0.9768247305758874, 'beta_2': 0.6030603884605572, 'duration_1': 11.610079557705006, 'duration_2': 14.646595896660475, 'gamma_1': 0.7508610642336173, 'gamma_2': 0.5906769502530215}\n"
     ]
    }
   ],
   "source": [
    "space = \\\n",
    "    {'dynamic':\\\n",
    "        ([{'alpha': hyperopt.hp.uniform('alpha_1', 0.99, 1.0), 'beta': hyperopt.hp.uniform('beta_1', 0.0, 1.0), \n",
    "           'gamma': hyperopt.hp.uniform('gamma_1', 0.0, 1.0),\n",
    "           'duration': hyperopt.hp.uniform('duration_1', 10.0, 30.0)}, \n",
    "           {'alpha': hyperopt.hp.uniform('alpha_2', 0.99, 1.0), 'beta': hyperopt.hp.uniform('beta_2', 0.0, 1.0), \n",
    "           'gamma': hyperopt.hp.uniform('gamma_2', 0.0, 1.0),\n",
    "           'duration': hyperopt.hp.uniform('duration_2', 0.0, 30.0)}], \n",
    "        0, None)\n",
    "    }\n",
    "\n",
    "trials = hyperopt.Trials()\n",
    "best = hyperopt.fmin(objective_for_simulation, space, algo=hyperopt.tpe.suggest, max_evals=1500, trials=trials)\n",
    "\n",
    "print(\"Best parameters found:\", best)"
   ]
  },
  {
   "cell_type": "code",
   "execution_count": 46,
   "metadata": {
    "execution": {
     "iopub.execute_input": "2020-04-07T23:19:27.140491Z",
     "iopub.status.busy": "2020-04-07T23:19:27.139482Z",
     "iopub.status.idle": "2020-04-07T23:19:27.141208Z",
     "shell.execute_reply": "2020-04-07T23:19:27.141818Z"
    },
    "papermill": {
     "duration": 0.372244,
     "end_time": "2020-04-07T23:19:27.141957",
     "exception": false,
     "start_time": "2020-04-07T23:19:26.769713",
     "status": "completed"
    },
    "tags": []
   },
   "outputs": [],
   "source": [
    "alpha = dynamic_parameter([(best['alpha_1'], best['duration_1']), \n",
    "                           (best['alpha_2'], best['duration_2'])],\n",
    "                         min_length=epidemic_duration_in_days)\n",
    "\n",
    "beta = dynamic_parameter([(best['beta_1'], best['duration_1']), \n",
    "                           (best['beta_2'], best['duration_2'])],\n",
    "                         min_length=epidemic_duration_in_days)\n",
    "\n",
    "gamma = dynamic_parameter([(best['gamma_1'], best['duration_1']), \n",
    "                           (best['gamma_2'], best['duration_2'])],\n",
    "                         min_length=epidemic_duration_in_days)"
   ]
  },
  {
   "cell_type": "markdown",
   "metadata": {
    "papermill": {
     "duration": 0.349867,
     "end_time": "2020-04-07T23:19:27.841558",
     "exception": false,
     "start_time": "2020-04-07T23:19:27.491691",
     "status": "completed"
    },
    "tags": []
   },
   "source": [
    "Comparando as versões com e sem mitigação, temos o seguinte."
   ]
  },
  {
   "cell_type": "code",
   "execution_count": 47,
   "metadata": {
    "execution": {
     "iopub.execute_input": "2020-04-07T23:19:28.571701Z",
     "iopub.status.busy": "2020-04-07T23:19:28.570875Z",
     "iopub.status.idle": "2020-04-07T23:19:31.258473Z",
     "shell.execute_reply": "2020-04-07T23:19:31.257974Z"
    },
    "papermill": {
     "duration": 3.064444,
     "end_time": "2020-04-07T23:19:31.258571",
     "exception": false,
     "start_time": "2020-04-07T23:19:28.194127",
     "status": "completed"
    },
    "tags": []
   },
   "outputs": [
    {
     "data": {
      "image/png": "[encoded data removed]",
      "text/plain": [
       "<Figure size 1152x576 with 1 Axes>"
      ]
     },
     "metadata": {},
     "output_type": "display_data"
    },
    {
     "data": {
      "image/png": "[encoded data removed]",
      "text/plain": [
       "<Figure size 1152x576 with 1 Axes>"
      ]
     },
     "metadata": {},
     "output_type": "display_data"
    },
    {
     "data": {
      "image/png": "[encoded data removed]",
      "text/plain": [
       "<Figure size 1152x576 with 1 Axes>"
      ]
     },
     "metadata": {},
     "output_type": "display_data"
    },
    {
     "data": {
      "text/plain": [
       "<Figure size 1152x576 with 0 Axes>"
      ]
     },
     "metadata": {},
     "output_type": "display_data"
    }
   ],
   "source": [
    "df_simulation_mitigation_data = simulate(S=population_size - initially_infected, \n",
    "                                          E=initially_infected,\n",
    "                                          I=0,\n",
    "                                          R=0, \n",
    "                                          alpha=alpha, beta=beta, gamma=gamma, \n",
    "                                          epidemic_start_date=epidemic_start_date, \n",
    "                                          epidemic_duration_in_days=epidemic_duration_in_days, \n",
    "                                          s_func=s, \n",
    "                                          e_func=e,\n",
    "                                          i_func=i, \n",
    "                                          r_func=r,\n",
    "                                          e_delta_func=e_delta,\n",
    "                                          i_delta_func=i_delta,\n",
    "                                          r_delta_func=r_delta)\n",
    "\n",
    "plot_simulation_output(df_simulation_mitigation_data, zoom_on='2020-04-29', zoom_length=20, file_name='dynamic')"
   ]
  },
  {
   "cell_type": "markdown",
   "metadata": {
    "papermill": {
     "duration": 0.382698,
     "end_time": "2020-04-07T23:19:32.003266",
     "exception": false,
     "start_time": "2020-04-07T23:19:31.620568",
     "status": "completed"
    },
    "tags": []
   },
   "source": [
    "Como isso essa versão com mitigação se compara visualmente com os dados reais observados?"
   ]
  },
  {
   "cell_type": "code",
   "execution_count": 48,
   "metadata": {
    "execution": {
     "iopub.execute_input": "2020-04-07T23:19:32.751468Z",
     "iopub.status.busy": "2020-04-07T23:19:32.743198Z",
     "iopub.status.idle": "2020-04-07T23:19:33.486937Z",
     "shell.execute_reply": "2020-04-07T23:19:33.486217Z"
    },
    "papermill": {
     "duration": 1.123461,
     "end_time": "2020-04-07T23:19:33.487033",
     "exception": false,
     "start_time": "2020-04-07T23:19:32.363572",
     "status": "completed"
    },
    "tags": []
   },
   "outputs": [
    {
     "data": {
      "image/png": "[encoded data removed]",
      "text/plain": [
       "<Figure size 1152x576 with 1 Axes>"
      ]
     },
     "metadata": {},
     "output_type": "display_data"
    }
   ],
   "source": [
    "comparison_date = pd.Timestamp.today() - pd.DateOffset(days=3)\n",
    "df_simulation_mitigated_vs_real = pd.concat([df_simulation_mitigation_data, df_data_target], axis=1)\n",
    "ax = sns.lineplot(data=df_simulation_mitigated_vs_real[['E+I','E+I+R', 'total_cases', 'total_cases_ESTIMATED']]\\\n",
    "                                       [comparison_date - pd.DateOffset(days=20):comparison_date], \n",
    "             markers=True)\n",
    "\n",
    "ax.set_title(f'Simulação (E+I) frente aos dados históriocos. Linha vertical=estimativa da primeira intervenção.')\n",
    "intervention_date_1 = epidemic_start_date + pd.DateOffset(days=int(best['duration_1']))\n",
    "plt.axvline(intervention_date_1, color='red')\n",
    "\n",
    "ax.figure.savefig(results_folder + 'seir_dynamic_fit_zoom' + f'_{target_location.lower()}' + results_suffix + '.png', \n",
    "                  format='png')"
   ]
  },
  {
   "cell_type": "markdown",
   "metadata": {
    "papermill": {
     "duration": 0.357951,
     "end_time": "2020-04-07T23:19:34.218904",
     "exception": false,
     "start_time": "2020-04-07T23:19:33.860953",
     "status": "completed"
    },
    "tags": []
   },
   "source": [
    "Finalmente, comparemos os casos com e sem mitigação."
   ]
  },
  {
   "cell_type": "code",
   "execution_count": 49,
   "metadata": {
    "execution": {
     "iopub.execute_input": "2020-04-07T23:19:34.966110Z",
     "iopub.status.busy": "2020-04-07T23:19:34.964803Z",
     "iopub.status.idle": "2020-04-07T23:19:35.590836Z",
     "shell.execute_reply": "2020-04-07T23:19:35.591505Z"
    },
    "papermill": {
     "duration": 1.012926,
     "end_time": "2020-04-07T23:19:35.591643",
     "exception": false,
     "start_time": "2020-04-07T23:19:34.578717",
     "status": "completed"
    },
    "tags": []
   },
   "outputs": [
    {
     "data": {
      "image/png": "[encoded data removed]",
      "text/plain": [
       "<Figure size 1152x576 with 1 Axes>"
      ]
     },
     "metadata": {},
     "output_type": "display_data"
    }
   ],
   "source": [
    "ax = sns.lineplot(data=pd.concat([df_simulation_data['E+I'].rename('Sem mitigação'), \n",
    "                                 df_simulation_mitigation_data['E+I'].rename('Com mitigação')], axis=1)['2020-03':'2020-07'])\n",
    "\n",
    "ax.figure.savefig(results_folder + 'seir_constant_vs_dynamic' + f'_{target_location.lower()}' + results_suffix + '.png', \n",
    "                  format='png')"
   ]
  },
  {
   "cell_type": "markdown",
   "metadata": {
    "papermill": {
     "duration": 0.361715,
     "end_time": "2020-04-07T23:19:36.314083",
     "exception": false,
     "start_time": "2020-04-07T23:19:35.952368",
     "status": "completed"
    },
    "tags": []
   },
   "source": [
    "Salvemos os resultados."
   ]
  },
  {
   "cell_type": "code",
   "execution_count": 50,
   "metadata": {
    "execution": {
     "iopub.execute_input": "2020-04-07T23:19:37.101793Z",
     "iopub.status.busy": "2020-04-07T23:19:37.101249Z",
     "iopub.status.idle": "2020-04-07T23:19:37.148944Z",
     "shell.execute_reply": "2020-04-07T23:19:37.147623Z"
    },
    "papermill": {
     "duration": 0.418932,
     "end_time": "2020-04-07T23:19:37.149065",
     "exception": false,
     "start_time": "2020-04-07T23:19:36.730133",
     "status": "completed"
    },
    "tags": []
   },
   "outputs": [],
   "source": [
    "df_simulation_mitigation_data.to_csv(results_folder + f'seir_dynamic_model_output.{target_location.lower()}.csv')"
   ]
  },
  {
   "cell_type": "code",
   "execution_count": null,
   "metadata": {
    "papermill": {
     "duration": 0.364154,
     "end_time": "2020-04-07T23:19:37.884437",
     "exception": false,
     "start_time": "2020-04-07T23:19:37.520283",
     "status": "completed"
    },
    "tags": []
   },
   "outputs": [],
   "source": []
  }
 ],
 "metadata": {
  "kernelspec": {
   "display_name": "Python 3 (Data Science)",
   "language": "python",
   "name": "python3__SAGEMAKER_INTERNAL__arn:aws:sagemaker:us-east-2:429704687514:environment/datascience"
  },
  "language_info": {
   "codemirror_mode": {
    "name": "ipython",
    "version": 3
   },
   "file_extension": ".py",
   "mimetype": "text/x-python",
   "name": "python",
   "nbconvert_exporter": "python",
   "pygments_lexer": "ipython3",
   "version": "3.7.6"
  },
  "papermill": {
   "duration": 151.349593,
   "end_time": "2020-04-07T23:19:38.360866",
   "environment_variables": {},
   "exception": null,
   "input_path": "./epidemic_model_seir.ipynb",
   "output_path": "../results/notebooks/epidemic_model_seir.south korea.ipynb",
   "parameters": {
    "infer_parameters_from_data": true,
    "results_suffix": ".south korea",
    "target_location": "South Korea"
   },
   "start_time": "2020-04-07T23:17:07.011273",
   "version": "2.1.0"
  }
 },
 "nbformat": 4,
 "nbformat_minor": 4
}